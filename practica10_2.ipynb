{
  "nbformat": 4,
  "nbformat_minor": 0,
  "metadata": {
    "accelerator": "GPU",
    "colab": {
      "name": "practica10_2.ipynb",
      "provenance": [],
      "include_colab_link": true
    },
    "kernelspec": {
      "display_name": "Python 3",
      "language": "python",
      "name": "python3"
    },
    "language_info": {
      "codemirror_mode": {
        "name": "ipython",
        "version": 3
      },
      "file_extension": ".py",
      "mimetype": "text/x-python",
      "name": "python",
      "nbconvert_exporter": "python",
      "pygments_lexer": "ipython3",
      "version": "3.6.7"
    }
  },
  "cells": [
    {
      "cell_type": "markdown",
      "metadata": {
        "id": "view-in-github",
        "colab_type": "text"
      },
      "source": [
        "<a href=\"https://colab.research.google.com/github/pacastl/PruebaIA/blob/main/practica10_2.ipynb\" target=\"_parent\"><img src=\"https://colab.research.google.com/assets/colab-badge.svg\" alt=\"Open In Colab\"/></a>"
      ]
    },
    {
      "cell_type": "markdown",
      "metadata": {
        "id": "Ktqyo1zqtwig"
      },
      "source": [
        "# Práctica 10.2: Filtrado colaborativo\n",
        " \n",
        "En este notebook vamos a utilizar las técnicas de filtrado colaborativo para realizar predicciones sobre películas, en concreto queremos ser capaces de predecir la valoración de un usuario para una película que no haya visto. Para ello vamos a usar el dasaset [MovieLens](https://www.kaggle.com/grouplens/movielens-20m-dataset).\n",
        "\n",
        "Este notebook está basado en el curso sobre embeddings de [Kaggle](https://www.kaggle.com/learn/embeddings). "
      ]
    },
    {
      "cell_type": "markdown",
      "metadata": {
        "id": "divkBCait7P-"
      },
      "source": [
        "## Preparando el entorno\n",
        "\n",
        "Comenzamos descargando el dataset que consta de dos ficheros. El fichero movie.csv contiene información sobre las distintas películas de nuestro dataset y el fichero rating.csv contiene las valoraciones. "
      ]
    },
    {
      "cell_type": "code",
      "metadata": {
        "id": "wZzjpFCIvUDf",
        "outputId": "9a98bc16-66bf-43db-ed8d-b87eca7da1e0",
        "colab": {
          "base_uri": "https://localhost:8080/"
        }
      },
      "source": [
        "!wget https://www.dropbox.com/s/85ypr2uh1nj9ifr/movie.csv?dl=0 -O movie.csv\n",
        "!wget https://www.dropbox.com/s/00rfbh4rfwte4is/rating.csv?dl=0 -O rating.csv"
      ],
      "execution_count": 1,
      "outputs": [
        {
          "output_type": "stream",
          "name": "stdout",
          "text": [
            "--2023-05-22 14:25:43--  https://www.dropbox.com/s/85ypr2uh1nj9ifr/movie.csv?dl=0\n",
            "Resolving www.dropbox.com (www.dropbox.com)... 162.125.2.18, 2620:100:6027:18::a27d:4812\n",
            "Connecting to www.dropbox.com (www.dropbox.com)|162.125.2.18|:443... connected.\n",
            "HTTP request sent, awaiting response... 302 Found\n",
            "Location: /s/raw/85ypr2uh1nj9ifr/movie.csv [following]\n",
            "--2023-05-22 14:25:44--  https://www.dropbox.com/s/raw/85ypr2uh1nj9ifr/movie.csv\n",
            "Reusing existing connection to www.dropbox.com:443.\n",
            "HTTP request sent, awaiting response... 302 Found\n",
            "Location: https://ucc34958c7f766ad60203e56fd13.dl.dropboxusercontent.com/cd/0/inline/B8jDYl8vjsLCw_B7gqdl0TfIGhosIiXC_pzD6yZMHZgiXuQ1FUjIv7HAsZQef0HRMMj9ZJFvW89x6fPDmTq5cgHFQ6nCPZ7zGC3ta9JMZwTYMKjmJ0c1OOhUygNK0Bn75ah-2jITjmdJtP6DD9pAL7hGsNZq6VjtiNQ50MrbRPB__A/file# [following]\n",
            "--2023-05-22 14:25:44--  https://ucc34958c7f766ad60203e56fd13.dl.dropboxusercontent.com/cd/0/inline/B8jDYl8vjsLCw_B7gqdl0TfIGhosIiXC_pzD6yZMHZgiXuQ1FUjIv7HAsZQef0HRMMj9ZJFvW89x6fPDmTq5cgHFQ6nCPZ7zGC3ta9JMZwTYMKjmJ0c1OOhUygNK0Bn75ah-2jITjmdJtP6DD9pAL7hGsNZq6VjtiNQ50MrbRPB__A/file\n",
            "Resolving ucc34958c7f766ad60203e56fd13.dl.dropboxusercontent.com (ucc34958c7f766ad60203e56fd13.dl.dropboxusercontent.com)... 162.125.65.15, 2620:100:6027:15::a27d:480f\n",
            "Connecting to ucc34958c7f766ad60203e56fd13.dl.dropboxusercontent.com (ucc34958c7f766ad60203e56fd13.dl.dropboxusercontent.com)|162.125.65.15|:443... connected.\n",
            "HTTP request sent, awaiting response... 200 OK\n",
            "Length: 2444966 (2.3M) [text/plain]\n",
            "Saving to: ‘movie.csv’\n",
            "\n",
            "movie.csv           100%[===================>]   2.33M  --.-KB/s    in 0.1s    \n",
            "\n",
            "2023-05-22 14:25:45 (23.4 MB/s) - ‘movie.csv’ saved [2444966/2444966]\n",
            "\n",
            "--2023-05-22 14:25:45--  https://www.dropbox.com/s/00rfbh4rfwte4is/rating.csv?dl=0\n",
            "Resolving www.dropbox.com (www.dropbox.com)... 162.125.65.18, 2620:100:6027:18::a27d:4812\n",
            "Connecting to www.dropbox.com (www.dropbox.com)|162.125.65.18|:443... connected.\n",
            "HTTP request sent, awaiting response... 302 Found\n",
            "Location: /s/raw/00rfbh4rfwte4is/rating.csv [following]\n",
            "--2023-05-22 14:25:45--  https://www.dropbox.com/s/raw/00rfbh4rfwte4is/rating.csv\n",
            "Reusing existing connection to www.dropbox.com:443.\n",
            "HTTP request sent, awaiting response... 302 Found\n",
            "Location: https://uc0f590768e0f7f4ab77acd9488f.dl.dropboxusercontent.com/cd/0/inline/B8gtomM2vTgoLDAQ54y0kNfIwzCADor6Ofs0seJeYbCoWUFSwUUPPwC-6aQoXgewIWFok3d4gWpDrmZryOdat1N4jgkC1rxYOtW9JZ8csUHZ1JajFio_YsQgA8kiFw4Xp1Gcjvlq07vi_mHujl7oE7P_1ebKU10wXmuPl3xNpL4syw/file# [following]\n",
            "--2023-05-22 14:25:46--  https://uc0f590768e0f7f4ab77acd9488f.dl.dropboxusercontent.com/cd/0/inline/B8gtomM2vTgoLDAQ54y0kNfIwzCADor6Ofs0seJeYbCoWUFSwUUPPwC-6aQoXgewIWFok3d4gWpDrmZryOdat1N4jgkC1rxYOtW9JZ8csUHZ1JajFio_YsQgA8kiFw4Xp1Gcjvlq07vi_mHujl7oE7P_1ebKU10wXmuPl3xNpL4syw/file\n",
            "Resolving uc0f590768e0f7f4ab77acd9488f.dl.dropboxusercontent.com (uc0f590768e0f7f4ab77acd9488f.dl.dropboxusercontent.com)... 162.125.66.15, 2620:100:6021:15::a27d:410f\n",
            "Connecting to uc0f590768e0f7f4ab77acd9488f.dl.dropboxusercontent.com (uc0f590768e0f7f4ab77acd9488f.dl.dropboxusercontent.com)|162.125.66.15|:443... connected.\n",
            "HTTP request sent, awaiting response... 200 OK\n",
            "Length: 697372279 (665M) [text/plain]\n",
            "Saving to: ‘rating.csv’\n",
            "\n",
            "rating.csv          100%[===================>] 665.07M  20.6MB/s    in 34s     \n",
            "\n",
            "2023-05-22 14:26:21 (19.5 MB/s) - ‘rating.csv’ saved [697372279/697372279]\n",
            "\n"
          ]
        }
      ]
    },
    {
      "cell_type": "markdown",
      "metadata": {
        "id": "GAdMFNi3vkPt"
      },
      "source": [
        "Importamos a continuación las librerías que van a ser necesarias. En concreto, la librería más relevante que vamos a usar es la de Keras que será la que utilicemos para construir nuestro modelo. "
      ]
    },
    {
      "cell_type": "code",
      "metadata": {
        "id": "hqVRLc3Kve2P"
      },
      "source": [
        "import numpy as np\n",
        "import pandas as pd\n",
        "from matplotlib import pyplot as plt\n",
        "import tensorflow as tf\n",
        "from tensorflow import keras\n",
        "import random\n",
        "from sklearn.model_selection import train_test_split\n",
        "from sklearn import metrics\n",
        "%matplotlib inline"
      ],
      "execution_count": 2,
      "outputs": []
    },
    {
      "cell_type": "markdown",
      "metadata": {
        "id": "BuUkDG73vx7U"
      },
      "source": [
        "Vamos a fijar las semillas de cara a poder reproducir los resultados. "
      ]
    },
    {
      "cell_type": "code",
      "metadata": {
        "id": "P8h9hDUAvwtN"
      },
      "source": [
        "tf.random.set_seed(1)\n",
        "np.random.seed(1)\n",
        "random.seed(1)"
      ],
      "execution_count": 3,
      "outputs": []
    },
    {
      "cell_type": "markdown",
      "metadata": {
        "id": "czhR4B0awBmz"
      },
      "source": [
        "Cargamos los datos de los dos ficheros csv que hemos descargado anteriormente en dos dataframes usando la librería pandas. "
      ]
    },
    {
      "cell_type": "code",
      "metadata": {
        "id": "2BoauCY_v_AU"
      },
      "source": [
        "ratings_df = pd.read_csv('rating.csv', usecols=['userId', 'movieId', 'rating', 'y'])\n",
        "movies_df = pd.read_csv('movie.csv', usecols=['movieId', 'title', 'year','genres','n_ratings'])"
      ],
      "execution_count": 4,
      "outputs": []
    },
    {
      "cell_type": "markdown",
      "metadata": {
        "id": "me3M23KUxrQK"
      },
      "source": [
        "Combinamos ambos ficheros y mostramos una pequeña muestra de los mismos. "
      ]
    },
    {
      "cell_type": "code",
      "metadata": {
        "id": "lBKeDo3twbma",
        "outputId": "9f2995ac-375f-4ceb-c89a-b9fbf8bdd239",
        "colab": {
          "base_uri": "https://localhost:8080/",
          "height": 409
        }
      },
      "source": [
        "df = ratings_df.merge(movies_df, on='movieId').sort_values(by='userId')\n",
        "df = df.sample(frac=1, random_state=1)\n",
        "df.sample(5, random_state=1)"
      ],
      "execution_count": 5,
      "outputs": [
        {
          "output_type": "execute_result",
          "data": {
            "text/plain": [
              "          userId  movieId  rating         y                      title  \\\n",
              "12904240   85731     1883     4.5  0.974498                  Labyrinth   \n",
              "6089380    45008     1221     4.5  0.974498  Femme Nikita, La (Nikita)   \n",
              "17901393  125144     3948     4.0  0.474498                  The Alamo   \n",
              "9024816   122230     3027     3.5 -0.025502                Toy Story 2   \n",
              "11655659   21156     5202     3.0 -0.525502   My Big Fat Greek Wedding   \n",
              "\n",
              "                                               genres  year  n_ratings  \n",
              "12904240                    Adventure|Fantasy|Musical  1986       8305  \n",
              "6089380                 Action|Crime|Romance|Thriller  1990       9227  \n",
              "17901393                     Action|Drama|War|Western  1960        623  \n",
              "9024816   Adventure|Animation|Children|Comedy|Fantasy  1999      22770  \n",
              "11655659                               Comedy|Romance  2002      10190  "
            ],
            "text/html": [
              "\n",
              "  <div id=\"df-011e690d-1f5d-4222-8c8c-3b58f8dbf79a\">\n",
              "    <div class=\"colab-df-container\">\n",
              "      <div>\n",
              "<style scoped>\n",
              "    .dataframe tbody tr th:only-of-type {\n",
              "        vertical-align: middle;\n",
              "    }\n",
              "\n",
              "    .dataframe tbody tr th {\n",
              "        vertical-align: top;\n",
              "    }\n",
              "\n",
              "    .dataframe thead th {\n",
              "        text-align: right;\n",
              "    }\n",
              "</style>\n",
              "<table border=\"1\" class=\"dataframe\">\n",
              "  <thead>\n",
              "    <tr style=\"text-align: right;\">\n",
              "      <th></th>\n",
              "      <th>userId</th>\n",
              "      <th>movieId</th>\n",
              "      <th>rating</th>\n",
              "      <th>y</th>\n",
              "      <th>title</th>\n",
              "      <th>genres</th>\n",
              "      <th>year</th>\n",
              "      <th>n_ratings</th>\n",
              "    </tr>\n",
              "  </thead>\n",
              "  <tbody>\n",
              "    <tr>\n",
              "      <th>12904240</th>\n",
              "      <td>85731</td>\n",
              "      <td>1883</td>\n",
              "      <td>4.5</td>\n",
              "      <td>0.974498</td>\n",
              "      <td>Labyrinth</td>\n",
              "      <td>Adventure|Fantasy|Musical</td>\n",
              "      <td>1986</td>\n",
              "      <td>8305</td>\n",
              "    </tr>\n",
              "    <tr>\n",
              "      <th>6089380</th>\n",
              "      <td>45008</td>\n",
              "      <td>1221</td>\n",
              "      <td>4.5</td>\n",
              "      <td>0.974498</td>\n",
              "      <td>Femme Nikita, La (Nikita)</td>\n",
              "      <td>Action|Crime|Romance|Thriller</td>\n",
              "      <td>1990</td>\n",
              "      <td>9227</td>\n",
              "    </tr>\n",
              "    <tr>\n",
              "      <th>17901393</th>\n",
              "      <td>125144</td>\n",
              "      <td>3948</td>\n",
              "      <td>4.0</td>\n",
              "      <td>0.474498</td>\n",
              "      <td>The Alamo</td>\n",
              "      <td>Action|Drama|War|Western</td>\n",
              "      <td>1960</td>\n",
              "      <td>623</td>\n",
              "    </tr>\n",
              "    <tr>\n",
              "      <th>9024816</th>\n",
              "      <td>122230</td>\n",
              "      <td>3027</td>\n",
              "      <td>3.5</td>\n",
              "      <td>-0.025502</td>\n",
              "      <td>Toy Story 2</td>\n",
              "      <td>Adventure|Animation|Children|Comedy|Fantasy</td>\n",
              "      <td>1999</td>\n",
              "      <td>22770</td>\n",
              "    </tr>\n",
              "    <tr>\n",
              "      <th>11655659</th>\n",
              "      <td>21156</td>\n",
              "      <td>5202</td>\n",
              "      <td>3.0</td>\n",
              "      <td>-0.525502</td>\n",
              "      <td>My Big Fat Greek Wedding</td>\n",
              "      <td>Comedy|Romance</td>\n",
              "      <td>2002</td>\n",
              "      <td>10190</td>\n",
              "    </tr>\n",
              "  </tbody>\n",
              "</table>\n",
              "</div>\n",
              "      <button class=\"colab-df-convert\" onclick=\"convertToInteractive('df-011e690d-1f5d-4222-8c8c-3b58f8dbf79a')\"\n",
              "              title=\"Convert this dataframe to an interactive table.\"\n",
              "              style=\"display:none;\">\n",
              "        \n",
              "  <svg xmlns=\"http://www.w3.org/2000/svg\" height=\"24px\"viewBox=\"0 0 24 24\"\n",
              "       width=\"24px\">\n",
              "    <path d=\"M0 0h24v24H0V0z\" fill=\"none\"/>\n",
              "    <path d=\"M18.56 5.44l.94 2.06.94-2.06 2.06-.94-2.06-.94-.94-2.06-.94 2.06-2.06.94zm-11 1L8.5 8.5l.94-2.06 2.06-.94-2.06-.94L8.5 2.5l-.94 2.06-2.06.94zm10 10l.94 2.06.94-2.06 2.06-.94-2.06-.94-.94-2.06-.94 2.06-2.06.94z\"/><path d=\"M17.41 7.96l-1.37-1.37c-.4-.4-.92-.59-1.43-.59-.52 0-1.04.2-1.43.59L10.3 9.45l-7.72 7.72c-.78.78-.78 2.05 0 2.83L4 21.41c.39.39.9.59 1.41.59.51 0 1.02-.2 1.41-.59l7.78-7.78 2.81-2.81c.8-.78.8-2.07 0-2.86zM5.41 20L4 18.59l7.72-7.72 1.47 1.35L5.41 20z\"/>\n",
              "  </svg>\n",
              "      </button>\n",
              "      \n",
              "  <style>\n",
              "    .colab-df-container {\n",
              "      display:flex;\n",
              "      flex-wrap:wrap;\n",
              "      gap: 12px;\n",
              "    }\n",
              "\n",
              "    .colab-df-convert {\n",
              "      background-color: #E8F0FE;\n",
              "      border: none;\n",
              "      border-radius: 50%;\n",
              "      cursor: pointer;\n",
              "      display: none;\n",
              "      fill: #1967D2;\n",
              "      height: 32px;\n",
              "      padding: 0 0 0 0;\n",
              "      width: 32px;\n",
              "    }\n",
              "\n",
              "    .colab-df-convert:hover {\n",
              "      background-color: #E2EBFA;\n",
              "      box-shadow: 0px 1px 2px rgba(60, 64, 67, 0.3), 0px 1px 3px 1px rgba(60, 64, 67, 0.15);\n",
              "      fill: #174EA6;\n",
              "    }\n",
              "\n",
              "    [theme=dark] .colab-df-convert {\n",
              "      background-color: #3B4455;\n",
              "      fill: #D2E3FC;\n",
              "    }\n",
              "\n",
              "    [theme=dark] .colab-df-convert:hover {\n",
              "      background-color: #434B5C;\n",
              "      box-shadow: 0px 1px 3px 1px rgba(0, 0, 0, 0.15);\n",
              "      filter: drop-shadow(0px 1px 2px rgba(0, 0, 0, 0.3));\n",
              "      fill: #FFFFFF;\n",
              "    }\n",
              "  </style>\n",
              "\n",
              "      <script>\n",
              "        const buttonEl =\n",
              "          document.querySelector('#df-011e690d-1f5d-4222-8c8c-3b58f8dbf79a button.colab-df-convert');\n",
              "        buttonEl.style.display =\n",
              "          google.colab.kernel.accessAllowed ? 'block' : 'none';\n",
              "\n",
              "        async function convertToInteractive(key) {\n",
              "          const element = document.querySelector('#df-011e690d-1f5d-4222-8c8c-3b58f8dbf79a');\n",
              "          const dataTable =\n",
              "            await google.colab.kernel.invokeFunction('convertToInteractive',\n",
              "                                                     [key], {});\n",
              "          if (!dataTable) return;\n",
              "\n",
              "          const docLinkHtml = 'Like what you see? Visit the ' +\n",
              "            '<a target=\"_blank\" href=https://colab.research.google.com/notebooks/data_table.ipynb>data table notebook</a>'\n",
              "            + ' to learn more about interactive tables.';\n",
              "          element.innerHTML = '';\n",
              "          dataTable['output_type'] = 'display_data';\n",
              "          await google.colab.output.renderOutput(dataTable, element);\n",
              "          const docLink = document.createElement('div');\n",
              "          docLink.innerHTML = docLinkHtml;\n",
              "          element.appendChild(docLink);\n",
              "        }\n",
              "      </script>\n",
              "    </div>\n",
              "  </div>\n",
              "  "
            ]
          },
          "metadata": {},
          "execution_count": 5
        }
      ]
    },
    {
      "cell_type": "markdown",
      "metadata": {
        "id": "94zM4VKFx0Wh"
      },
      "source": [
        "Como hemos comentado en teoría, es importante notar que podemos tener cientos de usuarios y películas por lo que vamos a utilizar embeddings para representar a cada uno de ellos. En concreto, a continuación se muestra el número de películas y de usuarios de nuestro dataset. "
      ]
    },
    {
      "cell_type": "code",
      "metadata": {
        "id": "3C_4mnM0xxhT",
        "outputId": "03e8b271-1f24-44c3-f123-98dad2d73997",
        "colab": {
          "base_uri": "https://localhost:8080/"
        }
      },
      "source": [
        "print(\"Número de usuarios:\", len(df.userId.unique()))"
      ],
      "execution_count": 6,
      "outputs": [
        {
          "output_type": "stream",
          "name": "stdout",
          "text": [
            "Número de usuarios: 138493\n"
          ]
        }
      ]
    },
    {
      "cell_type": "code",
      "metadata": {
        "id": "GlmLv7lUzIBb",
        "outputId": "84131e07-a17b-4855-b975-ff7ec480f3b9",
        "colab": {
          "base_uri": "https://localhost:8080/"
        }
      },
      "source": [
        "print(\"Número de películas:\", len(df.movieId.unique()))"
      ],
      "execution_count": 7,
      "outputs": [
        {
          "output_type": "stream",
          "name": "stdout",
          "text": [
            "Número de películas: 26744\n"
          ]
        }
      ]
    },
    {
      "cell_type": "markdown",
      "metadata": {
        "id": "KPMMNODa6TVd"
      },
      "source": [
        "## Modelos de filtrado colaborativo\n",
        "\n",
        "Vamos a construir dos modelos, uno basado en una red neuronal y otro que va a utilizar el producto escalar, pero antes de eso vamos a construir dos modelos sencillos. "
      ]
    },
    {
      "cell_type": "markdown",
      "metadata": {
        "id": "WR0Rg-Z_6SRN"
      },
      "source": [
        "## Modelo base\n",
        "\n",
        "Para ver cómo de bueno son los modelos que construyamos vamos a compararlo con dos modelos un poco tontos. Uno de ello devuelve siempre la media de las valoraciones de todas las películas y el otro devuelve la valoración media de una película concreta.  \n",
        "\n",
        "Comenzamos partiendo el dataset en dos subcojuntos: el de entrenamiento y el de validación. "
      ]
    },
    {
      "cell_type": "code",
      "metadata": {
        "id": "yBtbdg7I6T6E"
      },
      "source": [
        "df_train, df_val = train_test_split(df, test_size=.05, random_state=1)"
      ],
      "execution_count": 8,
      "outputs": []
    },
    {
      "cell_type": "markdown",
      "metadata": {
        "id": "HN1Rl1jX60ki"
      },
      "source": [
        "Definimos las métricas que vamos a utilizar, que son las que utilizamos para problemas de regresión. "
      ]
    },
    {
      "cell_type": "code",
      "metadata": {
        "id": "aIvEk_K66z6i"
      },
      "source": [
        "def get_metrics(y_true, y_pred):\n",
        "    return metrics.mean_absolute_error(y_true, y_pred), metrics.mean_squared_error(y_true, y_pred)"
      ],
      "execution_count": 9,
      "outputs": []
    },
    {
      "cell_type": "markdown",
      "metadata": {
        "id": "VXl805PA6_sy"
      },
      "source": [
        "Definimos primero un modelo tonto que devuelve siempre la media de las valoraciones de todas las películas. "
      ]
    },
    {
      "cell_type": "code",
      "metadata": {
        "id": "oKrACTdf6z2S",
        "outputId": "5c6399ae-4dfc-4f0a-8fa1-151551e77f01",
        "colab": {
          "base_uri": "https://localhost:8080/"
        }
      },
      "source": [
        "mean_rating = df_train['rating'].mean()\n",
        "print(\"La valoración media en el conjunto de entrenamiento es {:.2f} estrellas\".format(mean_rating))"
      ],
      "execution_count": 10,
      "outputs": [
        {
          "output_type": "stream",
          "name": "stdout",
          "text": [
            "La valoración media en el conjunto de entrenamiento es 3.53 estrellas\n"
          ]
        }
      ]
    },
    {
      "cell_type": "markdown",
      "metadata": {
        "id": "Ns2kpVdL7XPH"
      },
      "source": [
        "Ahora calculamos cuál es el error que se produce utilizando este modelo."
      ]
    },
    {
      "cell_type": "code",
      "metadata": {
        "id": "TWdl3F927bJ4",
        "outputId": "fb65083a-be13-4078-eb89-3c0a30611622",
        "colab": {
          "base_uri": "https://localhost:8080/"
        }
      },
      "source": [
        "y_true = df_val['rating'].values\n",
        "always_mean = np.full(y_true.shape, mean_rating)\n",
        "\n",
        "mae, mse = get_metrics(y_true, always_mean)\n",
        "print(\"Mean Absolute Error={:.2f}, Mean Squared Error={:.2f}\".format(mae, mse))"
      ],
      "execution_count": 11,
      "outputs": [
        {
          "output_type": "stream",
          "name": "stdout",
          "text": [
            "Mean Absolute Error=0.84, Mean Squared Error=1.10\n"
          ]
        }
      ]
    },
    {
      "cell_type": "markdown",
      "metadata": {
        "id": "C1N4fYO57ije"
      },
      "source": [
        "El segundo modelo es el que devuelve la media de valoraciones de una película."
      ]
    },
    {
      "cell_type": "code",
      "metadata": {
        "id": "UfAmhgp07moe"
      },
      "source": [
        "movies = movies_df.copy().set_index('movieId')\n",
        "mean_per_movie = df_train.groupby('movieId')['rating'].mean()\n",
        "movies['mean_rating'] = mean_per_movie\n",
        "ratings_per_movie = df_train.groupby('movieId').size()\n",
        "movies['n_ratings'] = ratings_per_movie\n",
        "# En el caso de películas que no estén en el conjunto de entrenamiento se usa la media global\n",
        "y_movie_mean = df_val.join(mean_per_movie, on='movieId', rsuffix='mean')['ratingmean'].fillna(mean_rating).values"
      ],
      "execution_count": 12,
      "outputs": []
    },
    {
      "cell_type": "markdown",
      "metadata": {
        "id": "hfKZzkAV7v3f"
      },
      "source": [
        "Y calculamos el error. "
      ]
    },
    {
      "cell_type": "code",
      "metadata": {
        "id": "DnXRKBJI6zzq",
        "outputId": "36fed876-d8ce-4da8-8e84-5c7ebd07df22",
        "colab": {
          "base_uri": "https://localhost:8080/"
        }
      },
      "source": [
        "mae, mse = get_metrics(y_true, y_movie_mean)\n",
        "print(\"Mean Absolute Error={:.2f}, Mean Squared Error={:.2f}\".format(mae, mse))"
      ],
      "execution_count": 13,
      "outputs": [
        {
          "output_type": "stream",
          "name": "stdout",
          "text": [
            "Mean Absolute Error=0.73, Mean Squared Error=0.88\n"
          ]
        }
      ]
    },
    {
      "cell_type": "markdown",
      "metadata": {
        "id": "M44E84D1zeC4"
      },
      "source": [
        "\n",
        "\n",
        "### Modelo red neuronal\n",
        "\n",
        "El modelo de red neuronal que vamos a implementar tiene el siguiente aspecto. \n",
        "\n",
        "<img src=\"https://i.imgur.com/Z1eVQu9.png\"/>\n",
        "\n",
        "Notar que en este modelo no estamos solo apilando capas, por lo tanto no vamos a poder utilizar la API secuencial de Keras sino que será necesario utilizar la API funcional. "
      ]
    },
    {
      "cell_type": "markdown",
      "metadata": {
        "id": "5J_YXPf-0cxL"
      },
      "source": [
        "Cada instancia de entrada de nuestro modelo va a constar de dos entradas: un identificador de usuario y un identificador de película. "
      ]
    },
    {
      "cell_type": "code",
      "metadata": {
        "id": "VBQpVAjSzNri"
      },
      "source": [
        "user_id_input = keras.Input(shape=(1,),name='user_id')\n",
        "movie_id_input = keras.Input(shape=(1,),name='movie_id')"
      ],
      "execution_count": 14,
      "outputs": []
    },
    {
      "cell_type": "markdown",
      "metadata": {
        "id": "41dNEl3d0r9C"
      },
      "source": [
        "A cada una de estas componentes de la entrada le vamos a aplicar una capa de embedding, usando como tamaño de embedding un vector de 32 componentes. "
      ]
    },
    {
      "cell_type": "code",
      "metadata": {
        "id": "OiUj-7Uf0q4k"
      },
      "source": [
        "movie_embedding_size = 32\n",
        "user_embedding_size = 32\n",
        "\n",
        "user_embedded = keras.layers.Embedding(df.userId.max()+1, user_embedding_size, \n",
        "                                       input_length=1, name='user_embedding')(user_id_input)\n",
        "movie_embedded = keras.layers.Embedding(df.movieId.max()+1, movie_embedding_size, \n",
        "                                        input_length=1, name='movie_embedding')(movie_id_input)"
      ],
      "execution_count": 15,
      "outputs": []
    },
    {
      "cell_type": "markdown",
      "metadata": {
        "id": "m4n0i5rE08UR"
      },
      "source": [
        "Concatenamos los embeddings, y aplanamos. "
      ]
    },
    {
      "cell_type": "code",
      "metadata": {
        "id": "jtsp6Z7o02CC"
      },
      "source": [
        "concatenated = keras.layers.Concatenate()([user_embedded, movie_embedded])\n",
        "out = keras.layers.Flatten()(concatenated)"
      ],
      "execution_count": 16,
      "outputs": []
    },
    {
      "cell_type": "markdown",
      "metadata": {
        "id": "sNj7sukf1FRo"
      },
      "source": [
        "A continuación añadimos dos capas ocultas, una con 32 neuronas y otra con 4."
      ]
    },
    {
      "cell_type": "code",
      "metadata": {
        "id": "sNSST2w41A45"
      },
      "source": [
        "out = keras.layers.Dense(32, activation='relu')(out)\n",
        "out = keras.layers.Dense(4, activation='relu')(out)"
      ],
      "execution_count": 17,
      "outputs": []
    },
    {
      "cell_type": "markdown",
      "metadata": {
        "id": "3qCD7ge41SZw"
      },
      "source": [
        "La última capa será la capa de predicción. "
      ]
    },
    {
      "cell_type": "code",
      "metadata": {
        "id": "7mCuhX_p1R3Z"
      },
      "source": [
        "out = keras.layers.Dense(1, activation='linear', name='prediction')(out)"
      ],
      "execution_count": 18,
      "outputs": []
    },
    {
      "cell_type": "markdown",
      "metadata": {
        "id": "Xhn8g4m11fct"
      },
      "source": [
        "Finalmente se combina el modelo definiendo las entradas y salidas. "
      ]
    },
    {
      "cell_type": "code",
      "metadata": {
        "id": "iuy1s6OW1V-f"
      },
      "source": [
        "modelNN = keras.Model(\n",
        "    inputs = [user_id_input, movie_id_input],\n",
        "    outputs = out,\n",
        ")"
      ],
      "execution_count": 19,
      "outputs": []
    },
    {
      "cell_type": "markdown",
      "metadata": {
        "id": "tR_KlGPb14QE"
      },
      "source": [
        "Como en todos los modelos de Keras debemos primero compilarlo indicando la función de pérdida que vamos a utilizar."
      ]
    },
    {
      "cell_type": "code",
      "metadata": {
        "id": "VofK39i01jRO"
      },
      "source": [
        "modelNN.compile(tf.optimizers.Adam(0.005),loss='MSE',metrics=['MAE'])"
      ],
      "execution_count": 20,
      "outputs": []
    },
    {
      "cell_type": "markdown",
      "metadata": {
        "id": "iSpOQs303jr7"
      },
      "source": [
        "Y comenzamos el entrenamiento del modelo. "
      ]
    },
    {
      "cell_type": "code",
      "metadata": {
        "id": "0F3BN8nD3hss",
        "outputId": "3a291aa1-4b59-436d-b2d2-8d165ef97145",
        "colab": {
          "base_uri": "https://localhost:8080/"
        }
      },
      "source": [
        "historyNN = modelNN.fit([df.userId, df.movieId],df.y,batch_size=1000000,epochs=20,validation_split=.05)"
      ],
      "execution_count": 21,
      "outputs": [
        {
          "output_type": "stream",
          "name": "stdout",
          "text": [
            "Epoch 1/20\n",
            "20/20 [==============================] - 18s 539ms/step - loss: 0.9284 - MAE: 0.7530 - val_loss: 0.7696 - val_MAE: 0.6755\n",
            "Epoch 2/20\n",
            "20/20 [==============================] - 10s 505ms/step - loss: 0.7373 - MAE: 0.6598 - val_loss: 0.7257 - val_MAE: 0.6510\n",
            "Epoch 3/20\n",
            "20/20 [==============================] - 9s 431ms/step - loss: 0.7071 - MAE: 0.6442 - val_loss: 0.7110 - val_MAE: 0.6461\n",
            "Epoch 4/20\n",
            "20/20 [==============================] - 9s 418ms/step - loss: 0.6932 - MAE: 0.6382 - val_loss: 0.7040 - val_MAE: 0.6422\n",
            "Epoch 5/20\n",
            "20/20 [==============================] - 9s 455ms/step - loss: 0.6847 - MAE: 0.6337 - val_loss: 0.6989 - val_MAE: 0.6379\n",
            "Epoch 6/20\n",
            "20/20 [==============================] - 7s 358ms/step - loss: 0.6762 - MAE: 0.6293 - val_loss: 0.6928 - val_MAE: 0.6346\n",
            "Epoch 7/20\n",
            "20/20 [==============================] - 7s 353ms/step - loss: 0.6670 - MAE: 0.6248 - val_loss: 0.6871 - val_MAE: 0.6325\n",
            "Epoch 8/20\n",
            "20/20 [==============================] - 6s 310ms/step - loss: 0.6588 - MAE: 0.6209 - val_loss: 0.6845 - val_MAE: 0.6318\n",
            "Epoch 9/20\n",
            "20/20 [==============================] - 8s 353ms/step - loss: 0.6526 - MAE: 0.6181 - val_loss: 0.6834 - val_MAE: 0.6300\n",
            "Epoch 10/20\n",
            "20/20 [==============================] - 7s 337ms/step - loss: 0.6474 - MAE: 0.6154 - val_loss: 0.6829 - val_MAE: 0.6337\n",
            "Epoch 11/20\n",
            "20/20 [==============================] - 7s 360ms/step - loss: 0.6425 - MAE: 0.6134 - val_loss: 0.6816 - val_MAE: 0.6304\n",
            "Epoch 12/20\n",
            "20/20 [==============================] - 8s 379ms/step - loss: 0.6368 - MAE: 0.6104 - val_loss: 0.6852 - val_MAE: 0.6272\n",
            "Epoch 13/20\n",
            "20/20 [==============================] - 7s 363ms/step - loss: 0.6339 - MAE: 0.6085 - val_loss: 0.6802 - val_MAE: 0.6328\n",
            "Epoch 14/20\n",
            "20/20 [==============================] - 7s 302ms/step - loss: 0.6282 - MAE: 0.6064 - val_loss: 0.6794 - val_MAE: 0.6286\n",
            "Epoch 15/20\n",
            "20/20 [==============================] - 5s 254ms/step - loss: 0.6225 - MAE: 0.6034 - val_loss: 0.6799 - val_MAE: 0.6314\n",
            "Epoch 16/20\n",
            "20/20 [==============================] - 6s 280ms/step - loss: 0.6172 - MAE: 0.6008 - val_loss: 0.6775 - val_MAE: 0.6276\n",
            "Epoch 17/20\n",
            "20/20 [==============================] - 10s 514ms/step - loss: 0.6117 - MAE: 0.5979 - val_loss: 0.6764 - val_MAE: 0.6256\n",
            "Epoch 18/20\n",
            "20/20 [==============================] - 5s 225ms/step - loss: 0.6060 - MAE: 0.5948 - val_loss: 0.6775 - val_MAE: 0.6302\n",
            "Epoch 19/20\n",
            "20/20 [==============================] - 5s 259ms/step - loss: 0.6012 - MAE: 0.5926 - val_loss: 0.6767 - val_MAE: 0.6282\n",
            "Epoch 20/20\n",
            "20/20 [==============================] - 4s 222ms/step - loss: 0.5981 - MAE: 0.5909 - val_loss: 0.6745 - val_MAE: 0.6273\n"
          ]
        }
      ]
    },
    {
      "cell_type": "markdown",
      "metadata": {
        "id": "XCPDV8L_4F-J"
      },
      "source": [
        "A continuación se muestra una gráfica del entrenamiento de nuestro modelo. "
      ]
    },
    {
      "cell_type": "code",
      "metadata": {
        "id": "fk6D63Uq3vjz",
        "outputId": "522368f1-cc53-49df-aa75-dced557d9b37",
        "colab": {
          "base_uri": "https://localhost:8080/",
          "height": 374
        }
      },
      "source": [
        "fig, ax = plt.subplots(figsize=(15, 6))\n",
        "ax.plot(historyNN.epoch, historyNN.history['val_MAE'], label='Validation MAE')\n",
        "ax.plot(historyNN.epoch, historyNN.history['MAE'], label='Training MAE')\n",
        "ax.set_xlabel('Epoch')\n",
        "ax.set_ylabel('Mean Absolute Error')\n",
        "ax.set_xlim(left=0, right=historyNN.epoch[-1])\n",
        "baseline_mae = 0.73\n",
        "ax.axhline(baseline_mae, ls='--', label='Baseline', color='#002255', alpha=.5)\n",
        "ax.grid()\n",
        "fig.legend();"
      ],
      "execution_count": 22,
      "outputs": [
        {
          "output_type": "display_data",
          "data": {
            "text/plain": [
              "<Figure size 1500x600 with 1 Axes>"
            ],
            "image/png": "[encoded data removed]"
          },
          "metadata": {}
        }
      ]
    },
    {
      "cell_type": "markdown",
      "metadata": {
        "id": "6P92FrHu77Is"
      },
      "source": [
        "En la gráfica anterior podemos ver que nuestro modelo basado en red neuronal es bastante mejor que el modelo base que habíamos definido anteriormente. Pero también nos damos cuenta que se produce cierto overfitting a partir de la segunda época (mientras que el error de entrenamiento sigue disminuyendo, el error de validación se estanca o incluso empieza a aumentar)."
      ]
    },
    {
      "cell_type": "markdown",
      "metadata": {
        "id": "QQk2quUa8eYx"
      },
      "source": [
        "Vamos ahora a realizar algunas predicciones. En concreto, elegimos un usuario de manera aleatoria y mostramos las películas que ha valorado. "
      ]
    },
    {
      "cell_type": "code",
      "metadata": {
        "id": "-JQrxbaI4OGo",
        "outputId": "58baa39b-6df1-4a6a-a272-fc458ec698d4",
        "colab": {
          "base_uri": "https://localhost:8080/",
          "height": 725
        }
      },
      "source": [
        "ratings_per_user = df.groupby('userId').size()\n",
        "uid = ratings_per_user[ratings_per_user < 30].sample(1, random_state=1).index[0]\n",
        "user_ratings = df[df.userId==uid]\n",
        "print(\"User #{} has rated {} movies (avg. rating = {:.1f}):\".format(\n",
        "    uid, len(user_ratings), user_ratings['rating'].mean(),\n",
        "))\n",
        "cols = ['userId', 'movieId', 'rating', 'title', 'year']\n",
        "user_ratings.sort_values(by='rating', ascending=False)[cols]"
      ],
      "execution_count": 23,
      "outputs": [
        {
          "output_type": "stream",
          "name": "stdout",
          "text": [
            "User #26556 has rated 21 movies (avg. rating = 3.7):\n"
          ]
        },
        {
          "output_type": "execute_result",
          "data": {
            "text/plain": [
              "          userId  movieId  rating                          title  year\n",
              "4421455    26556     2705     5.0                      Airplane!  1980\n",
              "14722970   26556     2706     5.0        Airplane II: The Sequel  1982\n",
              "7435440    26556     2286     4.5                         Fletch  1985\n",
              "16621016   26556     2216     4.5   History of the World: Part I  1981\n",
              "11648630   26556      534     4.5      Six Degrees of Separation  1993\n",
              "14805184   26556      937     4.5   Mr. Smith Goes to Washington  1939\n",
              "14313285   26556     2102     4.5           Strangers on a Train  1951\n",
              "13671173   26556     2863     4.5                         Dr. No  1962\n",
              "13661434   26556      913     4.0                      Notorious  1946\n",
              "11938282   26556      916     4.0               To Catch a Thief  1955\n",
              "2354167    26556     3890     4.0           Diamonds Are Forever  1971\n",
              "16095891   26556      730     4.0                       Spy Hard  1996\n",
              "16265128   26556     3414     3.5                        Network  1976\n",
              "13050537   26556     1414     3.5            Waiting for Guffman  1996\n",
              "9891416    26556     2907     3.5                    Thunderball  1965\n",
              "3496223    26556     4917     3.5                   Gosford Park  2001\n",
              "1996728    26556     1861     3.0              On the Waterfront  1954\n",
              "15893218   26556     1082     2.5       A Streetcar Named Desire  1951\n",
              "13875921   26556     3445     2.5              Keeping the Faith  2000\n",
              "13163853   26556     1225     2.0  The Day the Earth Stood Still  1951\n",
              "7262983    26556     2348     0.5                 A Civil Action  1998"
            ],
            "text/html": [
              "\n",
              "  <div id=\"df-927cd198-cf66-4fed-adef-4bbaaf3952e0\">\n",
              "    <div class=\"colab-df-container\">\n",
              "      <div>\n",
              "<style scoped>\n",
              "    .dataframe tbody tr th:only-of-type {\n",
              "        vertical-align: middle;\n",
              "    }\n",
              "\n",
              "    .dataframe tbody tr th {\n",
              "        vertical-align: top;\n",
              "    }\n",
              "\n",
              "    .dataframe thead th {\n",
              "        text-align: right;\n",
              "    }\n",
              "</style>\n",
              "<table border=\"1\" class=\"dataframe\">\n",
              "  <thead>\n",
              "    <tr style=\"text-align: right;\">\n",
              "      <th></th>\n",
              "      <th>userId</th>\n",
              "      <th>movieId</th>\n",
              "      <th>rating</th>\n",
              "      <th>title</th>\n",
              "      <th>year</th>\n",
              "    </tr>\n",
              "  </thead>\n",
              "  <tbody>\n",
              "    <tr>\n",
              "      <th>4421455</th>\n",
              "      <td>26556</td>\n",
              "      <td>2705</td>\n",
              "      <td>5.0</td>\n",
              "      <td>Airplane!</td>\n",
              "      <td>1980</td>\n",
              "    </tr>\n",
              "    <tr>\n",
              "      <th>14722970</th>\n",
              "      <td>26556</td>\n",
              "      <td>2706</td>\n",
              "      <td>5.0</td>\n",
              "      <td>Airplane II: The Sequel</td>\n",
              "      <td>1982</td>\n",
              "    </tr>\n",
              "    <tr>\n",
              "      <th>7435440</th>\n",
              "      <td>26556</td>\n",
              "      <td>2286</td>\n",
              "      <td>4.5</td>\n",
              "      <td>Fletch</td>\n",
              "      <td>1985</td>\n",
              "    </tr>\n",
              "    <tr>\n",
              "      <th>16621016</th>\n",
              "      <td>26556</td>\n",
              "      <td>2216</td>\n",
              "      <td>4.5</td>\n",
              "      <td>History of the World: Part I</td>\n",
              "      <td>1981</td>\n",
              "    </tr>\n",
              "    <tr>\n",
              "      <th>11648630</th>\n",
              "      <td>26556</td>\n",
              "      <td>534</td>\n",
              "      <td>4.5</td>\n",
              "      <td>Six Degrees of Separation</td>\n",
              "      <td>1993</td>\n",
              "    </tr>\n",
              "    <tr>\n",
              "      <th>14805184</th>\n",
              "      <td>26556</td>\n",
              "      <td>937</td>\n",
              "      <td>4.5</td>\n",
              "      <td>Mr. Smith Goes to Washington</td>\n",
              "      <td>1939</td>\n",
              "    </tr>\n",
              "    <tr>\n",
              "      <th>14313285</th>\n",
              "      <td>26556</td>\n",
              "      <td>2102</td>\n",
              "      <td>4.5</td>\n",
              "      <td>Strangers on a Train</td>\n",
              "      <td>1951</td>\n",
              "    </tr>\n",
              "    <tr>\n",
              "      <th>13671173</th>\n",
              "      <td>26556</td>\n",
              "      <td>2863</td>\n",
              "      <td>4.5</td>\n",
              "      <td>Dr. No</td>\n",
              "      <td>1962</td>\n",
              "    </tr>\n",
              "    <tr>\n",
              "      <th>13661434</th>\n",
              "      <td>26556</td>\n",
              "      <td>913</td>\n",
              "      <td>4.0</td>\n",
              "      <td>Notorious</td>\n",
              "      <td>1946</td>\n",
              "    </tr>\n",
              "    <tr>\n",
              "      <th>11938282</th>\n",
              "      <td>26556</td>\n",
              "      <td>916</td>\n",
              "      <td>4.0</td>\n",
              "      <td>To Catch a Thief</td>\n",
              "      <td>1955</td>\n",
              "    </tr>\n",
              "    <tr>\n",
              "      <th>2354167</th>\n",
              "      <td>26556</td>\n",
              "      <td>3890</td>\n",
              "      <td>4.0</td>\n",
              "      <td>Diamonds Are Forever</td>\n",
              "      <td>1971</td>\n",
              "    </tr>\n",
              "    <tr>\n",
              "      <th>16095891</th>\n",
              "      <td>26556</td>\n",
              "      <td>730</td>\n",
              "      <td>4.0</td>\n",
              "      <td>Spy Hard</td>\n",
              "      <td>1996</td>\n",
              "    </tr>\n",
              "    <tr>\n",
              "      <th>16265128</th>\n",
              "      <td>26556</td>\n",
              "      <td>3414</td>\n",
              "      <td>3.5</td>\n",
              "      <td>Network</td>\n",
              "      <td>1976</td>\n",
              "    </tr>\n",
              "    <tr>\n",
              "      <th>13050537</th>\n",
              "      <td>26556</td>\n",
              "      <td>1414</td>\n",
              "      <td>3.5</td>\n",
              "      <td>Waiting for Guffman</td>\n",
              "      <td>1996</td>\n",
              "    </tr>\n",
              "    <tr>\n",
              "      <th>9891416</th>\n",
              "      <td>26556</td>\n",
              "      <td>2907</td>\n",
              "      <td>3.5</td>\n",
              "      <td>Thunderball</td>\n",
              "      <td>1965</td>\n",
              "    </tr>\n",
              "    <tr>\n",
              "      <th>3496223</th>\n",
              "      <td>26556</td>\n",
              "      <td>4917</td>\n",
              "      <td>3.5</td>\n",
              "      <td>Gosford Park</td>\n",
              "      <td>2001</td>\n",
              "    </tr>\n",
              "    <tr>\n",
              "      <th>1996728</th>\n",
              "      <td>26556</td>\n",
              "      <td>1861</td>\n",
              "      <td>3.0</td>\n",
              "      <td>On the Waterfront</td>\n",
              "      <td>1954</td>\n",
              "    </tr>\n",
              "    <tr>\n",
              "      <th>15893218</th>\n",
              "      <td>26556</td>\n",
              "      <td>1082</td>\n",
              "      <td>2.5</td>\n",
              "      <td>A Streetcar Named Desire</td>\n",
              "      <td>1951</td>\n",
              "    </tr>\n",
              "    <tr>\n",
              "      <th>13875921</th>\n",
              "      <td>26556</td>\n",
              "      <td>3445</td>\n",
              "      <td>2.5</td>\n",
              "      <td>Keeping the Faith</td>\n",
              "      <td>2000</td>\n",
              "    </tr>\n",
              "    <tr>\n",
              "      <th>13163853</th>\n",
              "      <td>26556</td>\n",
              "      <td>1225</td>\n",
              "      <td>2.0</td>\n",
              "      <td>The Day the Earth Stood Still</td>\n",
              "      <td>1951</td>\n",
              "    </tr>\n",
              "    <tr>\n",
              "      <th>7262983</th>\n",
              "      <td>26556</td>\n",
              "      <td>2348</td>\n",
              "      <td>0.5</td>\n",
              "      <td>A Civil Action</td>\n",
              "      <td>1998</td>\n",
              "    </tr>\n",
              "  </tbody>\n",
              "</table>\n",
              "</div>\n",
              "      <button class=\"colab-df-convert\" onclick=\"convertToInteractive('df-927cd198-cf66-4fed-adef-4bbaaf3952e0')\"\n",
              "              title=\"Convert this dataframe to an interactive table.\"\n",
              "              style=\"display:none;\">\n",
              "        \n",
              "  <svg xmlns=\"http://www.w3.org/2000/svg\" height=\"24px\"viewBox=\"0 0 24 24\"\n",
              "       width=\"24px\">\n",
              "    <path d=\"M0 0h24v24H0V0z\" fill=\"none\"/>\n",
              "    <path d=\"M18.56 5.44l.94 2.06.94-2.06 2.06-.94-2.06-.94-.94-2.06-.94 2.06-2.06.94zm-11 1L8.5 8.5l.94-2.06 2.06-.94-2.06-.94L8.5 2.5l-.94 2.06-2.06.94zm10 10l.94 2.06.94-2.06 2.06-.94-2.06-.94-.94-2.06-.94 2.06-2.06.94z\"/><path d=\"M17.41 7.96l-1.37-1.37c-.4-.4-.92-.59-1.43-.59-.52 0-1.04.2-1.43.59L10.3 9.45l-7.72 7.72c-.78.78-.78 2.05 0 2.83L4 21.41c.39.39.9.59 1.41.59.51 0 1.02-.2 1.41-.59l7.78-7.78 2.81-2.81c.8-.78.8-2.07 0-2.86zM5.41 20L4 18.59l7.72-7.72 1.47 1.35L5.41 20z\"/>\n",
              "  </svg>\n",
              "      </button>\n",
              "      \n",
              "  <style>\n",
              "    .colab-df-container {\n",
              "      display:flex;\n",
              "      flex-wrap:wrap;\n",
              "      gap: 12px;\n",
              "    }\n",
              "\n",
              "    .colab-df-convert {\n",
              "      background-color: #E8F0FE;\n",
              "      border: none;\n",
              "      border-radius: 50%;\n",
              "      cursor: pointer;\n",
              "      display: none;\n",
              "      fill: #1967D2;\n",
              "      height: 32px;\n",
              "      padding: 0 0 0 0;\n",
              "      width: 32px;\n",
              "    }\n",
              "\n",
              "    .colab-df-convert:hover {\n",
              "      background-color: #E2EBFA;\n",
              "      box-shadow: 0px 1px 2px rgba(60, 64, 67, 0.3), 0px 1px 3px 1px rgba(60, 64, 67, 0.15);\n",
              "      fill: #174EA6;\n",
              "    }\n",
              "\n",
              "    [theme=dark] .colab-df-convert {\n",
              "      background-color: #3B4455;\n",
              "      fill: #D2E3FC;\n",
              "    }\n",
              "\n",
              "    [theme=dark] .colab-df-convert:hover {\n",
              "      background-color: #434B5C;\n",
              "      box-shadow: 0px 1px 3px 1px rgba(0, 0, 0, 0.15);\n",
              "      filter: drop-shadow(0px 1px 2px rgba(0, 0, 0, 0.3));\n",
              "      fill: #FFFFFF;\n",
              "    }\n",
              "  </style>\n",
              "\n",
              "      <script>\n",
              "        const buttonEl =\n",
              "          document.querySelector('#df-927cd198-cf66-4fed-adef-4bbaaf3952e0 button.colab-df-convert');\n",
              "        buttonEl.style.display =\n",
              "          google.colab.kernel.accessAllowed ? 'block' : 'none';\n",
              "\n",
              "        async function convertToInteractive(key) {\n",
              "          const element = document.querySelector('#df-927cd198-cf66-4fed-adef-4bbaaf3952e0');\n",
              "          const dataTable =\n",
              "            await google.colab.kernel.invokeFunction('convertToInteractive',\n",
              "                                                     [key], {});\n",
              "          if (!dataTable) return;\n",
              "\n",
              "          const docLinkHtml = 'Like what you see? Visit the ' +\n",
              "            '<a target=\"_blank\" href=https://colab.research.google.com/notebooks/data_table.ipynb>data table notebook</a>'\n",
              "            + ' to learn more about interactive tables.';\n",
              "          element.innerHTML = '';\n",
              "          dataTable['output_type'] = 'display_data';\n",
              "          await google.colab.output.renderOutput(dataTable, element);\n",
              "          const docLink = document.createElement('div');\n",
              "          docLink.innerHTML = docLinkHtml;\n",
              "          element.appendChild(docLink);\n",
              "        }\n",
              "      </script>\n",
              "    </div>\n",
              "  </div>\n",
              "  "
            ]
          },
          "metadata": {},
          "execution_count": 23
        }
      ]
    },
    {
      "cell_type": "markdown",
      "metadata": {
        "id": "SEHpea2L6A9n"
      },
      "source": [
        "Podemos ahora ver la predicción que haría este usuario para algunas películas. Definimos la lista de películas para las cuales vamos a obtener una valoración. Por ejemplo podemos ver que a nuestro usuario le gustó especialmente la saga de películas AirPlane (en España ¡aterriza como puedas!), por lo que podemos esperar que también le gusten las películas de la serie Agarraló como puedas, en inglés The Naked gun, protagonizadas también por Leslie Nielsen."
      ]
    },
    {
      "cell_type": "code",
      "metadata": {
        "id": "NoDsMmCT8Kf0"
      },
      "source": [
        "candidate_movies = movies[\n",
        "    movies.title.str.contains('The Godfather')\n",
        "    | (movies.title == 'Toy Story')\n",
        "    | (movies.title.str.contains('Naked Gun'))\n",
        "].copy()"
      ],
      "execution_count": 24,
      "outputs": []
    },
    {
      "cell_type": "markdown",
      "metadata": {
        "id": "CPxA9cad6Lff"
      },
      "source": [
        "Realizamos la predicción. Para ello le pasamos al modelo un par con dos listas: la primera es una lista en la que hemos repetido varias veces el identificador de nuestro usuario, y la segunda es lista de películas para las cuales queremos obtener la valoración. "
      ]
    },
    {
      "cell_type": "code",
      "metadata": {
        "id": "FKqFO0MJ6F7w",
        "outputId": "8f046306-ccc6-400a-f84d-ab9aca2a4d17",
        "colab": {
          "base_uri": "https://localhost:8080/"
        }
      },
      "source": [
        "preds = modelNN.predict((np.array([uid] * len(candidate_movies)),np.array(candidate_movies.index)))"
      ],
      "execution_count": 25,
      "outputs": [
        {
          "output_type": "stream",
          "name": "stdout",
          "text": [
            "1/1 [==============================] - 0s 99ms/step\n"
          ]
        }
      ]
    },
    {
      "cell_type": "markdown",
      "metadata": {
        "id": "yWGT4ZwA6UrG"
      },
      "source": [
        "Como la predicción se hace centrada en 0 debemos transformar dicha predicción para obtener un valor entre 0.5 y 5. "
      ]
    },
    {
      "cell_type": "code",
      "metadata": {
        "id": "K-T4l60C6M1f",
        "outputId": "93812a51-f051-42b3-f40a-29dab43cb2bc",
        "colab": {
          "base_uri": "https://localhost:8080/",
          "height": 694
        }
      },
      "source": [
        "row = df.iloc[0]\n",
        "y_delta = row.rating - row.y\n",
        "candidate_movies['predicted_rating'] = preds + y_delta\n",
        "candidate_movies['delta'] = candidate_movies['predicted_rating'] - candidate_movies['mean_rating']\n",
        "candidate_movies.sort_values(by='delta', ascending=False)"
      ],
      "execution_count": 26,
      "outputs": [
        {
          "output_type": "execute_result",
          "data": {
            "text/plain": [
              "                                                  title  \\\n",
              "movieId                                                   \n",
              "366                  Naked Gun 33 1/3: The Final Insult   \n",
              "3776             The Naked Gun 2 1/2: The Smell of Fear   \n",
              "3775     The Naked Gun: From the Files of Police Squad!   \n",
              "0                                             Toy Story   \n",
              "1939                            The Godfather: Part III   \n",
              "843                                       The Godfather   \n",
              "1195                             The Godfather: Part II   \n",
              "\n",
              "                                              genres  year  n_ratings  \\\n",
              "movieId                                                                 \n",
              "366                                    Action|Comedy  1994    13534.0   \n",
              "3776                                          Comedy  1991     4415.0   \n",
              "3775                     Action|Comedy|Crime|Romance  1988     6973.0   \n",
              "0        Adventure|Animation|Children|Comedy|Fantasy  1995    47251.0   \n",
              "1939                    Crime|Drama|Mystery|Thriller  1990     9647.0   \n",
              "843                                      Crime|Drama  1972    39313.0   \n",
              "1195                                     Crime|Drama  1974    26013.0   \n",
              "\n",
              "         mean_rating  predicted_rating     delta  \n",
              "movieId                                           \n",
              "366         2.954226          4.004133  1.049907  \n",
              "3776        3.132616          3.755610  0.622994  \n",
              "3775        3.580381          4.032495  0.452114  \n",
              "0           3.919377          3.965297  0.045919  \n",
              "1939        3.410905          3.266477 -0.144428  \n",
              "843         4.364193          3.911937 -0.452256  \n",
              "1195        4.275343          3.766104 -0.509239  "
            ],
            "text/html": [
              "\n",
              "  <div id=\"df-6df664bf-b285-4b62-9a8c-b2d67f5a07dd\">\n",
              "    <div class=\"colab-df-container\">\n",
              "      <div>\n",
              "<style scoped>\n",
              "    .dataframe tbody tr th:only-of-type {\n",
              "        vertical-align: middle;\n",
              "    }\n",
              "\n",
              "    .dataframe tbody tr th {\n",
              "        vertical-align: top;\n",
              "    }\n",
              "\n",
              "    .dataframe thead th {\n",
              "        text-align: right;\n",
              "    }\n",
              "</style>\n",
              "<table border=\"1\" class=\"dataframe\">\n",
              "  <thead>\n",
              "    <tr style=\"text-align: right;\">\n",
              "      <th></th>\n",
              "      <th>title</th>\n",
              "      <th>genres</th>\n",
              "      <th>year</th>\n",
              "      <th>n_ratings</th>\n",
              "      <th>mean_rating</th>\n",
              "      <th>predicted_rating</th>\n",
              "      <th>delta</th>\n",
              "    </tr>\n",
              "    <tr>\n",
              "      <th>movieId</th>\n",
              "      <th></th>\n",
              "      <th></th>\n",
              "      <th></th>\n",
              "      <th></th>\n",
              "      <th></th>\n",
              "      <th></th>\n",
              "      <th></th>\n",
              "    </tr>\n",
              "  </thead>\n",
              "  <tbody>\n",
              "    <tr>\n",
              "      <th>366</th>\n",
              "      <td>Naked Gun 33 1/3: The Final Insult</td>\n",
              "      <td>Action|Comedy</td>\n",
              "      <td>1994</td>\n",
              "      <td>13534.0</td>\n",
              "      <td>2.954226</td>\n",
              "      <td>4.004133</td>\n",
              "      <td>1.049907</td>\n",
              "    </tr>\n",
              "    <tr>\n",
              "      <th>3776</th>\n",
              "      <td>The Naked Gun 2 1/2: The Smell of Fear</td>\n",
              "      <td>Comedy</td>\n",
              "      <td>1991</td>\n",
              "      <td>4415.0</td>\n",
              "      <td>3.132616</td>\n",
              "      <td>3.755610</td>\n",
              "      <td>0.622994</td>\n",
              "    </tr>\n",
              "    <tr>\n",
              "      <th>3775</th>\n",
              "      <td>The Naked Gun: From the Files of Police Squad!</td>\n",
              "      <td>Action|Comedy|Crime|Romance</td>\n",
              "      <td>1988</td>\n",
              "      <td>6973.0</td>\n",
              "      <td>3.580381</td>\n",
              "      <td>4.032495</td>\n",
              "      <td>0.452114</td>\n",
              "    </tr>\n",
              "    <tr>\n",
              "      <th>0</th>\n",
              "      <td>Toy Story</td>\n",
              "      <td>Adventure|Animation|Children|Comedy|Fantasy</td>\n",
              "      <td>1995</td>\n",
              "      <td>47251.0</td>\n",
              "      <td>3.919377</td>\n",
              "      <td>3.965297</td>\n",
              "      <td>0.045919</td>\n",
              "    </tr>\n",
              "    <tr>\n",
              "      <th>1939</th>\n",
              "      <td>The Godfather: Part III</td>\n",
              "      <td>Crime|Drama|Mystery|Thriller</td>\n",
              "      <td>1990</td>\n",
              "      <td>9647.0</td>\n",
              "      <td>3.410905</td>\n",
              "      <td>3.266477</td>\n",
              "      <td>-0.144428</td>\n",
              "    </tr>\n",
              "    <tr>\n",
              "      <th>843</th>\n",
              "      <td>The Godfather</td>\n",
              "      <td>Crime|Drama</td>\n",
              "      <td>1972</td>\n",
              "      <td>39313.0</td>\n",
              "      <td>4.364193</td>\n",
              "      <td>3.911937</td>\n",
              "      <td>-0.452256</td>\n",
              "    </tr>\n",
              "    <tr>\n",
              "      <th>1195</th>\n",
              "      <td>The Godfather: Part II</td>\n",
              "      <td>Crime|Drama</td>\n",
              "      <td>1974</td>\n",
              "      <td>26013.0</td>\n",
              "      <td>4.275343</td>\n",
              "      <td>3.766104</td>\n",
              "      <td>-0.509239</td>\n",
              "    </tr>\n",
              "  </tbody>\n",
              "</table>\n",
              "</div>\n",
              "      <button class=\"colab-df-convert\" onclick=\"convertToInteractive('df-6df664bf-b285-4b62-9a8c-b2d67f5a07dd')\"\n",
              "              title=\"Convert this dataframe to an interactive table.\"\n",
              "              style=\"display:none;\">\n",
              "        \n",
              "  <svg xmlns=\"http://www.w3.org/2000/svg\" height=\"24px\"viewBox=\"0 0 24 24\"\n",
              "       width=\"24px\">\n",
              "    <path d=\"M0 0h24v24H0V0z\" fill=\"none\"/>\n",
              "    <path d=\"M18.56 5.44l.94 2.06.94-2.06 2.06-.94-2.06-.94-.94-2.06-.94 2.06-2.06.94zm-11 1L8.5 8.5l.94-2.06 2.06-.94-2.06-.94L8.5 2.5l-.94 2.06-2.06.94zm10 10l.94 2.06.94-2.06 2.06-.94-2.06-.94-.94-2.06-.94 2.06-2.06.94z\"/><path d=\"M17.41 7.96l-1.37-1.37c-.4-.4-.92-.59-1.43-.59-.52 0-1.04.2-1.43.59L10.3 9.45l-7.72 7.72c-.78.78-.78 2.05 0 2.83L4 21.41c.39.39.9.59 1.41.59.51 0 1.02-.2 1.41-.59l7.78-7.78 2.81-2.81c.8-.78.8-2.07 0-2.86zM5.41 20L4 18.59l7.72-7.72 1.47 1.35L5.41 20z\"/>\n",
              "  </svg>\n",
              "      </button>\n",
              "      \n",
              "  <style>\n",
              "    .colab-df-container {\n",
              "      display:flex;\n",
              "      flex-wrap:wrap;\n",
              "      gap: 12px;\n",
              "    }\n",
              "\n",
              "    .colab-df-convert {\n",
              "      background-color: #E8F0FE;\n",
              "      border: none;\n",
              "      border-radius: 50%;\n",
              "      cursor: pointer;\n",
              "      display: none;\n",
              "      fill: #1967D2;\n",
              "      height: 32px;\n",
              "      padding: 0 0 0 0;\n",
              "      width: 32px;\n",
              "    }\n",
              "\n",
              "    .colab-df-convert:hover {\n",
              "      background-color: #E2EBFA;\n",
              "      box-shadow: 0px 1px 2px rgba(60, 64, 67, 0.3), 0px 1px 3px 1px rgba(60, 64, 67, 0.15);\n",
              "      fill: #174EA6;\n",
              "    }\n",
              "\n",
              "    [theme=dark] .colab-df-convert {\n",
              "      background-color: #3B4455;\n",
              "      fill: #D2E3FC;\n",
              "    }\n",
              "\n",
              "    [theme=dark] .colab-df-convert:hover {\n",
              "      background-color: #434B5C;\n",
              "      box-shadow: 0px 1px 3px 1px rgba(0, 0, 0, 0.15);\n",
              "      filter: drop-shadow(0px 1px 2px rgba(0, 0, 0, 0.3));\n",
              "      fill: #FFFFFF;\n",
              "    }\n",
              "  </style>\n",
              "\n",
              "      <script>\n",
              "        const buttonEl =\n",
              "          document.querySelector('#df-6df664bf-b285-4b62-9a8c-b2d67f5a07dd button.colab-df-convert');\n",
              "        buttonEl.style.display =\n",
              "          google.colab.kernel.accessAllowed ? 'block' : 'none';\n",
              "\n",
              "        async function convertToInteractive(key) {\n",
              "          const element = document.querySelector('#df-6df664bf-b285-4b62-9a8c-b2d67f5a07dd');\n",
              "          const dataTable =\n",
              "            await google.colab.kernel.invokeFunction('convertToInteractive',\n",
              "                                                     [key], {});\n",
              "          if (!dataTable) return;\n",
              "\n",
              "          const docLinkHtml = 'Like what you see? Visit the ' +\n",
              "            '<a target=\"_blank\" href=https://colab.research.google.com/notebooks/data_table.ipynb>data table notebook</a>'\n",
              "            + ' to learn more about interactive tables.';\n",
              "          element.innerHTML = '';\n",
              "          dataTable['output_type'] = 'display_data';\n",
              "          await google.colab.output.renderOutput(dataTable, element);\n",
              "          const docLink = document.createElement('div');\n",
              "          docLink.innerHTML = docLinkHtml;\n",
              "          element.appendChild(docLink);\n",
              "        }\n",
              "      </script>\n",
              "    </div>\n",
              "  </div>\n",
              "  "
            ]
          },
          "metadata": {},
          "execution_count": 26
        }
      ]
    },
    {
      "cell_type": "markdown",
      "metadata": {
        "id": "mtCzEHv5UdWT"
      },
      "source": [
        "Vamos a guardar los pesos de este modelo por si los necesitamos en el futuro. "
      ]
    },
    {
      "cell_type": "code",
      "metadata": {
        "id": "S_EdcQDSUhNg"
      },
      "source": [
        "modelNN.save_weights('./modelNN.h5', overwrite=True)"
      ],
      "execution_count": 27,
      "outputs": []
    },
    {
      "cell_type": "markdown",
      "metadata": {
        "id": "mnzdFLGLE4MP"
      },
      "source": [
        "**Ejercicio**\n",
        "\n",
        "Crea y entrena un nuevo modelo que use como tamaño de embedding 64, además el modelo tendrá tres capas ocultas después de concatenar los dos embeddings, una de 64 capas seguida de una de 8 y por último una de 4, además como en el caso anterior será necesaria una última capa para predecir. ¿Se obtienen mejores resultados con este nuevo modelo?  "
      ]
    },
    {
      "cell_type": "code",
      "metadata": {
        "id": "TzHgQhcq3Wi8"
      },
      "source": [
        "user_id_input = keras.Input(shape=(1,),name='user_id')\n",
        "movie_id_input = keras.Input(shape=(1,),name='movie_id')"
      ],
      "execution_count": 28,
      "outputs": []
    },
    {
      "cell_type": "code",
      "source": [
        "movie_embedding_size = 64\n",
        "user_embedding_size = 64\n",
        "\n",
        "user_embedded = keras.layers.Embedding(df.userId.max()+1, user_embedding_size, \n",
        "                                       input_length=1, name='user_embedding')(user_id_input)\n",
        "movie_embedded = keras.layers.Embedding(df.movieId.max()+1, movie_embedding_size, \n",
        "                                        input_length=1, name='movie_embedding')(movie_id_input)"
      ],
      "metadata": {
        "id": "WK869DFsTeqk"
      },
      "execution_count": 29,
      "outputs": []
    },
    {
      "cell_type": "code",
      "source": [
        "concatenated = keras.layers.Concatenate()([user_embedded, movie_embedded])\n",
        "out = keras.layers.Flatten()(concatenated)"
      ],
      "metadata": {
        "id": "uAiOZOP5T50R"
      },
      "execution_count": 30,
      "outputs": []
    },
    {
      "cell_type": "code",
      "source": [
        "out = keras.layers.Dense(64, activation='relu')(out)\n",
        "out = keras.layers.Dense(8, activation='relu')(out)\n",
        "out = keras.layers.Dense(4, activation='relu')(out)"
      ],
      "metadata": {
        "id": "hXYTKtQNUR1y"
      },
      "execution_count": 31,
      "outputs": []
    },
    {
      "cell_type": "code",
      "source": [
        "out = keras.layers.Dense(1, activation='linear', name='prediction')(out)"
      ],
      "metadata": {
        "id": "pa7Ekk3CVOjO"
      },
      "execution_count": 32,
      "outputs": []
    },
    {
      "cell_type": "code",
      "source": [
        "modelNN = keras.Model(\n",
        "    inputs = [user_id_input, movie_id_input],\n",
        "    outputs = out,\n",
        ")"
      ],
      "metadata": {
        "id": "1uOYFfMJVQpJ"
      },
      "execution_count": 33,
      "outputs": []
    },
    {
      "cell_type": "code",
      "source": [
        "modelNN.compile(tf.train.AdamOptimizer(0.005),loss='MSE',metrics=['MAE'])"
      ],
      "metadata": {
        "id": "8TAyY5jzWRf8",
        "outputId": "46e63deb-dd22-4198-a4d5-0cea15c6d67c",
        "colab": {
          "base_uri": "https://localhost:8080/",
          "height": 165
        }
      },
      "execution_count": 34,
      "outputs": [
        {
          "output_type": "error",
          "ename": "AttributeError",
          "evalue": "ignored",
          "traceback": [
            "\u001b[0;31m---------------------------------------------------------------------------\u001b[0m",
            "\u001b[0;31mAttributeError\u001b[0m                            Traceback (most recent call last)",
            "\u001b[0;32m<ipython-input-34-e2247d14b572>\u001b[0m in \u001b[0;36m<cell line: 1>\u001b[0;34m()\u001b[0m\n\u001b[0;32m----> 1\u001b[0;31m \u001b[0mmodelNN\u001b[0m\u001b[0;34m.\u001b[0m\u001b[0mcompile\u001b[0m\u001b[0;34m(\u001b[0m\u001b[0mtf\u001b[0m\u001b[0;34m.\u001b[0m\u001b[0mtrain\u001b[0m\u001b[0;34m.\u001b[0m\u001b[0mAdamOptimizer\u001b[0m\u001b[0;34m(\u001b[0m\u001b[0;36m0.005\u001b[0m\u001b[0;34m)\u001b[0m\u001b[0;34m,\u001b[0m\u001b[0mloss\u001b[0m\u001b[0;34m=\u001b[0m\u001b[0;34m'MSE'\u001b[0m\u001b[0;34m,\u001b[0m\u001b[0mmetrics\u001b[0m\u001b[0;34m=\u001b[0m\u001b[0;34m[\u001b[0m\u001b[0;34m'MAE'\u001b[0m\u001b[0;34m]\u001b[0m\u001b[0;34m)\u001b[0m\u001b[0;34m\u001b[0m\u001b[0;34m\u001b[0m\u001b[0m\n\u001b[0m",
            "\u001b[0;31mAttributeError\u001b[0m: module 'tensorflow._api.v2.train' has no attribute 'AdamOptimizer'"
          ]
        }
      ]
    },
    {
      "cell_type": "code",
      "source": [
        "historyNN = modelNN.fit([df.userId, df.movieId],df.y,batch_size=100000,epochs=20,validation_split=.05)"
      ],
      "metadata": {
        "id": "qHeJWqg1WUjf"
      },
      "execution_count": null,
      "outputs": []
    },
    {
      "cell_type": "code",
      "source": [
        "candidate_movies = movies[\n",
        "    movies.title.str.contains('The Godfather')\n",
        "    | (movies.title == 'Toy Story')\n",
        "    | (movies.title.str.contains('Naked Gun'))\n",
        "].copy()"
      ],
      "metadata": {
        "id": "9C3CiJIsXVvr"
      },
      "execution_count": null,
      "outputs": []
    },
    {
      "cell_type": "code",
      "source": [
        "preds = modelNN.predict([\n",
        "    [uid] * len(candidate_movies),\n",
        "    candidate_movies.index,\n",
        "])"
      ],
      "metadata": {
        "id": "1PmEMnlyX0l0"
      },
      "execution_count": null,
      "outputs": []
    },
    {
      "cell_type": "code",
      "source": [
        "row = df.iloc[0]\n",
        "y_delta = row.rating - row.y\n",
        "candidate_movies['predicted_rating'] = preds + y_delta\n",
        "candidate_movies['delta'] = candidate_movies['predicted_rating'] - candidate_movies['mean_rating']\n",
        "candidate_movies.sort_values(by='delta', ascending=False)"
      ],
      "metadata": {
        "id": "x26gsXtMX6Dq"
      },
      "execution_count": null,
      "outputs": []
    },
    {
      "cell_type": "markdown",
      "metadata": {
        "id": "cTZqjYo39Gp6"
      },
      "source": [
        "## Modelo producto escalar\n",
        "\n",
        "Vamos a considerar ahora un modelo más sencillo basado en el producto escalar. A esta arquitectura también se la suele llamar factorización de matrices. En concreto nuestro modelo de factorización será algo similar a lo siguiente. \n",
        "\n",
        "<img src=\"https://i.imgur.com/lUzvCHj.png\">\n"
      ]
    },
    {
      "cell_type": "markdown",
      "metadata": {
        "id": "2iSmwiEf90yS"
      },
      "source": [
        "De nuevo vamos a construir nuestro modelo con Keras. Comenzamos definiendo el tamaño de nuestro embedding. "
      ]
    },
    {
      "cell_type": "code",
      "metadata": {
        "id": "DxOlQ4UA6h61"
      },
      "source": [
        "movie_embedding_size = user_embedding_size = 32"
      ],
      "execution_count": null,
      "outputs": []
    },
    {
      "cell_type": "markdown",
      "metadata": {
        "id": "DrxR2iPH-Cjb"
      },
      "source": [
        "De nuevo cada instancia de nuestro dataset va a constar de dos entradas: el id del usuario y el de la película. "
      ]
    },
    {
      "cell_type": "code",
      "metadata": {
        "id": "MdMLTTMm96n0"
      },
      "source": [
        "user_id_input = keras.Input(shape=(1,), name='user_id')\n",
        "movie_id_input = keras.Input(shape=(1,), name='movie_id')"
      ],
      "execution_count": null,
      "outputs": []
    },
    {
      "cell_type": "markdown",
      "metadata": {
        "id": "HbfROc8k-KmL"
      },
      "source": [
        "Ambas entradas van a pasar a través de su respectiva capa de embedding. "
      ]
    },
    {
      "cell_type": "code",
      "metadata": {
        "id": "QKY_ioqo-J6M"
      },
      "source": [
        "user_embedded = keras.layers.Embedding(df.userId.max()+1, user_embedding_size, \n",
        "                                       input_length=1, name='user_embedding')(user_id_input)\n",
        "movie_embedded = keras.layers.Embedding(df.movieId.max()+1, movie_embedding_size, \n",
        "                                        input_length=1, name='movie_embedding')(movie_id_input)"
      ],
      "execution_count": null,
      "outputs": []
    },
    {
      "cell_type": "markdown",
      "metadata": {
        "id": "F1OgkPhO-QnU"
      },
      "source": [
        "A continuación se añade una capa encargada de realizar el producto escalar y a continuación el resultado se aplana."
      ]
    },
    {
      "cell_type": "code",
      "metadata": {
        "id": "g1jWSjKv-QJS"
      },
      "source": [
        "dotted = keras.layers.Dot(2)([user_embedded, movie_embedded])\n",
        "out = keras.layers.Flatten()(dotted)"
      ],
      "execution_count": null,
      "outputs": []
    },
    {
      "cell_type": "markdown",
      "metadata": {
        "id": "LxtQGOJe-a1N"
      },
      "source": [
        "Definimos el modelo"
      ]
    },
    {
      "cell_type": "code",
      "metadata": {
        "id": "fqZsl5DJ-ach"
      },
      "source": [
        "modelDot = keras.Model(\n",
        "    inputs = [user_id_input, movie_id_input],\n",
        "    outputs = out,\n",
        ")"
      ],
      "execution_count": null,
      "outputs": []
    },
    {
      "cell_type": "markdown",
      "metadata": {
        "id": "mI4h-kjp_Za2"
      },
      "source": [
        "y lo compilamos. "
      ]
    },
    {
      "cell_type": "code",
      "metadata": {
        "id": "HT5nxCq0-dyR"
      },
      "source": [
        "modelDot.compile(tf.optimizers.Adam(0.001),loss='MSE',metrics=['MAE'])"
      ],
      "execution_count": null,
      "outputs": []
    },
    {
      "cell_type": "markdown",
      "metadata": {
        "id": "uVlnxJdi_euq"
      },
      "source": [
        "Por último vamos a entrenarlo. "
      ]
    },
    {
      "cell_type": "code",
      "metadata": {
        "id": "WTwsxd9s_eVm"
      },
      "source": [
        "historyDot = modelDot.fit([df.userId, df.movieId],df.y,batch_size=1000000,epochs=20,validation_split=.05)"
      ],
      "execution_count": null,
      "outputs": []
    },
    {
      "cell_type": "markdown",
      "metadata": {
        "id": "IYQCgubN_nqc"
      },
      "source": [
        "Ahora, vamos a comparar gráficamente los tres modelos: el básico, el construido usando una red neuronal y el construido usando el producto escalar. "
      ]
    },
    {
      "cell_type": "code",
      "metadata": {
        "id": "9SQ31pPX_bzM"
      },
      "source": [
        "fig, ax = plt.subplots(figsize=(15, 8))\n",
        "c1 = 'blue'\n",
        "ax.plot(historyDot.epoch, historyDot.history['val_MAE'], '--', label='Validation MAE', color=c1)\n",
        "ax.plot(historyDot.epoch, historyDot.history['MAE'], label='Training MAE', color=c1)\n",
        "\n",
        "c2 = 'orange'\n",
        "ax.plot(historyNN.epoch, historyNN.history['val_MAE'], '--', label='Validation MAE (DNN)', color=c2)\n",
        "ax.plot(historyNN.epoch, historyNN.history['MAE'], label='Training MAE (DNN)', color=c2)\n",
        "ax.set_xlabel('Epoch')\n",
        "ax.set_ylabel('Mean Absolute Error')\n",
        "ax.set_xlim(left=0)\n",
        "baseline_mae = 0.73\n",
        "ax.axhline(baseline_mae, ls='-.', label='Baseline', color='#002255', alpha=.5)\n",
        "ax.grid()\n",
        "fig.legend();"
      ],
      "execution_count": null,
      "outputs": []
    },
    {
      "cell_type": "markdown",
      "metadata": {
        "id": "wuw9I-RMAKcq"
      },
      "source": [
        "Como se puede apreciar el modelo basado en el producto escalar también funciona bastante bien, aunque también sufre el problema del overfitting. "
      ]
    },
    {
      "cell_type": "markdown",
      "metadata": {
        "id": "2Vh4RirDG2Qt"
      },
      "source": [
        "**Ejercicio**\n",
        "\n",
        "Utilizando esta técnica crea un modelo que use como tamaño de embedding 16.\n"
      ]
    },
    {
      "cell_type": "code",
      "metadata": {
        "id": "D1xmo5xJHBf9"
      },
      "source": [],
      "execution_count": null,
      "outputs": []
    },
    {
      "cell_type": "code",
      "metadata": {
        "id": "GGRtub0F4T4F"
      },
      "source": [
        "movie_embedding_size = user_embedding_size = 16"
      ],
      "execution_count": null,
      "outputs": []
    },
    {
      "cell_type": "code",
      "source": [
        "user_id_input = keras.Input(shape=(1,), name='user_id')\n",
        "movie_id_input = keras.Input(shape=(1,), name='movie_id')"
      ],
      "metadata": {
        "id": "52_8eaIca_J7"
      },
      "execution_count": null,
      "outputs": []
    },
    {
      "cell_type": "code",
      "source": [
        "user_embedded = keras.layers.Embedding(df.userId.max()+1, user_embedding_size, \n",
        "                                       input_length=1, name='user_embedding')(user_id_input)\n",
        "movie_embedded = keras.layers.Embedding(df.movieId.max()+1, movie_embedding_size, \n",
        "                                        input_length=1, name='movie_embedding')(movie_id_input)"
      ],
      "metadata": {
        "id": "QHXQL8YTbBTU"
      },
      "execution_count": null,
      "outputs": []
    },
    {
      "cell_type": "code",
      "source": [
        "dotted = keras.layers.Dot(2)([user_embedded, movie_embedded])\n",
        "out = keras.layers.Flatten()(dotted)"
      ],
      "metadata": {
        "id": "aNJoFqKqbDc1"
      },
      "execution_count": null,
      "outputs": []
    },
    {
      "cell_type": "code",
      "source": [
        "modelDot = keras.Model(\n",
        "    inputs = [user_id_input, movie_id_input],\n",
        "    outputs = out,\n",
        ")"
      ],
      "metadata": {
        "id": "2RGf0Zd4btCS"
      },
      "execution_count": null,
      "outputs": []
    },
    {
      "cell_type": "code",
      "source": [
        "modelDot.compile(tf.train.AdamOptimizer(0.001),loss='MSE',metrics=['MAE'])"
      ],
      "metadata": {
        "id": "iz94vTuKbu1e"
      },
      "execution_count": null,
      "outputs": []
    },
    {
      "cell_type": "code",
      "source": [
        "historyDot = modelDot.fit([df.userId, df.movieId],df.y,batch_size=100000,epochs=20,validation_split=.05)"
      ],
      "metadata": {
        "id": "Z6FvOvoObwiV",
        "outputId": "3acf7a85-0ed9-4347-ed14-ec94b6e7d622",
        "colab": {
          "base_uri": "https://localhost:8080/"
        }
      },
      "execution_count": null,
      "outputs": [
        {
          "output_type": "stream",
          "name": "stdout",
          "text": [
            "Train on 19000249 samples, validate on 1000014 samples\n",
            "Epoch 1/20\n",
            "19000249/19000249 [==============================] - 14s 1us/sample - loss: 1.0991 - mean_absolute_error: 0.8375 - val_loss: 1.0502 - val_mean_absolute_error: 0.8164\n",
            "Epoch 2/20\n",
            "19000249/19000249 [==============================] - 13s 1us/sample - loss: 0.8976 - mean_absolute_error: 0.7394 - val_loss: 0.7894 - val_mean_absolute_error: 0.6829\n",
            "Epoch 3/20\n",
            "19000249/19000249 [==============================] - 13s 1us/sample - loss: 0.7443 - mean_absolute_error: 0.6612 - val_loss: 0.7323 - val_mean_absolute_error: 0.6544\n",
            "Epoch 4/20\n",
            "19000249/19000249 [==============================] - 13s 1us/sample - loss: 0.7039 - mean_absolute_error: 0.6414 - val_loss: 0.7100 - val_mean_absolute_error: 0.6433\n",
            "Epoch 5/20\n",
            "19000249/19000249 [==============================] - 13s 1us/sample - loss: 0.6813 - mean_absolute_error: 0.6303 - val_loss: 0.6950 - val_mean_absolute_error: 0.6359\n",
            "Epoch 6/20\n",
            "19000249/19000249 [==============================] - 13s 1us/sample - loss: 0.6636 - mean_absolute_error: 0.6216 - val_loss: 0.6830 - val_mean_absolute_error: 0.6300\n",
            "Epoch 7/20\n",
            "19000249/19000249 [==============================] - 13s 1us/sample - loss: 0.6481 - mean_absolute_error: 0.6139 - val_loss: 0.6729 - val_mean_absolute_error: 0.6249\n",
            "Epoch 8/20\n",
            "19000249/19000249 [==============================] - 13s 1us/sample - loss: 0.6339 - mean_absolute_error: 0.6068 - val_loss: 0.6641 - val_mean_absolute_error: 0.6205\n",
            "Epoch 9/20\n",
            "19000249/19000249 [==============================] - 13s 1us/sample - loss: 0.6211 - mean_absolute_error: 0.6004 - val_loss: 0.6569 - val_mean_absolute_error: 0.6169\n",
            "Epoch 10/20\n",
            "19000249/19000249 [==============================] - 13s 1us/sample - loss: 0.6097 - mean_absolute_error: 0.5946 - val_loss: 0.6509 - val_mean_absolute_error: 0.6139\n",
            "Epoch 11/20\n",
            "19000249/19000249 [==============================] - 13s 1us/sample - loss: 0.5994 - mean_absolute_error: 0.5894 - val_loss: 0.6461 - val_mean_absolute_error: 0.6115\n",
            "Epoch 12/20\n",
            "19000249/19000249 [==============================] - 13s 1us/sample - loss: 0.5901 - mean_absolute_error: 0.5847 - val_loss: 0.6421 - val_mean_absolute_error: 0.6095\n",
            "Epoch 13/20\n",
            "19000249/19000249 [==============================] - 13s 1us/sample - loss: 0.5817 - mean_absolute_error: 0.5804 - val_loss: 0.6388 - val_mean_absolute_error: 0.6079\n",
            "Epoch 14/20\n",
            "19000249/19000249 [==============================] - 13s 1us/sample - loss: 0.5739 - mean_absolute_error: 0.5764 - val_loss: 0.6362 - val_mean_absolute_error: 0.6065\n",
            "Epoch 15/20\n",
            "19000249/19000249 [==============================] - 13s 1us/sample - loss: 0.5669 - mean_absolute_error: 0.5727 - val_loss: 0.6340 - val_mean_absolute_error: 0.6055\n",
            "Epoch 16/20\n",
            "19000249/19000249 [==============================] - 13s 1us/sample - loss: 0.5604 - mean_absolute_error: 0.5694 - val_loss: 0.6322 - val_mean_absolute_error: 0.6046\n",
            "Epoch 17/20\n",
            "19000249/19000249 [==============================] - 13s 1us/sample - loss: 0.5544 - mean_absolute_error: 0.5663 - val_loss: 0.6309 - val_mean_absolute_error: 0.6039\n",
            "Epoch 18/20\n",
            "19000249/19000249 [==============================] - 13s 1us/sample - loss: 0.5490 - mean_absolute_error: 0.5634 - val_loss: 0.6298 - val_mean_absolute_error: 0.6033\n",
            "Epoch 19/20\n",
            "19000249/19000249 [==============================] - 13s 1us/sample - loss: 0.5440 - mean_absolute_error: 0.5609 - val_loss: 0.6290 - val_mean_absolute_error: 0.6029\n",
            "Epoch 20/20\n",
            "19000249/19000249 [==============================] - 13s 1us/sample - loss: 0.5395 - mean_absolute_error: 0.5585 - val_loss: 0.6285 - val_mean_absolute_error: 0.6026\n"
          ]
        }
      ]
    },
    {
      "cell_type": "markdown",
      "metadata": {
        "id": "Wyec_rTHHB6p"
      },
      "source": [
        "**Ejercicio opcional**\n",
        "\n",
        "En el notebook practica10_1 hemos visto cómo aplicar la técnica de Dropout para reducir el overfitting. En Keras es posible aplicar esta técnica. Investiga cómo añadir una capa de Dropout a los modelos que hemos creado."
      ]
    },
    {
      "cell_type": "code",
      "metadata": {
        "id": "qAXGDVbmHEqe"
      },
      "source": [],
      "execution_count": null,
      "outputs": []
    },
    {
      "cell_type": "markdown",
      "metadata": {
        "id": "q4pYVrIKCA7N"
      },
      "source": [
        "## Comprendiendo los embeddings\n",
        "\n",
        "Durante el curso hemos explicado que los embeddings son capaces de capturar el \"significado\" de los objetos que representan y que pueden usarse para descubrir la estructura subyacente de los mismos. Vamos a ver qué significa esto. Para ello vamos a considerar el modelo construido mediante la red neuronal (podríamos hacer lo mismo con el construido mediante el producto escalar).\n",
        "\n",
        "Como hemos visto anteriormente hay dos embeddings el de las películas y el de los usuarios. Nosotros nos centraremos en el primero de ellos. Para acceder a dicho embedding debemos acceder a las \"tripas\" de nuestro modelo. En concreto debemos obtener los pesos de la capa de embedding."
      ]
    },
    {
      "cell_type": "code",
      "metadata": {
        "id": "4sVV5_B8_1wK"
      },
      "source": [
        "emb_layer = modelNN.get_layer('movie_embedding')\n",
        "(w,) = emb_layer.get_weights()"
      ],
      "execution_count": 35,
      "outputs": []
    },
    {
      "cell_type": "markdown",
      "metadata": {
        "id": "zE44-2YlDtqM"
      },
      "source": [
        "Veámos la forma de dichos pesos. "
      ]
    },
    {
      "cell_type": "code",
      "metadata": {
        "id": "U2Y37FltDps2",
        "outputId": "84504484-0712-484f-9fe3-45f89e76f1bf",
        "colab": {
          "base_uri": "https://localhost:8080/"
        }
      },
      "source": [
        "w.shape"
      ],
      "execution_count": 36,
      "outputs": [
        {
          "output_type": "execute_result",
          "data": {
            "text/plain": [
              "(26744, 64)"
            ]
          },
          "metadata": {},
          "execution_count": 36
        }
      ]
    },
    {
      "cell_type": "markdown",
      "metadata": {
        "id": "y13-EWpbD1_E"
      },
      "source": [
        "Como podemos apreciar tenemos una lista de 26744 vectores (uno por cada película del dataset), y cada vector consta de 32 componentes (el tamaño del embedding que hemos definido previamente). Por lo tanto podemos ver el embedding de alguna de nuestras películas, por ejemplo de la primera del dataset. "
      ]
    },
    {
      "cell_type": "code",
      "metadata": {
        "id": "B8nMxAhUDwJd",
        "outputId": "af27b23c-048d-467c-9020-0a5b9e68a0e4",
        "colab": {
          "base_uri": "https://localhost:8080/"
        }
      },
      "source": [
        "w[0]"
      ],
      "execution_count": 37,
      "outputs": [
        {
          "output_type": "execute_result",
          "data": {
            "text/plain": [
              "array([ 0.01217378, -0.00686747,  0.02714661, -0.02395293, -0.0486397 ,\n",
              "       -0.04094319, -0.00917564,  0.04560489, -0.00042465,  0.02035928,\n",
              "        0.03590805, -0.01764606, -0.02261881, -0.03326062, -0.04158205,\n",
              "        0.0277998 , -0.04019339, -0.00242259,  0.02142234, -0.02448765,\n",
              "       -0.01279583,  0.0313605 , -0.01071382,  0.00643679,  0.00941409,\n",
              "       -0.03104143,  0.01262245,  0.03645182,  0.042778  ,  0.00055306,\n",
              "       -0.03453143, -0.00825818,  0.01953572, -0.0374861 ,  0.03887447,\n",
              "        0.00454209, -0.00133941,  0.035081  ,  0.03553167,  0.00128854,\n",
              "       -0.03243425,  0.02815553,  0.01489978, -0.04240549,  0.04112159,\n",
              "        0.02826122, -0.03339343, -0.04207236,  0.01676197,  0.04365137,\n",
              "        0.00797985, -0.04171884,  0.04610128,  0.00579906, -0.04332037,\n",
              "       -0.0108728 , -0.01097105,  0.00837628,  0.03532021,  0.01304248,\n",
              "        0.00411619,  0.04673845, -0.00366277, -0.01140434], dtype=float32)"
            ]
          },
          "metadata": {},
          "execution_count": 37
        }
      ]
    },
    {
      "cell_type": "markdown",
      "metadata": {
        "id": "BKf1ngEjEN_f"
      },
      "source": [
        "Si mostramos las cinco primeras filas del dataset, podemos ver que dicho embedding se corresponde con la película Toy Story. "
      ]
    },
    {
      "cell_type": "code",
      "metadata": {
        "id": "y0vSV4FfEISs"
      },
      "source": [
        "movies_df.head()"
      ],
      "execution_count": null,
      "outputs": []
    },
    {
      "cell_type": "markdown",
      "metadata": {
        "id": "ITBKZGNOETwQ"
      },
      "source": [
        "### Vectores de similaridad\n",
        "\n",
        "Una manera de comprobar si la representación obtenida es correcta consiste en mirar como de lejanos o cercanos son pares de películas dentro del espacio de embedding. En caso de que el embedding sea lo suficientemente bueno debería ser capaz de decir que películas similares tienen vectores similares. \n",
        "\n",
        "Por ejemplo, vamos a considerar tres películas de nuestro dataset: Toy Story, El jorobado de Notre Dame y El exorcista. Si nuestro embedding es razonable debería indicar que Toy Story se encuentra más cerca del jorobado de Notre Dame que del exorcista. \n",
        "\n",
        "Para ver esto debemos comenzar obteniendo los identificadores de estas tres películas. "
      ]
    },
    {
      "cell_type": "code",
      "metadata": {
        "id": "gYHqzG8jEMGD"
      },
      "source": [
        "i_toy_story = 0\n",
        "i_notre_dame = movies_df.loc[movies_df.title == 'The Hunchback of Notre Dame','movieId'].iloc[0]\n",
        "i_exorcist = movies_df.loc[movies_df.title == 'The Exorcist','movieId'].iloc[0]"
      ],
      "execution_count": null,
      "outputs": []
    },
    {
      "cell_type": "markdown",
      "metadata": {
        "id": "f96z4um6FFYY"
      },
      "source": [
        "Ahora obtenemos el embedding de cada uno de ellos. "
      ]
    },
    {
      "cell_type": "code",
      "metadata": {
        "id": "9NFKM_KdFDfG"
      },
      "source": [
        "toy_story_vec = w[i_toy_story]\n",
        "notre_dame_vec = w[i_notre_dame]\n",
        "exorcist_vec = w[i_exorcist]"
      ],
      "execution_count": null,
      "outputs": []
    },
    {
      "cell_type": "markdown",
      "metadata": {
        "id": "jfc4ET57HK_d"
      },
      "source": [
        "Podemos ahora medir la distancia usando la distancia coseno."
      ]
    },
    {
      "cell_type": "code",
      "metadata": {
        "id": "dwu1jvukFa_M"
      },
      "source": [
        "from scipy.spatial import distance\n",
        "\n",
        "print(\"Distancia entre Toy Story y El Jorobado de Notre Dame: \", distance.cosine(toy_story_vec, notre_dame_vec))\n",
        "print(\"Distancia entre Toy Story y El Exorcista: \", distance.cosine(toy_story_vec, exorcist_vec))"
      ],
      "execution_count": null,
      "outputs": []
    },
    {
      "cell_type": "markdown",
      "metadata": {
        "id": "5IiPog23HnHn"
      },
      "source": [
        "Como podemos ver, tenemos un embedding razonable. Ahora, poremos hacernos preguntas como ¿Qué películas son las más parecidas a Toy Story? ¿Cuáles son películas completamente distintas a Scream? Para ello podeoms usar la librería [Gensim](https://radimrehurek.com/gensim/). Para ello instanciaremos la clase \"KeyedVectors\" con el embedding que hemos construido anterioremente. \n"
      ]
    },
    {
      "cell_type": "code",
      "metadata": {
        "id": "c7mgZZbXF_95"
      },
      "source": [
        "from gensim.models.keyedvectors import KeyedVectors"
      ],
      "execution_count": null,
      "outputs": []
    },
    {
      "cell_type": "markdown",
      "metadata": {
        "id": "IBZuIi2GId6S"
      },
      "source": [
        "A continuación definimos nuestro embedding. "
      ]
    },
    {
      "cell_type": "code",
      "metadata": {
        "id": "sPj-LcnIGBcZ"
      },
      "source": [
        "movie_embedding_size = w.shape[1]\n",
        "kv = KeyedVectors(movie_embedding_size)\n",
        "kv.add_vectors(\n",
        "    movies_df['title'].values,\n",
        "    w[movies_df.movieId]\n",
        ")"
      ],
      "execution_count": null,
      "outputs": []
    },
    {
      "cell_type": "markdown",
      "metadata": {
        "id": "XArV62NZKCEm"
      },
      "source": [
        "Ahora podemos preguntar cuáles son las películas más similares a Toy Story con la siguiente instrucción. "
      ]
    },
    {
      "cell_type": "code",
      "metadata": {
        "id": "Tw6E_s-jIpMD"
      },
      "source": [
        "kv.most_similar('Toy Story')"
      ],
      "execution_count": null,
      "outputs": []
    },
    {
      "cell_type": "markdown",
      "metadata": {
        "id": "DH1iHZRsVBFu"
      },
      "source": [
        "Como es de esperar, Toy Story es muy similar a Toy Story 2. Vamos a mostrar los vecinos más cercanos para unas cuentas películas de distintos géneros. "
      ]
    },
    {
      "cell_type": "code",
      "metadata": {
        "id": "q-9OytudItti"
      },
      "source": [
        "import textwrap\n",
        "movies = ['Eyes Wide Shut', 'American Pie', 'Iron Man 3', 'West Side Story',\n",
        "          'Battleship Potemkin', 'Clueless'\n",
        "]\n",
        "\n",
        "def plot_most_similar(movie, ax, topn=5):\n",
        "    sim = kv.most_similar(movie, topn=topn)[::-1]\n",
        "    y = np.arange(len(sim))\n",
        "    w = [t[1] for t in sim]\n",
        "    ax.barh(y, w)\n",
        "    left = min(.6, min(w))\n",
        "    ax.set_xlim(right=1.0, left=left)\n",
        "    # Split long titles over multiple lines\n",
        "    labels = [textwrap.fill(t[0] , width=24)\n",
        "              for t in sim]\n",
        "    ax.set_yticks(y)\n",
        "    ax.set_yticklabels(labels)\n",
        "    ax.set_title(movie)    \n",
        "\n",
        "fig, axes = plt.subplots(3, 2, figsize=(15, 9))\n",
        "\n",
        "for movie, ax in zip(movies, axes.flatten()):\n",
        "    plot_most_similar(movie, ax)\n",
        "    \n",
        "fig.tight_layout()"
      ],
      "execution_count": null,
      "outputs": []
    },
    {
      "cell_type": "markdown",
      "metadata": {
        "id": "RkBs8ZIzIfBw"
      },
      "source": [
        "**Ejercicio**\n",
        "\n",
        "¿Cuáles son las películas más parecidas a Scream?"
      ]
    },
    {
      "cell_type": "code",
      "metadata": {
        "id": "jx27eiNyIenY"
      },
      "source": [
        "kv.most_similar('Scream')"
      ],
      "execution_count": null,
      "outputs": []
    },
    {
      "cell_type": "markdown",
      "metadata": {
        "id": "cvrhWUfxXUPd"
      },
      "source": [
        "## Visualizando los embeddings\n",
        "\n"
      ]
    },
    {
      "cell_type": "markdown",
      "metadata": {
        "id": "cdxJcJ0rsThR"
      },
      "source": [
        "La visualización de datos en 1 o 2 dimensiones es sencilla, pero no ocurre lo mismo cuando tenemos datos en 8 o 32 dimensiones. Para dichos casos se utilizan técnicas de reducción de dimensionalidad como ya hemos visto previamente en el curso. \n",
        "\n",
        "Vamos a utilizar la técnica [t-SNE](https://lvdmaaten.github.io/tsne/) para visualizar nuestro dataset. Como hay muchas películas en el mismo, nos vamos a quedar solo con aquellas que son populares. \n"
      ]
    },
    {
      "cell_type": "code",
      "metadata": {
        "id": "OV2tszcEXcES"
      },
      "source": [
        "threshold = 100\n",
        "mainstream_movies = movies_df[movies_df.n_ratings >= threshold].reset_index(drop=True)\n",
        "print(\"Went from {} to {} movies after applying threshold\".format(\n",
        "    len(movies_df), len(mainstream_movies),\n",
        "))\n",
        "w_full = w\n",
        "w = w[mainstream_movies.movieId]\n",
        "df = mainstream_movies"
      ],
      "execution_count": null,
      "outputs": []
    },
    {
      "cell_type": "markdown",
      "metadata": {
        "id": "GSW0pgdluJ8X"
      },
      "source": [
        "Aplicamos la técnica de t-SNE a nuestro dataset reducido. "
      ]
    },
    {
      "cell_type": "code",
      "metadata": {
        "id": "1BZPRUgPYIyP"
      },
      "source": [
        "from sklearn.manifold import TSNE\n",
        "\n",
        "\n",
        "tsne = TSNE(random_state=1, n_iter=1000, metric=\"cosine\")\n",
        "\n",
        "embs = tsne.fit_transform(w)\n",
        "df['x'] = embs[:, 0]\n",
        "df['y'] = embs[:, 1]"
      ],
      "execution_count": null,
      "outputs": []
    },
    {
      "cell_type": "markdown",
      "metadata": {
        "id": "YeypZHvhuPB_"
      },
      "source": [
        "Una vez que hemos reducido la dimensionalidad de los embeddings de las películas podemos visualizarlos con el siguiente código. "
      ]
    },
    {
      "cell_type": "code",
      "metadata": {
        "id": "nI1htsNCeoyU"
      },
      "source": [
        "FS = (10, 8)\n",
        "fig, ax = plt.subplots(figsize=FS)\n",
        "ax.scatter(df.x, df.y, alpha=.1)"
      ],
      "execution_count": null,
      "outputs": []
    },
    {
      "cell_type": "markdown",
      "metadata": {
        "id": "A6sBySQBub3N"
      },
      "source": [
        "Es difícil saber si la reducción de dimensionalidad ha sido útil solo por el aspecto de la nube de puntos anterior. Así que ahora vamos a intentar identificar grupos de películas que creemos que deberían estar cercanas en el espacio. Para ello es necesario definir una serie de funciones auxiliares que nos permitirán generar gráficos. "
      ]
    },
    {
      "cell_type": "code",
      "metadata": {
        "id": "O3-sfvDlf8vk"
      },
      "source": [
        "try:\n",
        "    from adjustText import adjust_text\n",
        "except ImportError:\n",
        "    def adjust_text(*args, **kwargs):\n",
        "        pass\n",
        "\n",
        "def adjust_text(*args, **kwargs):\n",
        "    pass\n",
        "  \n",
        "def plot_bg(bg_alpha=.01, figsize=(13, 9), emb_2d=None):\n",
        "    \"\"\"Create and return a plot of all our movie embeddings with very low opacity.\n",
        "    (Intended to be used as a basis for further - more prominent - plotting of a \n",
        "    subset of movies. Having the overall shape of the map space in the background is\n",
        "    useful for context.)\n",
        "    \"\"\"\n",
        "    if emb_2d is None:\n",
        "        emb_2d = embs\n",
        "    fig, ax = plt.subplots(figsize=figsize)\n",
        "    X = emb_2d[:, 0]\n",
        "    Y = emb_2d[:, 1]\n",
        "    ax.scatter(X, Y, alpha=bg_alpha)\n",
        "    return ax\n",
        "\n",
        "def annotate_sample(n, n_ratings_thresh=0):\n",
        "    \"\"\"Plot our embeddings with a random sample of n movies annotated.\n",
        "    Only selects movies where the number of ratings is at least n_ratings_thresh.\n",
        "    \"\"\"\n",
        "    sample = mainstream_movies[mainstream_movies.n_ratings >= n_ratings_thresh].sample(\n",
        "        n, random_state=1)\n",
        "    plot_with_annotations(sample.index)\n",
        "\n",
        "def plot_by_title_pattern(pattern, **kwargs):\n",
        "    \"\"\"Plot all movies whose titles match the given regex pattern.\n",
        "    \"\"\"\n",
        "    match = df[df.title.str.contains(pattern)]\n",
        "    return plot_with_annotations(match.index, **kwargs)\n",
        "\n",
        "def add_annotations(ax, label_indices, emb_2d=None, **kwargs):\n",
        "    if emb_2d is None:\n",
        "        emb_2d = embs\n",
        "    X = emb_2d[label_indices, 0]\n",
        "    Y = emb_2d[label_indices, 1]\n",
        "    ax.scatter(X, Y, **kwargs)\n",
        "\n",
        "def plot_with_annotations(label_indices, text=True, labels=None, alpha=1, **kwargs):\n",
        "    ax = plot_bg(**kwargs)\n",
        "    Xlabeled = embs[label_indices, 0]\n",
        "    Ylabeled = embs[label_indices, 1]\n",
        "    if labels is not None:\n",
        "        for x, y, label in zip(Xlabeled, Ylabeled, labels):\n",
        "            ax.scatter(x, y, alpha=alpha, label=label, marker='1',\n",
        "                       s=90,\n",
        "                      )\n",
        "        fig.legend()\n",
        "    else:\n",
        "        ax.scatter(Xlabeled, Ylabeled, alpha=alpha, color='green')\n",
        "    \n",
        "    if text:\n",
        "        # TODO: Add abbreviated title column\n",
        "        titles = mainstream_movies.loc[label_indices, 'title'].values\n",
        "        texts = []\n",
        "        for label, x, y in zip(titles, Xlabeled, Ylabeled):\n",
        "            t = ax.annotate(label, xy=(x, y))\n",
        "            texts.append(t)\n",
        "        adjust_text(texts, \n",
        "                    #expand_text=(1.01, 1.05),\n",
        "                    arrowprops=dict(arrowstyle='->', color='red'),\n",
        "                   )\n",
        "    return ax\n",
        "\n",
        "FS = (13, 9)\n",
        "def plot_region(x0, x1, y0, y1, text=True):\n",
        "    \"\"\"Plot the region of the mapping space bounded by the given x and y limits.\n",
        "    \"\"\"\n",
        "    fig, ax = plt.subplots(figsize=FS)\n",
        "    pts = df[\n",
        "        (df.x >= x0) & (df.x <= x1)\n",
        "        & (df.y >= y0) & (df.y <= y1)\n",
        "    ]\n",
        "    ax.scatter(pts.x, pts.y, alpha=.6)\n",
        "    ax.set_xlim(x0, x1)\n",
        "    ax.set_ylim(y0, y1)\n",
        "    if text:\n",
        "        texts = []\n",
        "        for label, x, y in zip(pts.title.values, pts.x.values, pts.y.values):\n",
        "            t = ax.annotate(label, xy=(x, y))\n",
        "            texts.append(t)\n",
        "        adjust_text(texts, expand_text=(1.01, 1.05))\n",
        "    return ax\n",
        "\n",
        "def plot_region_around(title, margin=5, **kwargs):\n",
        "    \"\"\"Plot the region of the mapping space in the neighbourhood of the the movie with\n",
        "    the given title. The margin parameter controls the size of the neighbourhood around\n",
        "    the movie.\n",
        "    \"\"\"\n",
        "    xmargin = ymargin = margin\n",
        "    match = df[df.title == title]\n",
        "    assert len(match) == 1\n",
        "    row = match.iloc[0]\n",
        "    return plot_region(row.x-xmargin, row.x+xmargin, row.y-ymargin, row.y+ymargin, **kwargs)"
      ],
      "execution_count": null,
      "outputs": []
    },
    {
      "cell_type": "markdown",
      "metadata": {
        "id": "1ZOiHrTLuul1"
      },
      "source": [
        "Con las funciones anteriores podemos ver por ejemplo la cercanía de las películas de Harry Potter. "
      ]
    },
    {
      "cell_type": "code",
      "metadata": {
        "id": "MFz9IN1qfIPB"
      },
      "source": [
        "plot_by_title_pattern('Harry Potter', figsize=(15, 9), bg_alpha=.05, text=False);"
      ],
      "execution_count": null,
      "outputs": []
    },
    {
      "cell_type": "markdown",
      "metadata": {
        "id": "unkXfvj3vW-Z"
      },
      "source": [
        "El gráfico anterior muestra un punto verde donde están las 8 películas de Harry Potter pero están tan creca que es imposible apreciarlo. Por lo que podemos hacer zoom con la siguiente llamada. "
      ]
    },
    {
      "cell_type": "code",
      "metadata": {
        "id": "Y32VGaLKgR08"
      },
      "source": [
        "plot_region_around('Harry Potter and the Order of the Phoenix', 2);"
      ],
      "execution_count": null,
      "outputs": []
    },
    {
      "cell_type": "markdown",
      "metadata": {
        "id": "B0kKCMHxvCHx"
      },
      "source": [
        "Podemos aproximarnos un poco más a dicha región y como era de esperar las películas de Harry Potter están muy cercanas entre sí. "
      ]
    },
    {
      "cell_type": "code",
      "metadata": {
        "id": "RkZm3cbGfKJR"
      },
      "source": [
        "plot_region_around('Harry Potter and the Order of the Phoenix', 0.25);"
      ],
      "execution_count": null,
      "outputs": []
    },
    {
      "cell_type": "markdown",
      "metadata": {
        "id": "Bi-VGiusJJsy"
      },
      "source": [
        "**Ejercicio** Usando esta técnica busca las películas más cercanas a Toy Story."
      ]
    },
    {
      "cell_type": "code",
      "metadata": {
        "id": "A5oTa7A7JLB-"
      },
      "source": [
        "plot_region_around('Toy Story', 2);"
      ],
      "execution_count": null,
      "outputs": []
    },
    {
      "cell_type": "markdown",
      "metadata": {
        "id": "j2V1iSJRvlZh"
      },
      "source": [
        "También podemos buscar relaciones más generales, por ejemplo entre películas del mismo género. Por ejemplo, el siguiente código muestra cómo mostrar las películas del género Documental. "
      ]
    },
    {
      "cell_type": "code",
      "metadata": {
        "id": "c0tblrWkfLR5"
      },
      "source": [
        "docs = df[ (df.genres == 'Documentary') ]\n",
        "plot_with_annotations(docs.index, text=False, alpha=.4, figsize=(15, 8));"
      ],
      "execution_count": null,
      "outputs": []
    },
    {
      "cell_type": "markdown",
      "metadata": {
        "id": "wZuezsyzqXM6"
      },
      "source": [
        "Aunque en la figura anterior no hay un clúster completamente definido, sí que podemos apreciar cierto patrón. \n",
        "\n",
        "También se puede repetir el mismo experimento visualizando todas aquellas películas que pertenecen a uno, o varios, de los géneros comedia, drama o romance. "
      ]
    },
    {
      "cell_type": "code",
      "metadata": {
        "id": "GvB3Q1bkfNLo"
      },
      "source": [
        "import itertools\n",
        "sample_rate = 1\n",
        "genre_components = ['Comedy', 'Drama', 'Romance']\n",
        "genre_combos = set()\n",
        "for size in range(1, 4):\n",
        "    combo_strs = ['|'.join(genres) for genres in itertools.combinations(genre_components, size)]\n",
        "    genre_combos.update(combo_strs)\n",
        "\n",
        "ax = plot_bg(figsize=(16, 10))\n",
        "dromcoms = df[df.genres.isin(genre_combos)]\n",
        "if sample_rate != 1:\n",
        "    dromcoms = dromcoms.sample(frac=sample_rate, random_state=1)\n",
        "for i, genre in enumerate(genre_components):\n",
        "    m = dromcoms[dromcoms.genres.str.contains(genre)]\n",
        "    marker = str(i+1)\n",
        "    add_annotations(ax, m.index, label=genre, alpha=.5, marker=marker, s=150, linewidths=5)\n",
        "plt.legend();"
      ],
      "execution_count": null,
      "outputs": []
    },
    {
      "cell_type": "markdown",
      "metadata": {
        "id": "z7U45iQhwOyc"
      },
      "source": [
        "Como podemos apreciar en la imagen anterior, las comedias y los dramas están en lados opuestos de la nube de puntos. "
      ]
    },
    {
      "cell_type": "markdown",
      "metadata": {
        "id": "HymJRiTJJiFZ"
      },
      "source": [
        "**Ejercicio**\n",
        "\n",
        "Usando la técnica anterior visualiza otros géneros y sus relaciones (puedes ver los géneros disponibles en el dataset inicial). "
      ]
    },
    {
      "cell_type": "code",
      "metadata": {
        "id": "qlr8EAAAJsVP"
      },
      "source": [
        "sample_rate = 1\n",
        "genre_components = ['Horror', 'Thriller']\n",
        "genre_combos = set()\n",
        "for size in range(1, 4):\n",
        "    combo_strs = ['|'.join(genres) for genres in itertools.combinations(genre_components, size)]\n",
        "    genre_combos.update(combo_strs)\n",
        "\n",
        "ax = plot_bg(figsize=(16, 10))\n",
        "dromcoms = df[df.genres.isin(genre_combos)]\n",
        "if sample_rate != 1:\n",
        "    dromcoms = dromcoms.sample(frac=sample_rate, random_state=1)\n",
        "for i, genre in enumerate(genre_components):\n",
        "    m = dromcoms[dromcoms.genres.str.contains(genre)]\n",
        "    marker = str(i+1)\n",
        "    add_annotations(ax, m.index, label=genre, alpha=.5, marker=marker, s=150, linewidths=5)\n",
        "plt.legend();"
      ],
      "execution_count": null,
      "outputs": []
    },
    {
      "cell_type": "markdown",
      "metadata": {
        "id": "Ogt8k3I7qikl"
      },
      "source": [
        "**Ejercicio optativo**\n",
        "\n",
        "Existen múltiples datasets en los cuales se puede aplicar filtrado colaborativo. Como ejercicio, puedes probar a aplicar lo explicado en este notebook para datasets de:\n",
        "- [Recomendación de música](https://www.kaggle.com/rymnikski/dataset-for-collaborative-filters). \n",
        "- [Recomendación de libros](https://www.kaggle.com/zygmunt/goodbooks-10k).\n",
        "\n",
        "Desde los enlaces anteriores se pueden descargar los ficheros necesarios para entrenar los modelos de filtrado colaborativo. \n"
      ]
    },
    {
      "cell_type": "code",
      "metadata": {
        "id": "EGRVC1nHEq_4"
      },
      "source": [],
      "execution_count": null,
      "outputs": []
    },
    {
      "cell_type": "markdown",
      "metadata": {
        "id": "Kt0cZW0CKgv3"
      },
      "source": [
        "Recuerda guardar este notebook en el repositorio de GitHub con la opción Save a copy in GitHub del menú File.  "
      ]
    }
  ]
}