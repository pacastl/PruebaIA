{
  "nbformat": 4,
  "nbformat_minor": 0,
  "metadata": {
    "colab": {
      "provenance": [],
      "authorship_tag": "ABX9TyNNMBqy/eUYdR6VFj0IyuVH",
      "include_colab_link": true
    },
    "kernelspec": {
      "name": "python3",
      "display_name": "Python 3"
    },
    "language_info": {
      "name": "python"
    }
  },
  "cells": [
    {
      "cell_type": "markdown",
      "metadata": {
        "id": "view-in-github",
        "colab_type": "text"
      },
      "source": [
        "<a href=\"https://colab.research.google.com/github/pacastl/PruebaIA/blob/main/Selecci%C3%B3n_de_descriptores_y_an%C3%A1lisis_estad%C3%ADstico.ipynb\" target=\"_parent\"><img src=\"https://colab.research.google.com/assets/colab-badge.svg\" alt=\"Open In Colab\"/></a>"
      ]
    },
    {
      "cell_type": "markdown",
      "source": [
        "# Selección de descriptores"
      ],
      "metadata": {
        "id": "kFx_KZmQU4bq"
      }
    },
    {
      "cell_type": "code",
      "execution_count": 1,
      "metadata": {
        "colab": {
          "base_uri": "https://localhost:8080/"
        },
        "id": "xhMgCiaVOnSv",
        "outputId": "8055e5ec-ebb3-40b5-8102-1e1f7f7fd4dc"
      },
      "outputs": [
        {
          "output_type": "stream",
          "name": "stdout",
          "text": [
            "         SL      EEG  BP   HR  CIRCULATION  ACTIVITY\n",
            "0   4019.64 -1600.00  13   79          317         3\n",
            "1   2191.03 -1146.08  20   54          165         2\n",
            "2   2787.99 -1263.38  46   67          224         2\n",
            "3   9545.98 -2848.93  26  138          554         4\n",
            "4  14148.80 -2381.15  85  120          809         4\n"
          ]
        }
      ],
      "source": [
        "import numpy as np\n",
        "import pandas as pd\n",
        "# url del repositorio de github para poder leerlos\n",
        "url_train = 'https://raw.githubusercontent.com/pacastl/PruebaIA/main/train.csv'\n",
        "url_test = 'https://raw.githubusercontent.com/pacastl/PruebaIA/main/test.csv'\n",
        "\n",
        "# Leemos los CSV como Pandas DataFrames\n",
        "df = pd.read_csv(url_train)\n",
        "#test_df = pd.read_csv(url_test)\n",
        "\n",
        "#otra forma de leerlos porque los descargué en mi pc\n",
        "train_file = r'C:\\Users\\Pablo\\Downloads\\train.csv'\n",
        "test_file = r'C:\\Users\\Pablo\\Downloads\\test.csv'\n",
        "\n",
        "#df = pd.read_csv(train_file)\n",
        "#test_df = pd.read_csv(test_file)\n",
        "# Mostramos los datos para comprobar que se han leído\n",
        "print(df.head())\n",
        "#print(test_df.head())"
      ]
    },
    {
      "cell_type": "markdown",
      "source": [
        "Importamos la librería y separamos las variables predictoras y la variable objetivo:"
      ],
      "metadata": {
        "id": "cQfMB4TgU-RB"
      }
    },
    {
      "cell_type": "code",
      "source": [
        "from sklearn.feature_selection import SelectKBest, f_regression\n",
        "\n",
        "X = df.drop('ACTIVITY', axis=1)\n",
        "y = df['ACTIVITY']\n"
      ],
      "metadata": {
        "id": "904Exc3kU3hR"
      },
      "execution_count": 2,
      "outputs": []
    },
    {
      "cell_type": "markdown",
      "source": [
        "usamos SelectKBest con f_regression como función de puntuación para seleccionar las 3 mejores"
      ],
      "metadata": {
        "id": "4ZUipBCoVD24"
      }
    },
    {
      "cell_type": "code",
      "source": [
        "selector = SelectKBest(score_func=f_regression, k=3)\n",
        "X_new = selector.fit_transform(X, y)\n"
      ],
      "metadata": {
        "id": "S8dRa_SBVERC"
      },
      "execution_count": 3,
      "outputs": []
    },
    {
      "cell_type": "code",
      "source": [
        "scores = selector.scores_\n",
        "selected_features = X.columns[selector.get_support()]\n",
        "\n",
        "print('Selected Features:', selected_features)\n",
        "print('Scores:', scores[selector.get_support()])\n"
      ],
      "metadata": {
        "colab": {
          "base_uri": "https://localhost:8080/"
        },
        "id": "xl2kWmi4VJOh",
        "outputId": "9cb55467-da0b-4e9f-87ff-973771e82d3e"
      },
      "execution_count": 4,
      "outputs": [
        {
          "output_type": "stream",
          "name": "stdout",
          "text": [
            "Selected Features: Index(['SL', 'HR', 'CIRCULATION'], dtype='object')\n",
            "Scores: [279.49121672 265.11169006 230.5013809 ]\n"
          ]
        }
      ]
    },
    {
      "cell_type": "markdown",
      "source": [
        "Los puntajes indican la importancia de cada característica en la tarea de clasificación. En este caso, la característica con el puntaje más alto es 'SL', seguida de 'HR' y luego 'CIRCULATION'."
      ],
      "metadata": {
        "id": "FTDpf2oMVWvh"
      }
    },
    {
      "cell_type": "markdown",
      "source": [
        "Se pueden utilizar las tres características para construir un modelo de clasificación, y se puede esperar que la característica 'SL' tenga el mayor impacto en la predicción del modelo"
      ],
      "metadata": {
        "id": "6aaxN2G4VbQu"
      }
    },
    {
      "cell_type": "markdown",
      "source": [
        "# Análisis estadístico"
      ],
      "metadata": {
        "id": "PmWBEnt1VwnI"
      }
    }
  ]
}