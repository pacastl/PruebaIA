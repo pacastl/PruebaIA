{
  "nbformat": 4,
  "nbformat_minor": 0,
  "metadata": {
    "colab": {
      "provenance": [],
      "authorship_tag": "ABX9TyPYO/NhT8nE4uqabL4pYSUY",
      "include_colab_link": true
    },
    "kernelspec": {
      "name": "python3",
      "display_name": "Python 3"
    },
    "language_info": {
      "name": "python"
    }
  },
  "cells": [
    {
      "cell_type": "markdown",
      "metadata": {
        "id": "view-in-github",
        "colab_type": "text"
      },
      "source": [
        "<a href=\"https://colab.research.google.com/github/pacastl/PruebaIA/blob/main/entregable.ipynb\" target=\"_parent\"><img src=\"https://colab.research.google.com/assets/colab-badge.svg\" alt=\"Open In Colab\"/></a>"
      ]
    },
    {
      "cell_type": "markdown",
      "source": [
        "Cargando las librerías necesarias"
      ],
      "metadata": {
        "id": "me9U9v2jw2VJ"
      }
    },
    {
      "cell_type": "code",
      "execution_count": null,
      "metadata": {
        "id": "AKQFJ42ewEhy"
      },
      "outputs": [],
      "source": [
        "import numpy as np\n",
        "import pandas as pd\n",
        "from sklearn.neighbors import KNeighborsClassifier"
      ]
    },
    {
      "cell_type": "code",
      "source": [
        "traindf = pd.read_csv(\"/kaggle/input/ia2223/train.csv\")"
      ],
      "metadata": {
        "id": "lV3_jHQIwnaZ"
      },
      "execution_count": null,
      "outputs": []
    },
    {
      "cell_type": "code",
      "source": [
        "traindata = traindf.values"
      ],
      "metadata": {
        "id": "N-Pii0Fwwo3Y"
      },
      "execution_count": null,
      "outputs": []
    },
    {
      "cell_type": "code",
      "source": [
        "descriptores,clases = traindata[:,0:-1],traindata[:,-1]"
      ],
      "metadata": {
        "id": "B0gEWiEEwpwz"
      },
      "execution_count": null,
      "outputs": []
    },
    {
      "cell_type": "markdown",
      "source": [
        "Mi modelo"
      ],
      "metadata": {
        "id": "Xxoi7mMawsfA"
      }
    },
    {
      "cell_type": "code",
      "source": [
        "knn = KNeighborsClassifier(n_neighbors=1)"
      ],
      "metadata": {
        "id": "6eWLHrJYwpvM"
      },
      "execution_count": null,
      "outputs": []
    },
    {
      "cell_type": "code",
      "source": [
        "knn.fit(descriptores,clases)"
      ],
      "metadata": {
        "id": "YH2RinJ9wpsR"
      },
      "execution_count": null,
      "outputs": []
    },
    {
      "cell_type": "code",
      "source": [
        "testdf = pd.read_csv(\"/kaggle/input/ia2223/test.csv\")\n",
        "testdata = testdf.values\n"
      ],
      "metadata": {
        "id": "lvGrRzcwwppJ"
      },
      "execution_count": null,
      "outputs": []
    },
    {
      "cell_type": "code",
      "source": [
        "predicciones = knn.predict(testdata)"
      ],
      "metadata": {
        "id": "AWtF49qiwpng"
      },
      "execution_count": null,
      "outputs": []
    },
    {
      "cell_type": "code",
      "source": [
        "soldf = pd.DataFrame([(i+1,int(pred)) for i, pred in enumerate(predicciones)])"
      ],
      "metadata": {
        "id": "B9jo-LyCwpkQ"
      },
      "execution_count": null,
      "outputs": []
    },
    {
      "cell_type": "code",
      "source": [
        "soldf.columns = ['Id','Prediction']"
      ],
      "metadata": {
        "id": "sdByxxgxwpdQ"
      },
      "execution_count": null,
      "outputs": []
    },
    {
      "cell_type": "code",
      "source": [
        "soldf"
      ],
      "metadata": {
        "id": "KDIn1wnBwpXo"
      },
      "execution_count": null,
      "outputs": []
    },
    {
      "cell_type": "code",
      "source": [
        "soldf.to_csv(\"submission.csv\",sep=',',index=False)"
      ],
      "metadata": {
        "id": "VaCBKmTxwpCp"
      },
      "execution_count": null,
      "outputs": []
    }
  ]
}