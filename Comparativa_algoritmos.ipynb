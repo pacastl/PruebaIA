{
  "nbformat": 4,
  "nbformat_minor": 0,
  "metadata": {
    "colab": {
      "provenance": [],
      "authorship_tag": "ABX9TyOpiNKtJhR53eq6s3IAbjTZ",
      "include_colab_link": true
    },
    "kernelspec": {
      "name": "python3",
      "display_name": "Python 3"
    },
    "language_info": {
      "name": "python"
    }
  },
  "cells": [
    {
      "cell_type": "markdown",
      "metadata": {
        "id": "view-in-github",
        "colab_type": "text"
      },
      "source": [
        "<a href=\"https://colab.research.google.com/github/pacastl/PruebaIA/blob/main/Comparativa_algoritmos.ipynb\" target=\"_parent\"><img src=\"https://colab.research.google.com/assets/colab-badge.svg\" alt=\"Open In Colab\"/></a>"
      ]
    },
    {
      "cell_type": "code",
      "execution_count": null,
      "metadata": {
        "id": "o_nmqH88bzyv"
      },
      "outputs": [],
      "source": []
    },
    {
      "cell_type": "markdown",
      "metadata": {
        "id": "waoSUsuHZBfX"
      },
      "source": [
        "### 2. Entrenando distintos algoritmos y seleccionando los hiperparámetros\n",
        "\n",
        "##### Ejercicio\n",
        "Carga las distintas librerías que son necesarias para los clasificadores definidos en la práctica 5. En concreto vas a construir clasificadores utilizando los algoritmos:\n",
        " - KNN\n",
        " - Árboles de decisión\n",
        " - Regresión logística\n",
        " - SVM\n",
        " - Redes neuronales"
      ]
    },
    {
      "cell_type": "code",
      "execution_count": 2,
      "metadata": {
        "collapsed": true,
        "id": "WC6fnGnVZBfX"
      },
      "outputs": [],
      "source": [
        "from sklearn.neighbors import KNeighborsClassifier\n",
        "from sklearn.tree import DecisionTreeClassifier\n",
        "from sklearn.linear_model import LogisticRegression\n",
        "from sklearn.svm import SVC\n",
        "from sklearn.linear_model import Perceptron\n",
        "import numpy as np\n",
        "import pandas as pd\n",
        "# url del repositorio de github para poder leerlos\n",
        "url_train = 'https://raw.githubusercontent.com/pacastl/PruebaIA/main/train.csv'\n",
        "url_test = 'https://raw.githubusercontent.com/pacastl/PruebaIA/main/test.csv'\n",
        "\n",
        "# Leemos los CSV como Pandas DataFrames\n",
        "train = pd.read_csv(url_train)\n",
        "#test = pd.read_csv(url_test)\n",
        "\n",
        "#otra forma de leerlos porque los descargué en mi pc\n",
        "train_file = r'C:\\Users\\Pablo\\Downloads\\train.csv'\n",
        "test_file = r'C:\\Users\\Pablo\\Downloads\\test.csv'\n",
        "\n",
        "#df = pd.read_csv(train_file)"
      ]
    },
    {
      "cell_type": "markdown",
      "source": [
        "Partimos el datsaet"
      ],
      "metadata": {
        "id": "eOkbh1KgmW0W"
      }
    },
    {
      "cell_type": "code",
      "source": [
        "from sklearn.model_selection import train_test_split\n",
        "\n",
        "# Split the data into training and testing sets\n",
        "X = train.drop('ACTIVITY', axis=1)\n",
        "y = train['ACTIVITY']\n",
        "X_train, X_test, y_train, y_test = train_test_split(X, y, test_size=0.2, random_state=42)\n"
      ],
      "metadata": {
        "id": "X0DwpyVEmG73"
      },
      "execution_count": 3,
      "outputs": []
    },
    {
      "cell_type": "markdown",
      "source": [
        "Iniciamos los clasificadores"
      ],
      "metadata": {
        "id": "W9wpcBd-mYHm"
      }
    },
    {
      "cell_type": "code",
      "source": [
        "from sklearn.neighbors import KNeighborsClassifier\n",
        "from sklearn.tree import DecisionTreeClassifier\n",
        "from sklearn.linear_model import LogisticRegression\n",
        "from sklearn.svm import SVC\n",
        "from sklearn.neural_network import MLPClassifier\n",
        "\n",
        "knn = KNeighborsClassifier()\n",
        "dt = DecisionTreeClassifier()\n",
        "lr = LogisticRegression()\n",
        "svm = SVC()\n",
        "nn = MLPClassifier()\n"
      ],
      "metadata": {
        "id": "fMHPjhn1mbO3"
      },
      "execution_count": 4,
      "outputs": []
    },
    {
      "cell_type": "markdown",
      "source": [
        "Encuentra los mejores hiperparámetros (combina el k-fold cross validation con técnicas de búsqueda como el GridSearch o RandomSearch)"
      ],
      "metadata": {
        "id": "f6FAQqdRm0-N"
      }
    },
    {
      "cell_type": "markdown",
      "source": [
        "Para KNN (y lo entrena también)"
      ],
      "metadata": {
        "id": "DTimHId_nI2c"
      }
    },
    {
      "cell_type": "code",
      "source": [
        "from sklearn.model_selection import GridSearchCV, KFold\n",
        "from sklearn.neighbors import KNeighborsClassifier\n",
        "\n",
        "# Define the parameter grid\n",
        "param_grid = {'n_neighbors': [3, 5, 7, 9, 11], 'weights': ['uniform', 'distance']}\n",
        "\n",
        "# Create a KNN classifier\n",
        "knn = KNeighborsClassifier()\n",
        "\n",
        "# Create a 5-fold cross-validation object\n",
        "cv = KFold(n_splits=5, shuffle=True, random_state=42)\n",
        "\n",
        "# Create a GridSearchCV object\n",
        "grid = GridSearchCV(knn, param_grid, cv=cv, scoring='accuracy')\n",
        "\n",
        "# Fit the GridSearchCV object to the training data\n",
        "grid.fit(X_train, y_train)\n",
        "\n",
        "# Print the best parameters and the corresponding score\n",
        "print(\"Best parameters:\", grid.best_params_)\n",
        "print(\"Best score:\", grid.best_score_)\n",
        "\n",
        "# Train the KNN classifier with the best hyperparameters on the entire training data\n",
        "knn = KNeighborsClassifier(**grid.best_params_)\n",
        "knn.fit(X_train, y_train)\n"
      ],
      "metadata": {
        "colab": {
          "base_uri": "https://localhost:8080/",
          "height": 109
        },
        "id": "oSBi3Uk0nLUk",
        "outputId": "7f88a5e6-bff3-4915-aef4-3d5257ac92e3"
      },
      "execution_count": 16,
      "outputs": [
        {
          "output_type": "stream",
          "name": "stdout",
          "text": [
            "Best parameters: {'n_neighbors': 5, 'weights': 'distance'}\n",
            "Best score: 0.6216275838110127\n"
          ]
        },
        {
          "output_type": "execute_result",
          "data": {
            "text/plain": [
              "KNeighborsClassifier(weights='distance')"
            ],
            "text/html": [
              "<style>#sk-container-id-1 {color: black;background-color: white;}#sk-container-id-1 pre{padding: 0;}#sk-container-id-1 div.sk-toggleable {background-color: white;}#sk-container-id-1 label.sk-toggleable__label {cursor: pointer;display: block;width: 100%;margin-bottom: 0;padding: 0.3em;box-sizing: border-box;text-align: center;}#sk-container-id-1 label.sk-toggleable__label-arrow:before {content: \"▸\";float: left;margin-right: 0.25em;color: #696969;}#sk-container-id-1 label.sk-toggleable__label-arrow:hover:before {color: black;}#sk-container-id-1 div.sk-estimator:hover label.sk-toggleable__label-arrow:before {color: black;}#sk-container-id-1 div.sk-toggleable__content {max-height: 0;max-width: 0;overflow: hidden;text-align: left;background-color: #f0f8ff;}#sk-container-id-1 div.sk-toggleable__content pre {margin: 0.2em;color: black;border-radius: 0.25em;background-color: #f0f8ff;}#sk-container-id-1 input.sk-toggleable__control:checked~div.sk-toggleable__content {max-height: 200px;max-width: 100%;overflow: auto;}#sk-container-id-1 input.sk-toggleable__control:checked~label.sk-toggleable__label-arrow:before {content: \"▾\";}#sk-container-id-1 div.sk-estimator input.sk-toggleable__control:checked~label.sk-toggleable__label {background-color: #d4ebff;}#sk-container-id-1 div.sk-label input.sk-toggleable__control:checked~label.sk-toggleable__label {background-color: #d4ebff;}#sk-container-id-1 input.sk-hidden--visually {border: 0;clip: rect(1px 1px 1px 1px);clip: rect(1px, 1px, 1px, 1px);height: 1px;margin: -1px;overflow: hidden;padding: 0;position: absolute;width: 1px;}#sk-container-id-1 div.sk-estimator {font-family: monospace;background-color: #f0f8ff;border: 1px dotted black;border-radius: 0.25em;box-sizing: border-box;margin-bottom: 0.5em;}#sk-container-id-1 div.sk-estimator:hover {background-color: #d4ebff;}#sk-container-id-1 div.sk-parallel-item::after {content: \"\";width: 100%;border-bottom: 1px solid gray;flex-grow: 1;}#sk-container-id-1 div.sk-label:hover label.sk-toggleable__label {background-color: #d4ebff;}#sk-container-id-1 div.sk-serial::before {content: \"\";position: absolute;border-left: 1px solid gray;box-sizing: border-box;top: 0;bottom: 0;left: 50%;z-index: 0;}#sk-container-id-1 div.sk-serial {display: flex;flex-direction: column;align-items: center;background-color: white;padding-right: 0.2em;padding-left: 0.2em;position: relative;}#sk-container-id-1 div.sk-item {position: relative;z-index: 1;}#sk-container-id-1 div.sk-parallel {display: flex;align-items: stretch;justify-content: center;background-color: white;position: relative;}#sk-container-id-1 div.sk-item::before, #sk-container-id-1 div.sk-parallel-item::before {content: \"\";position: absolute;border-left: 1px solid gray;box-sizing: border-box;top: 0;bottom: 0;left: 50%;z-index: -1;}#sk-container-id-1 div.sk-parallel-item {display: flex;flex-direction: column;z-index: 1;position: relative;background-color: white;}#sk-container-id-1 div.sk-parallel-item:first-child::after {align-self: flex-end;width: 50%;}#sk-container-id-1 div.sk-parallel-item:last-child::after {align-self: flex-start;width: 50%;}#sk-container-id-1 div.sk-parallel-item:only-child::after {width: 0;}#sk-container-id-1 div.sk-dashed-wrapped {border: 1px dashed gray;margin: 0 0.4em 0.5em 0.4em;box-sizing: border-box;padding-bottom: 0.4em;background-color: white;}#sk-container-id-1 div.sk-label label {font-family: monospace;font-weight: bold;display: inline-block;line-height: 1.2em;}#sk-container-id-1 div.sk-label-container {text-align: center;}#sk-container-id-1 div.sk-container {/* jupyter's `normalize.less` sets `[hidden] { display: none; }` but bootstrap.min.css set `[hidden] { display: none !important; }` so we also need the `!important` here to be able to override the default hidden behavior on the sphinx rendered scikit-learn.org. See: https://github.com/scikit-learn/scikit-learn/issues/21755 */display: inline-block !important;position: relative;}#sk-container-id-1 div.sk-text-repr-fallback {display: none;}</style><div id=\"sk-container-id-1\" class=\"sk-top-container\"><div class=\"sk-text-repr-fallback\"><pre>KNeighborsClassifier(weights=&#x27;distance&#x27;)</pre><b>In a Jupyter environment, please rerun this cell to show the HTML representation or trust the notebook. <br />On GitHub, the HTML representation is unable to render, please try loading this page with nbviewer.org.</b></div><div class=\"sk-container\" hidden><div class=\"sk-item\"><div class=\"sk-estimator sk-toggleable\"><input class=\"sk-toggleable__control sk-hidden--visually\" id=\"sk-estimator-id-1\" type=\"checkbox\" checked><label for=\"sk-estimator-id-1\" class=\"sk-toggleable__label sk-toggleable__label-arrow\">KNeighborsClassifier</label><div class=\"sk-toggleable__content\"><pre>KNeighborsClassifier(weights=&#x27;distance&#x27;)</pre></div></div></div></div></div>"
            ]
          },
          "metadata": {},
          "execution_count": 16
        }
      ]
    },
    {
      "cell_type": "markdown",
      "source": [
        "Para árboles de decisión"
      ],
      "metadata": {
        "id": "d7brFHnhnTTl"
      }
    },
    {
      "cell_type": "code",
      "source": [
        "from sklearn.model_selection import GridSearchCV, KFold\n",
        "from sklearn.tree import DecisionTreeClassifier\n",
        "\n",
        "# Define the parameter grid\n",
        "param_grid = {'criterion': ['gini', 'entropy'], \n",
        "              'max_depth': [2, 4, 6, 8, 10, 12, 14, None],\n",
        "              'min_samples_split': [2, 5, 10],\n",
        "              'min_samples_leaf': [1, 2, 4, 8]}\n",
        "\n",
        "# Create a Decision Tree Classifier\n",
        "dt = DecisionTreeClassifier(random_state=42)\n",
        "\n",
        "# Create a 5-fold cross-validation object\n",
        "cv = KFold(n_splits=5, shuffle=True, random_state=42)\n",
        "\n",
        "# Create a GridSearchCV object\n",
        "grid = GridSearchCV(dt, param_grid, cv=cv, scoring='accuracy')\n",
        "\n",
        "# Fit the GridSearchCV object to the training data\n",
        "grid.fit(X_train, y_train)\n",
        "\n",
        "# Print the best parameters and the corresponding score\n",
        "print(\"Best parameters:\", grid.best_params_)\n",
        "print(\"Best score:\", grid.best_score_)\n",
        "\n",
        "# Train the Decision Tree Classifier with the best hyperparameters on the entire training data\n",
        "dt = DecisionTreeClassifier(**grid.best_params_)\n",
        "dt.fit(X_train, y_train)\n"
      ],
      "metadata": {
        "colab": {
          "base_uri": "https://localhost:8080/",
          "height": 109
        },
        "id": "TmP412PCm6a1",
        "outputId": "787952c0-afad-4630-d14e-346ce13f8f02"
      },
      "execution_count": 4,
      "outputs": [
        {
          "output_type": "stream",
          "name": "stdout",
          "text": [
            "Best parameters: {'criterion': 'entropy', 'max_depth': None, 'min_samples_leaf': 1, 'min_samples_split': 10}\n",
            "Best score: 0.672883011985409\n"
          ]
        },
        {
          "output_type": "execute_result",
          "data": {
            "text/plain": [
              "DecisionTreeClassifier(criterion='entropy', min_samples_split=10)"
            ],
            "text/html": [
              "<style>#sk-container-id-1 {color: black;background-color: white;}#sk-container-id-1 pre{padding: 0;}#sk-container-id-1 div.sk-toggleable {background-color: white;}#sk-container-id-1 label.sk-toggleable__label {cursor: pointer;display: block;width: 100%;margin-bottom: 0;padding: 0.3em;box-sizing: border-box;text-align: center;}#sk-container-id-1 label.sk-toggleable__label-arrow:before {content: \"▸\";float: left;margin-right: 0.25em;color: #696969;}#sk-container-id-1 label.sk-toggleable__label-arrow:hover:before {color: black;}#sk-container-id-1 div.sk-estimator:hover label.sk-toggleable__label-arrow:before {color: black;}#sk-container-id-1 div.sk-toggleable__content {max-height: 0;max-width: 0;overflow: hidden;text-align: left;background-color: #f0f8ff;}#sk-container-id-1 div.sk-toggleable__content pre {margin: 0.2em;color: black;border-radius: 0.25em;background-color: #f0f8ff;}#sk-container-id-1 input.sk-toggleable__control:checked~div.sk-toggleable__content {max-height: 200px;max-width: 100%;overflow: auto;}#sk-container-id-1 input.sk-toggleable__control:checked~label.sk-toggleable__label-arrow:before {content: \"▾\";}#sk-container-id-1 div.sk-estimator input.sk-toggleable__control:checked~label.sk-toggleable__label {background-color: #d4ebff;}#sk-container-id-1 div.sk-label input.sk-toggleable__control:checked~label.sk-toggleable__label {background-color: #d4ebff;}#sk-container-id-1 input.sk-hidden--visually {border: 0;clip: rect(1px 1px 1px 1px);clip: rect(1px, 1px, 1px, 1px);height: 1px;margin: -1px;overflow: hidden;padding: 0;position: absolute;width: 1px;}#sk-container-id-1 div.sk-estimator {font-family: monospace;background-color: #f0f8ff;border: 1px dotted black;border-radius: 0.25em;box-sizing: border-box;margin-bottom: 0.5em;}#sk-container-id-1 div.sk-estimator:hover {background-color: #d4ebff;}#sk-container-id-1 div.sk-parallel-item::after {content: \"\";width: 100%;border-bottom: 1px solid gray;flex-grow: 1;}#sk-container-id-1 div.sk-label:hover label.sk-toggleable__label {background-color: #d4ebff;}#sk-container-id-1 div.sk-serial::before {content: \"\";position: absolute;border-left: 1px solid gray;box-sizing: border-box;top: 0;bottom: 0;left: 50%;z-index: 0;}#sk-container-id-1 div.sk-serial {display: flex;flex-direction: column;align-items: center;background-color: white;padding-right: 0.2em;padding-left: 0.2em;position: relative;}#sk-container-id-1 div.sk-item {position: relative;z-index: 1;}#sk-container-id-1 div.sk-parallel {display: flex;align-items: stretch;justify-content: center;background-color: white;position: relative;}#sk-container-id-1 div.sk-item::before, #sk-container-id-1 div.sk-parallel-item::before {content: \"\";position: absolute;border-left: 1px solid gray;box-sizing: border-box;top: 0;bottom: 0;left: 50%;z-index: -1;}#sk-container-id-1 div.sk-parallel-item {display: flex;flex-direction: column;z-index: 1;position: relative;background-color: white;}#sk-container-id-1 div.sk-parallel-item:first-child::after {align-self: flex-end;width: 50%;}#sk-container-id-1 div.sk-parallel-item:last-child::after {align-self: flex-start;width: 50%;}#sk-container-id-1 div.sk-parallel-item:only-child::after {width: 0;}#sk-container-id-1 div.sk-dashed-wrapped {border: 1px dashed gray;margin: 0 0.4em 0.5em 0.4em;box-sizing: border-box;padding-bottom: 0.4em;background-color: white;}#sk-container-id-1 div.sk-label label {font-family: monospace;font-weight: bold;display: inline-block;line-height: 1.2em;}#sk-container-id-1 div.sk-label-container {text-align: center;}#sk-container-id-1 div.sk-container {/* jupyter's `normalize.less` sets `[hidden] { display: none; }` but bootstrap.min.css set `[hidden] { display: none !important; }` so we also need the `!important` here to be able to override the default hidden behavior on the sphinx rendered scikit-learn.org. See: https://github.com/scikit-learn/scikit-learn/issues/21755 */display: inline-block !important;position: relative;}#sk-container-id-1 div.sk-text-repr-fallback {display: none;}</style><div id=\"sk-container-id-1\" class=\"sk-top-container\"><div class=\"sk-text-repr-fallback\"><pre>DecisionTreeClassifier(criterion=&#x27;entropy&#x27;, min_samples_split=10)</pre><b>In a Jupyter environment, please rerun this cell to show the HTML representation or trust the notebook. <br />On GitHub, the HTML representation is unable to render, please try loading this page with nbviewer.org.</b></div><div class=\"sk-container\" hidden><div class=\"sk-item\"><div class=\"sk-estimator sk-toggleable\"><input class=\"sk-toggleable__control sk-hidden--visually\" id=\"sk-estimator-id-1\" type=\"checkbox\" checked><label for=\"sk-estimator-id-1\" class=\"sk-toggleable__label sk-toggleable__label-arrow\">DecisionTreeClassifier</label><div class=\"sk-toggleable__content\"><pre>DecisionTreeClassifier(criterion=&#x27;entropy&#x27;, min_samples_split=10)</pre></div></div></div></div></div>"
            ]
          },
          "metadata": {},
          "execution_count": 4
        }
      ]
    },
    {
      "cell_type": "markdown",
      "source": [
        "Para regresión logística"
      ],
      "metadata": {
        "id": "prybkMiWnkjD"
      }
    },
    {
      "cell_type": "code",
      "source": [
        "from sklearn.exceptions import ConvergenceWarning\n",
        "from sklearn.model_selection import GridSearchCV, KFold\n",
        "from sklearn.linear_model import LogisticRegression\n",
        "import warnings\n",
        "\n",
        "# Define the parameter grid\n",
        "param_grid = {'penalty': ['l1', 'l2', 'elasticnet'], \n",
        "              'C': [0.001, 0.01, 0.1, 1, 10, 100],\n",
        "              'solver': ['newton-cg', 'lbfgs', 'liblinear', 'sag', 'saga'],\n",
        "              'max_iter': [100, 1000, 10000],\n",
        "              'tol': [1e-4, 1e-3, 1e-2]}\n",
        "\n",
        "# Create a Logistic Regression Classifier\n",
        "lr = LogisticRegression(random_state=42)\n",
        "\n",
        "# Create a 5-fold cross-validation object\n",
        "cv = KFold(n_splits=5, shuffle=True, random_state=42)\n",
        "\n",
        "# Create a GridSearchCV object\n",
        "grid = GridSearchCV(lr, param_grid, cv=cv, scoring='accuracy')\n",
        "\n",
        "# Fit the GridSearchCV object to the training data\n",
        "with warnings.catch_warnings():\n",
        "    warnings.filterwarnings(\"ignore\", category=ConvergenceWarning)\n",
        "    grid.fit(X_train, y_train)\n",
        "\n",
        "# Print the best parameters and the corresponding score\n",
        "print(\"Best parameters:\", grid.best_params_)\n",
        "print(\"Best score:\", grid.best_score_)\n",
        "\n",
        "# Train the Logistic Regression Classifier with the best hyperparameters on the entire training data\n",
        "lr = LogisticRegression(**grid.best_params_, max_iter=10000, warm_start=True)\n",
        "lr.fit(X_train, y_train)\n",
        "\n",
        "\n"
      ],
      "metadata": {
        "colab": {
          "base_uri": "https://localhost:8080/"
        },
        "id": "NVtgrcvOnrqE",
        "outputId": "56f7c3b9-399c-47c1-e574-a7713e2504be"
      },
      "execution_count": null,
      "outputs": [
        {
          "output_type": "stream",
          "name": "stderr",
          "text": [
            "/usr/local/lib/python3.9/dist-packages/scipy/optimize/_linesearch.py:457: LineSearchWarning: The line search algorithm did not converge\n",
            "  warn('The line search algorithm did not converge', LineSearchWarning)\n",
            "/usr/local/lib/python3.9/dist-packages/scipy/optimize/_linesearch.py:306: LineSearchWarning: The line search algorithm did not converge\n",
            "  warn('The line search algorithm did not converge', LineSearchWarning)\n",
            "/usr/local/lib/python3.9/dist-packages/scipy/optimize/_linesearch.py:457: LineSearchWarning: The line search algorithm did not converge\n",
            "  warn('The line search algorithm did not converge', LineSearchWarning)\n",
            "/usr/local/lib/python3.9/dist-packages/scipy/optimize/_linesearch.py:306: LineSearchWarning: The line search algorithm did not converge\n",
            "  warn('The line search algorithm did not converge', LineSearchWarning)\n",
            "/usr/local/lib/python3.9/dist-packages/scipy/optimize/_linesearch.py:457: LineSearchWarning: The line search algorithm did not converge\n",
            "  warn('The line search algorithm did not converge', LineSearchWarning)\n",
            "/usr/local/lib/python3.9/dist-packages/scipy/optimize/_linesearch.py:306: LineSearchWarning: The line search algorithm did not converge\n",
            "  warn('The line search algorithm did not converge', LineSearchWarning)\n",
            "/usr/local/lib/python3.9/dist-packages/scipy/optimize/_linesearch.py:457: LineSearchWarning: The line search algorithm did not converge\n",
            "  warn('The line search algorithm did not converge', LineSearchWarning)\n",
            "/usr/local/lib/python3.9/dist-packages/scipy/optimize/_linesearch.py:306: LineSearchWarning: The line search algorithm did not converge\n",
            "  warn('The line search algorithm did not converge', LineSearchWarning)\n"
          ]
        }
      ]
    },
    {
      "cell_type": "markdown",
      "source": [
        "Para SVM"
      ],
      "metadata": {
        "id": "O4ce1SDGnrIs"
      }
    },
    {
      "cell_type": "code",
      "source": [
        "#Tarda demasiado\n",
        "from sklearn.model_selection import GridSearchCV, KFold\n",
        "from sklearn.svm import SVC\n",
        "\n",
        "# Define the parameter grid\n",
        "param_grid = {'C': [0.01, 0.1, 1, 10, 100], \n",
        "              'kernel': ['linear', 'poly', 'rbf', 'sigmoid'], \n",
        "              'degree': [2, 3, 4],\n",
        "              'gamma': ['scale', 'auto']}\n",
        "\n",
        "# Create an SVM Classifier\n",
        "svm = SVC(random_state=42)\n",
        "\n",
        "# Create a 5-fold cross-validation object\n",
        "cv = KFold(n_splits=5, shuffle=True, random_state=42)\n",
        "\n",
        "# Create a GridSearchCV object\n",
        "grid = GridSearchCV(svm, param_grid, cv=cv, scoring='accuracy')\n",
        "\n",
        "# Fit the GridSearchCV object to the training data\n",
        "grid.fit(X_train, y_train)\n",
        "\n",
        "# Print the best parameters and the corresponding score\n",
        "print(\"Best parameters:\", grid.best_params_)\n",
        "print(\"Best score:\", grid.best_score_)\n",
        "\n",
        "# Train the SVM Classifier with the best hyperparameters on the entire training data\n",
        "svm = SVC(**grid.best_params_)\n",
        "svm.fit(X_train, y_train)\n"
      ],
      "metadata": {
        "id": "lTul4NXGnyaF"
      },
      "execution_count": null,
      "outputs": []
    },
    {
      "cell_type": "markdown",
      "source": [
        "Para redes neuronales"
      ],
      "metadata": {
        "id": "2J7HVrVln5cL"
      }
    },
    {
      "cell_type": "code",
      "source": [
        "from sklearn.model_selection import GridSearchCV, KFold\n",
        "from sklearn.neural_network import MLPClassifier\n",
        "\n",
        "# Define the parameter grid\n",
        "param_grid = {'hidden_layer_sizes': [(10,), (50,), (100,)], \n",
        "              'activation': ['logistic', 'tanh', 'relu'], \n",
        "              'alpha': [0.0001, 0.001, 0.01, 0.1]}\n",
        "\n",
        "# Create a neural network classifier\n",
        "nn = MLPClassifier(max_iter=500, random_state=42)\n",
        "\n",
        "# Create a 5-fold cross-validation object\n",
        "cv = KFold(n_splits=5, shuffle=True, random_state=42)\n",
        "\n",
        "# Create a GridSearchCV object\n",
        "grid = GridSearchCV(nn, param_grid, cv=cv, scoring='accuracy')\n",
        "\n",
        "# Fit the GridSearchCV object to the training data\n",
        "grid.fit(X_train, y_train)\n",
        "\n",
        "# Print the best parameters and the corresponding score\n",
        "print(\"Best parameters:\", grid.best_params_)\n",
        "print(\"Best score:\", grid.best_score_)\n",
        "\n",
        "# Train the neural network with the best hyperparameters on the entire training data\n",
        "nn = MLPClassifier(max_iter=500, **grid.best_params_, random_state=42)\n",
        "nn.fit(X_train, y_train)\n"
      ],
      "metadata": {
        "colab": {
          "base_uri": "https://localhost:8080/",
          "height": 109
        },
        "id": "9_8uW_AAn7oL",
        "outputId": "e4c78ce6-096f-4fbc-c29c-a7654e70ba91"
      },
      "execution_count": 5,
      "outputs": [
        {
          "output_type": "stream",
          "name": "stdout",
          "text": [
            "Best parameters: {'activation': 'logistic', 'alpha': 0.0001, 'hidden_layer_sizes': (100,)}\n",
            "Best score: 0.32482646126454756\n"
          ]
        },
        {
          "output_type": "execute_result",
          "data": {
            "text/plain": [
              "MLPClassifier(activation='logistic', max_iter=500, random_state=42)"
            ],
            "text/html": [
              "<style>#sk-container-id-1 {color: black;background-color: white;}#sk-container-id-1 pre{padding: 0;}#sk-container-id-1 div.sk-toggleable {background-color: white;}#sk-container-id-1 label.sk-toggleable__label {cursor: pointer;display: block;width: 100%;margin-bottom: 0;padding: 0.3em;box-sizing: border-box;text-align: center;}#sk-container-id-1 label.sk-toggleable__label-arrow:before {content: \"▸\";float: left;margin-right: 0.25em;color: #696969;}#sk-container-id-1 label.sk-toggleable__label-arrow:hover:before {color: black;}#sk-container-id-1 div.sk-estimator:hover label.sk-toggleable__label-arrow:before {color: black;}#sk-container-id-1 div.sk-toggleable__content {max-height: 0;max-width: 0;overflow: hidden;text-align: left;background-color: #f0f8ff;}#sk-container-id-1 div.sk-toggleable__content pre {margin: 0.2em;color: black;border-radius: 0.25em;background-color: #f0f8ff;}#sk-container-id-1 input.sk-toggleable__control:checked~div.sk-toggleable__content {max-height: 200px;max-width: 100%;overflow: auto;}#sk-container-id-1 input.sk-toggleable__control:checked~label.sk-toggleable__label-arrow:before {content: \"▾\";}#sk-container-id-1 div.sk-estimator input.sk-toggleable__control:checked~label.sk-toggleable__label {background-color: #d4ebff;}#sk-container-id-1 div.sk-label input.sk-toggleable__control:checked~label.sk-toggleable__label {background-color: #d4ebff;}#sk-container-id-1 input.sk-hidden--visually {border: 0;clip: rect(1px 1px 1px 1px);clip: rect(1px, 1px, 1px, 1px);height: 1px;margin: -1px;overflow: hidden;padding: 0;position: absolute;width: 1px;}#sk-container-id-1 div.sk-estimator {font-family: monospace;background-color: #f0f8ff;border: 1px dotted black;border-radius: 0.25em;box-sizing: border-box;margin-bottom: 0.5em;}#sk-container-id-1 div.sk-estimator:hover {background-color: #d4ebff;}#sk-container-id-1 div.sk-parallel-item::after {content: \"\";width: 100%;border-bottom: 1px solid gray;flex-grow: 1;}#sk-container-id-1 div.sk-label:hover label.sk-toggleable__label {background-color: #d4ebff;}#sk-container-id-1 div.sk-serial::before {content: \"\";position: absolute;border-left: 1px solid gray;box-sizing: border-box;top: 0;bottom: 0;left: 50%;z-index: 0;}#sk-container-id-1 div.sk-serial {display: flex;flex-direction: column;align-items: center;background-color: white;padding-right: 0.2em;padding-left: 0.2em;position: relative;}#sk-container-id-1 div.sk-item {position: relative;z-index: 1;}#sk-container-id-1 div.sk-parallel {display: flex;align-items: stretch;justify-content: center;background-color: white;position: relative;}#sk-container-id-1 div.sk-item::before, #sk-container-id-1 div.sk-parallel-item::before {content: \"\";position: absolute;border-left: 1px solid gray;box-sizing: border-box;top: 0;bottom: 0;left: 50%;z-index: -1;}#sk-container-id-1 div.sk-parallel-item {display: flex;flex-direction: column;z-index: 1;position: relative;background-color: white;}#sk-container-id-1 div.sk-parallel-item:first-child::after {align-self: flex-end;width: 50%;}#sk-container-id-1 div.sk-parallel-item:last-child::after {align-self: flex-start;width: 50%;}#sk-container-id-1 div.sk-parallel-item:only-child::after {width: 0;}#sk-container-id-1 div.sk-dashed-wrapped {border: 1px dashed gray;margin: 0 0.4em 0.5em 0.4em;box-sizing: border-box;padding-bottom: 0.4em;background-color: white;}#sk-container-id-1 div.sk-label label {font-family: monospace;font-weight: bold;display: inline-block;line-height: 1.2em;}#sk-container-id-1 div.sk-label-container {text-align: center;}#sk-container-id-1 div.sk-container {/* jupyter's `normalize.less` sets `[hidden] { display: none; }` but bootstrap.min.css set `[hidden] { display: none !important; }` so we also need the `!important` here to be able to override the default hidden behavior on the sphinx rendered scikit-learn.org. See: https://github.com/scikit-learn/scikit-learn/issues/21755 */display: inline-block !important;position: relative;}#sk-container-id-1 div.sk-text-repr-fallback {display: none;}</style><div id=\"sk-container-id-1\" class=\"sk-top-container\"><div class=\"sk-text-repr-fallback\"><pre>MLPClassifier(activation=&#x27;logistic&#x27;, max_iter=500, random_state=42)</pre><b>In a Jupyter environment, please rerun this cell to show the HTML representation or trust the notebook. <br />On GitHub, the HTML representation is unable to render, please try loading this page with nbviewer.org.</b></div><div class=\"sk-container\" hidden><div class=\"sk-item\"><div class=\"sk-estimator sk-toggleable\"><input class=\"sk-toggleable__control sk-hidden--visually\" id=\"sk-estimator-id-1\" type=\"checkbox\" checked><label for=\"sk-estimator-id-1\" class=\"sk-toggleable__label sk-toggleable__label-arrow\">MLPClassifier</label><div class=\"sk-toggleable__content\"><pre>MLPClassifier(activation=&#x27;logistic&#x27;, max_iter=500, random_state=42)</pre></div></div></div></div></div>"
            ]
          },
          "metadata": {},
          "execution_count": 5
        }
      ]
    },
    {
      "cell_type": "markdown",
      "source": [
        "Ahora comparamos para ver cuál es el mejor"
      ],
      "metadata": {
        "id": "G9-bQu5kpyqI"
      }
    },
    {
      "cell_type": "code",
      "source": [
        "# Evaluate the performance of each classifier on the testing data\n",
        "logistic_regression_score = logistic_regression.score(X_test, y_test)\n",
        "decision_tree_score = decision_tree.score(X_test, y_test)\n",
        "svm_score = svm.score(X_test, y_test)\n",
        "knn_score = knn.score(X_test, y_test)\n",
        "neural_network_score = neural_network.score(X_test, y_test)\n",
        "\n",
        "# Print the scores\n",
        "print(\"Logistic Regression Score:\", logistic_regression_score)\n",
        "print(\"Decision Tree Score:\", decision_tree_score)\n",
        "print(\"SVM Score:\", svm_score)\n",
        "print(\"KNN Score:\", knn_score)\n",
        "print(\"Neural Network Score:\", neural_network_score)\n"
      ],
      "metadata": {
        "id": "JPPC0ruDp3xx"
      },
      "execution_count": null,
      "outputs": []
    },
    {
      "cell_type": "markdown",
      "source": [
        "################### A parti der aqui pachucho"
      ],
      "metadata": {
        "id": "XKxOLObZohPB"
      }
    },
    {
      "cell_type": "code",
      "source": [
        "from sklearn.model_selection import train_test_split\n",
        "from sklearn.tree import DecisionTreeClassifier\n",
        "from sklearn.neighbors import KNeighborsClassifier\n",
        "from sklearn.metrics import accuracy_score, precision_score, recall_score, f1_score\n",
        "\n",
        "# Step 1: Split the data into features (X) and target variable (y)\n",
        "X_train = train.drop(\"ACTIVITY\", axis=1)\n",
        "y_train = train[\"ACTIVITY\"]\n",
        "y_test = test['ACTIVITY']\n",
        "X_test = test\n",
        "\n",
        "# Step 2: Initialize the classifiers\n",
        "dt_clf = DecisionTreeClassifier()\n",
        "knn_clf = KNeighborsClassifier()\n",
        "\n",
        "# Step 3: Train each classifier using the training dataset\n",
        "dt_clf.fit(X_train, y_train)\n",
        "knn_clf.fit(X_train, y_train)\n",
        "\n",
        "# Step 4: Use each trained classifier to predict the target variable for the test dataset\n",
        "dt_pred = dt_clf.predict(X_test)\n",
        "knn_pred = knn_clf.predict(X_test)\n",
        "\n",
        "# Step 5: Evaluate the performance of each classifier using some metrics\n",
        "dt_acc = accuracy_score(y_test, dt_pred)\n",
        "dt_prec = precision_score(y_test, dt_pred, average='weighted')\n",
        "dt_rec = recall_score(y_test, dt_pred, average='weighted')\n",
        "dt_f1 = f1_score(y_test, dt_pred, average='weighted')\n",
        "\n",
        "knn_acc = accuracy_score(y_test, knn_pred)\n",
        "knn_prec = precision_score(y_test, knn_pred, average='weighted')\n",
        "knn_rec = recall_score(y_test, knn_pred, average='weighted')\n",
        "knn_f1 = f1_score(y_test, knn_pred, average='weighted')\n",
        "\n",
        "# Print the results\n",
        "print(\"Decision Tree Classifier:\")\n",
        "print(\"Accuracy: {:.2f}\".format(dt_acc))\n",
        "print(\"Precision: {:.2f}\".format(dt_prec))\n",
        "print(\"Recall: {:.2f}\".format(dt_rec))\n",
        "print(\"F1 Score: {:.2f}\".format(dt_f1))\n",
        "\n",
        "print(\"\\nK-Nearest Neighbors Classifier:\")\n",
        "print(\"Accuracy: {:.2f}\".format(knn_acc))\n",
        "print(\"Precision: {:.2f}\".format(knn_prec))\n",
        "print(\"Recall: {:.2f}\".format(knn_rec))\n",
        "print(\"F1 Score: {:.2f}\".format(knn_f1))\n"
      ],
      "metadata": {
        "colab": {
          "base_uri": "https://localhost:8080/",
          "height": 502
        },
        "id": "GDbM008Xf1SN",
        "outputId": "77ba5d25-c2d5-43bb-da0b-eb6d571615eb"
      },
      "execution_count": 12,
      "outputs": [
        {
          "output_type": "error",
          "ename": "KeyError",
          "evalue": "ignored",
          "traceback": [
            "\u001b[0;31m---------------------------------------------------------------------------\u001b[0m",
            "\u001b[0;31mKeyError\u001b[0m                                  Traceback (most recent call last)",
            "\u001b[0;32m/usr/local/lib/python3.9/dist-packages/pandas/core/indexes/base.py\u001b[0m in \u001b[0;36mget_loc\u001b[0;34m(self, key, method, tolerance)\u001b[0m\n\u001b[1;32m   3801\u001b[0m             \u001b[0;32mtry\u001b[0m\u001b[0;34m:\u001b[0m\u001b[0;34m\u001b[0m\u001b[0;34m\u001b[0m\u001b[0m\n\u001b[0;32m-> 3802\u001b[0;31m                 \u001b[0;32mreturn\u001b[0m \u001b[0mself\u001b[0m\u001b[0;34m.\u001b[0m\u001b[0m_engine\u001b[0m\u001b[0;34m.\u001b[0m\u001b[0mget_loc\u001b[0m\u001b[0;34m(\u001b[0m\u001b[0mcasted_key\u001b[0m\u001b[0;34m)\u001b[0m\u001b[0;34m\u001b[0m\u001b[0;34m\u001b[0m\u001b[0m\n\u001b[0m\u001b[1;32m   3803\u001b[0m             \u001b[0;32mexcept\u001b[0m \u001b[0mKeyError\u001b[0m \u001b[0;32mas\u001b[0m \u001b[0merr\u001b[0m\u001b[0;34m:\u001b[0m\u001b[0;34m\u001b[0m\u001b[0;34m\u001b[0m\u001b[0m\n",
            "\u001b[0;32m/usr/local/lib/python3.9/dist-packages/pandas/_libs/index.pyx\u001b[0m in \u001b[0;36mpandas._libs.index.IndexEngine.get_loc\u001b[0;34m()\u001b[0m\n",
            "\u001b[0;32m/usr/local/lib/python3.9/dist-packages/pandas/_libs/index.pyx\u001b[0m in \u001b[0;36mpandas._libs.index.IndexEngine.get_loc\u001b[0;34m()\u001b[0m\n",
            "\u001b[0;32mpandas/_libs/hashtable_class_helper.pxi\u001b[0m in \u001b[0;36mpandas._libs.hashtable.PyObjectHashTable.get_item\u001b[0;34m()\u001b[0m\n",
            "\u001b[0;32mpandas/_libs/hashtable_class_helper.pxi\u001b[0m in \u001b[0;36mpandas._libs.hashtable.PyObjectHashTable.get_item\u001b[0;34m()\u001b[0m\n",
            "\u001b[0;31mKeyError\u001b[0m: 'ACTIVITY'",
            "\nThe above exception was the direct cause of the following exception:\n",
            "\u001b[0;31mKeyError\u001b[0m                                  Traceback (most recent call last)",
            "\u001b[0;32m<ipython-input-12-dfd49b276888>\u001b[0m in \u001b[0;36m<cell line: 9>\u001b[0;34m()\u001b[0m\n\u001b[1;32m      7\u001b[0m \u001b[0mX_train\u001b[0m \u001b[0;34m=\u001b[0m \u001b[0mtrain\u001b[0m\u001b[0;34m.\u001b[0m\u001b[0mdrop\u001b[0m\u001b[0;34m(\u001b[0m\u001b[0;34m\"ACTIVITY\"\u001b[0m\u001b[0;34m,\u001b[0m \u001b[0maxis\u001b[0m\u001b[0;34m=\u001b[0m\u001b[0;36m1\u001b[0m\u001b[0;34m)\u001b[0m\u001b[0;34m\u001b[0m\u001b[0;34m\u001b[0m\u001b[0m\n\u001b[1;32m      8\u001b[0m \u001b[0my_train\u001b[0m \u001b[0;34m=\u001b[0m \u001b[0mtrain\u001b[0m\u001b[0;34m[\u001b[0m\u001b[0;34m\"ACTIVITY\"\u001b[0m\u001b[0;34m]\u001b[0m\u001b[0;34m\u001b[0m\u001b[0;34m\u001b[0m\u001b[0m\n\u001b[0;32m----> 9\u001b[0;31m \u001b[0my_test\u001b[0m \u001b[0;34m=\u001b[0m \u001b[0mtest\u001b[0m\u001b[0;34m[\u001b[0m\u001b[0;34m'ACTIVITY'\u001b[0m\u001b[0;34m]\u001b[0m\u001b[0;34m\u001b[0m\u001b[0;34m\u001b[0m\u001b[0m\n\u001b[0m\u001b[1;32m     10\u001b[0m \u001b[0mX_test\u001b[0m \u001b[0;34m=\u001b[0m \u001b[0mtest\u001b[0m\u001b[0;34m\u001b[0m\u001b[0;34m\u001b[0m\u001b[0m\n\u001b[1;32m     11\u001b[0m \u001b[0;34m\u001b[0m\u001b[0m\n",
            "\u001b[0;32m/usr/local/lib/python3.9/dist-packages/pandas/core/frame.py\u001b[0m in \u001b[0;36m__getitem__\u001b[0;34m(self, key)\u001b[0m\n\u001b[1;32m   3805\u001b[0m             \u001b[0;32mif\u001b[0m \u001b[0mself\u001b[0m\u001b[0;34m.\u001b[0m\u001b[0mcolumns\u001b[0m\u001b[0;34m.\u001b[0m\u001b[0mnlevels\u001b[0m \u001b[0;34m>\u001b[0m \u001b[0;36m1\u001b[0m\u001b[0;34m:\u001b[0m\u001b[0;34m\u001b[0m\u001b[0;34m\u001b[0m\u001b[0m\n\u001b[1;32m   3806\u001b[0m                 \u001b[0;32mreturn\u001b[0m \u001b[0mself\u001b[0m\u001b[0;34m.\u001b[0m\u001b[0m_getitem_multilevel\u001b[0m\u001b[0;34m(\u001b[0m\u001b[0mkey\u001b[0m\u001b[0;34m)\u001b[0m\u001b[0;34m\u001b[0m\u001b[0;34m\u001b[0m\u001b[0m\n\u001b[0;32m-> 3807\u001b[0;31m             \u001b[0mindexer\u001b[0m \u001b[0;34m=\u001b[0m \u001b[0mself\u001b[0m\u001b[0;34m.\u001b[0m\u001b[0mcolumns\u001b[0m\u001b[0;34m.\u001b[0m\u001b[0mget_loc\u001b[0m\u001b[0;34m(\u001b[0m\u001b[0mkey\u001b[0m\u001b[0;34m)\u001b[0m\u001b[0;34m\u001b[0m\u001b[0;34m\u001b[0m\u001b[0m\n\u001b[0m\u001b[1;32m   3808\u001b[0m             \u001b[0;32mif\u001b[0m \u001b[0mis_integer\u001b[0m\u001b[0;34m(\u001b[0m\u001b[0mindexer\u001b[0m\u001b[0;34m)\u001b[0m\u001b[0;34m:\u001b[0m\u001b[0;34m\u001b[0m\u001b[0;34m\u001b[0m\u001b[0m\n\u001b[1;32m   3809\u001b[0m                 \u001b[0mindexer\u001b[0m \u001b[0;34m=\u001b[0m \u001b[0;34m[\u001b[0m\u001b[0mindexer\u001b[0m\u001b[0;34m]\u001b[0m\u001b[0;34m\u001b[0m\u001b[0;34m\u001b[0m\u001b[0m\n",
            "\u001b[0;32m/usr/local/lib/python3.9/dist-packages/pandas/core/indexes/base.py\u001b[0m in \u001b[0;36mget_loc\u001b[0;34m(self, key, method, tolerance)\u001b[0m\n\u001b[1;32m   3802\u001b[0m                 \u001b[0;32mreturn\u001b[0m \u001b[0mself\u001b[0m\u001b[0;34m.\u001b[0m\u001b[0m_engine\u001b[0m\u001b[0;34m.\u001b[0m\u001b[0mget_loc\u001b[0m\u001b[0;34m(\u001b[0m\u001b[0mcasted_key\u001b[0m\u001b[0;34m)\u001b[0m\u001b[0;34m\u001b[0m\u001b[0;34m\u001b[0m\u001b[0m\n\u001b[1;32m   3803\u001b[0m             \u001b[0;32mexcept\u001b[0m \u001b[0mKeyError\u001b[0m \u001b[0;32mas\u001b[0m \u001b[0merr\u001b[0m\u001b[0;34m:\u001b[0m\u001b[0;34m\u001b[0m\u001b[0;34m\u001b[0m\u001b[0m\n\u001b[0;32m-> 3804\u001b[0;31m                 \u001b[0;32mraise\u001b[0m \u001b[0mKeyError\u001b[0m\u001b[0;34m(\u001b[0m\u001b[0mkey\u001b[0m\u001b[0;34m)\u001b[0m \u001b[0;32mfrom\u001b[0m \u001b[0merr\u001b[0m\u001b[0;34m\u001b[0m\u001b[0;34m\u001b[0m\u001b[0m\n\u001b[0m\u001b[1;32m   3805\u001b[0m             \u001b[0;32mexcept\u001b[0m \u001b[0mTypeError\u001b[0m\u001b[0;34m:\u001b[0m\u001b[0;34m\u001b[0m\u001b[0;34m\u001b[0m\u001b[0m\n\u001b[1;32m   3806\u001b[0m                 \u001b[0;31m# If we have a listlike key, _check_indexing_error will raise\u001b[0m\u001b[0;34m\u001b[0m\u001b[0;34m\u001b[0m\u001b[0m\n",
            "\u001b[0;31mKeyError\u001b[0m: 'ACTIVITY'"
          ]
        }
      ]
    },
    {
      "cell_type": "code",
      "source": [],
      "metadata": {
        "id": "eHp2dEfnjsxB"
      },
      "execution_count": null,
      "outputs": []
    },
    {
      "cell_type": "markdown",
      "metadata": {
        "id": "fDXFJIIfZBfY"
      },
      "source": [
        "**KNN**\n",
        "\n",
        "Empezamos ajustando los hiperparámetros del algoritmo KNN propbando con valores de k entre 1  y 25."
      ]
    },
    {
      "cell_type": "code",
      "execution_count": 3,
      "metadata": {
        "id": "AwIALa_iZBfY",
        "colab": {
          "base_uri": "https://localhost:8080/",
          "height": 235
        },
        "outputId": "a7c0c7fc-2b57-4aef-cc4b-27c9bb3e9a27"
      },
      "outputs": [
        {
          "output_type": "error",
          "ename": "NameError",
          "evalue": "ignored",
          "traceback": [
            "\u001b[0;31m---------------------------------------------------------------------------\u001b[0m",
            "\u001b[0;31mNameError\u001b[0m                                 Traceback (most recent call last)",
            "\u001b[0;32m<ipython-input-3-41b33922c47e>\u001b[0m in \u001b[0;36m<cell line: 11>\u001b[0;34m()\u001b[0m\n\u001b[1;32m      9\u001b[0m \u001b[0;31m# Realizamos la búsqueda de los mejores hiperparámetros utilizando validación cruzada\u001b[0m\u001b[0;34m\u001b[0m\u001b[0;34m\u001b[0m\u001b[0m\n\u001b[1;32m     10\u001b[0m \u001b[0mgrid\u001b[0m \u001b[0;34m=\u001b[0m \u001b[0mGridSearchCV\u001b[0m\u001b[0;34m(\u001b[0m\u001b[0mmodelKNN\u001b[0m\u001b[0;34m,\u001b[0m \u001b[0mparam_grid\u001b[0m\u001b[0;34m,\u001b[0m \u001b[0mcv\u001b[0m\u001b[0;34m=\u001b[0m\u001b[0;36m5\u001b[0m\u001b[0;34m)\u001b[0m\u001b[0;34m\u001b[0m\u001b[0;34m\u001b[0m\u001b[0m\n\u001b[0;32m---> 11\u001b[0;31m \u001b[0mgrid\u001b[0m\u001b[0;34m.\u001b[0m\u001b[0mfit\u001b[0m\u001b[0;34m(\u001b[0m\u001b[0mtrainData\u001b[0m\u001b[0;34m,\u001b[0m \u001b[0mtrainLabels\u001b[0m\u001b[0;34m)\u001b[0m\u001b[0;34m\u001b[0m\u001b[0;34m\u001b[0m\u001b[0m\n\u001b[0m\u001b[1;32m     12\u001b[0m \u001b[0;34m\u001b[0m\u001b[0m\n\u001b[1;32m     13\u001b[0m \u001b[0;31m# Mostramos los mejores hiperparámetros y su puntuación en la validación cruzada\u001b[0m\u001b[0;34m\u001b[0m\u001b[0;34m\u001b[0m\u001b[0m\n",
            "\u001b[0;31mNameError\u001b[0m: name 'trainData' is not defined"
          ]
        }
      ],
      "source": [
        "from sklearn.model_selection import GridSearchCV\n",
        "\n",
        "# Definimos los parámetros que queremos probar\n",
        "param_grid = {'n_neighbors': np.arange(1, 26, 2)}\n",
        "\n",
        "# Creamos el modelo\n",
        "modelKNN = KNeighborsClassifier()\n",
        "\n",
        "# Realizamos la búsqueda de los mejores hiperparámetros utilizando validación cruzada\n",
        "grid = GridSearchCV(modelKNN, param_grid, cv=5)\n",
        "grid.fit(trainData, trainLabels)\n",
        "\n",
        "# Mostramos los mejores hiperparámetros y su puntuación en la validación cruzada\n",
        "print(\"Mejores hiperparámetros: {}\".format(grid.best_params_))\n",
        "print(\"Mejor precisión de validación cruzada: {:.2f}%\".format(grid.best_score_ * 100))\n",
        "\n",
        "# Obtenemos la precisión en el conjunto de test utilizando los mejores hiperparámetros\n",
        "best_modelKNN = grid.best_estimator_\n",
        "score = best_modelKNN.score(testData, testLabels)\n",
        "print(\"Precisión en conjunto de test: {:.2f}%\".format(score * 100))\n"
      ]
    },
    {
      "cell_type": "markdown",
      "metadata": {
        "id": "vw_G9MvGZBfZ"
      },
      "source": [
        "##### Pregunta\n",
        "Entre los valores anteriores, ¿con qué valor de k obtenemos mejor precisión?"
      ]
    },
    {
      "cell_type": "markdown",
      "metadata": {
        "collapsed": true,
        "id": "RJUPOOkVZBfZ"
      },
      "source": [
        "Respuesta: Con los valores 3 y 7 con un 77.59%"
      ]
    },
    {
      "cell_type": "markdown",
      "metadata": {
        "id": "Wd5NBbXkZBfZ"
      },
      "source": [
        "**Árboles de decisión**\n",
        "\n",
        "Repite lo mismo visto para KNN para los árboles de decisión con el hiperparámetro min_samples_split con valores entre 2 y 10 avanzando de 1 en 1. Puedes ver lo que hace este hiperparámetro en la [documentación de sklearn](http://scikit-learn.org/stable/modules/tree.html).\n"
      ]
    },
    {
      "cell_type": "code",
      "execution_count": null,
      "metadata": {
        "collapsed": true,
        "id": "CTk0523ZZBfZ",
        "colab": {
          "base_uri": "https://localhost:8080/"
        },
        "outputId": "1833cb7b-5114-47a9-ed82-3cd8b971af68"
      },
      "outputs": [
        {
          "output_type": "stream",
          "name": "stdout",
          "text": [
            "k=2, precision=62.07%\n",
            "k=3, precision=62.07%\n",
            "k=4, precision=63.79%\n",
            "k=5, precision=65.52%\n",
            "k=6, precision=63.79%\n",
            "k=7, precision=62.07%\n",
            "k=8, precision=63.79%\n",
            "k=9, precision=62.07%\n"
          ]
        }
      ],
      "source": [
        "for k in range(2,10,1):\n",
        "    modelArbol = DecisionTreeClassifier(min_samples_split=k)\n",
        "    modelArbol.fit(trainData, trainLabels)\n",
        "    score = modelArbol.score(valData,valLabels)\n",
        "    print(\"k=%d, precision=%.2f%%\" % (k, score * 100))\n"
      ]
    },
    {
      "cell_type": "markdown",
      "metadata": {
        "id": "7kKA1p3eZBfa"
      },
      "source": [
        "**Regresión logística**\n",
        "\n",
        "Repite lo mismo visto para KNN para la regresión logística con C tomando los valores 0.1,1,10,100, y 1000."
      ]
    },
    {
      "cell_type": "code",
      "execution_count": null,
      "metadata": {
        "id": "YPQStnNeZBfa",
        "colab": {
          "base_uri": "https://localhost:8080/"
        },
        "outputId": "4a636222-510c-44f4-dac7-dc398e1306cf"
      },
      "outputs": [
        {
          "output_type": "stream",
          "name": "stdout",
          "text": [
            "k=0, precisión=74.14%\n",
            "k=1, precisión=72.41%\n",
            "k=10, precisión=72.41%\n",
            "k=100, precisión=70.69%\n",
            "k=1000, precisión=72.41%\n"
          ]
        }
      ],
      "source": [
        "values=[0.1 , 1 , 10 , 100 , 1000]\n",
        "for k in values:\n",
        "    modelLR = LogisticRegression(C=k)\n",
        "    modelLR.fit(trainData,trainLabels)\n",
        "    score=modelLR.score(valData,valLabels)\n",
        "    print(\"k=%d, precisión=%.2f%%\" % (k, score * 100))"
      ]
    },
    {
      "cell_type": "markdown",
      "metadata": {
        "id": "xB8kViSuZBfa"
      },
      "source": [
        "##### Pregunta\n",
        "Entre los valores anteriores, ¿Con qué valor de C obtenemos mejor precisión?\n"
      ]
    },
    {
      "cell_type": "markdown",
      "metadata": {
        "collapsed": true,
        "id": "bkbs3TO7ZBfb"
      },
      "source": [
        "Respuesta: Con 0.1 con un 74.14%"
      ]
    },
    {
      "cell_type": "markdown",
      "metadata": {
        "id": "jPd_NRhdZBfb"
      },
      "source": [
        "#### 2.2. 10-fold cross validation \n",
        "\n",
        "Una alternativa al método anterior donde hacemos la separación del training set en training y validation de manera manual, consiste en utilizar el k-fold cross validation. Existen distintas alternativas para el k-fold cross validation en sklearn.\n",
        "\n",
        "Recuperamos lo primero todo nuestro conjunto de entrenamiento uniendo el conjunto de entrenamiento y el de validación."
      ]
    },
    {
      "cell_type": "code",
      "execution_count": null,
      "metadata": {
        "collapsed": true,
        "id": "27rw3McgZBfb"
      },
      "outputs": [],
      "source": [
        "import numpy as np\n",
        "trainData=np.concatenate((trainData,valData),axis=0)\n",
        "trainLabels=np.concatenate((trainLabels,valLabels),axis=0)"
      ]
    },
    {
      "cell_type": "markdown",
      "metadata": {
        "id": "l_1VammAZBfb"
      },
      "source": [
        "**KNN**\n",
        "\n",
        "La manera más sencilla de utilizar el k-fold validation consiste en utilizar la función `cross_val_score`."
      ]
    },
    {
      "cell_type": "code",
      "execution_count": null,
      "metadata": {
        "collapsed": true,
        "id": "I3-ZuA-bZBfc",
        "colab": {
          "base_uri": "https://localhost:8080/"
        },
        "outputId": "742ddd31-f55b-48da-ed36-e67325e15621"
      },
      "outputs": [
        {
          "output_type": "stream",
          "name": "stdout",
          "text": [
            "k=1, Precisión: 0.71 (+/- 0.08)\n",
            "k=3, Precisión: 0.72 (+/- 0.08)\n",
            "k=5, Precisión: 0.74 (+/- 0.12)\n",
            "k=7, Precisión: 0.76 (+/- 0.10)\n",
            "k=9, Precisión: 0.77 (+/- 0.12)\n",
            "k=11, Precisión: 0.76 (+/- 0.12)\n",
            "k=13, Precisión: 0.76 (+/- 0.08)\n",
            "k=15, Precisión: 0.76 (+/- 0.07)\n",
            "k=17, Precisión: 0.75 (+/- 0.07)\n",
            "k=19, Precisión: 0.75 (+/- 0.07)\n",
            "k=21, Precisión: 0.75 (+/- 0.08)\n",
            "k=23, Precisión: 0.76 (+/- 0.09)\n",
            "k=25, Precisión: 0.75 (+/- 0.06)\n"
          ]
        }
      ],
      "source": [
        "from sklearn.model_selection import cross_val_score\n",
        "\n",
        "for k in range(1,26,2):\n",
        "    modelKNN = KNeighborsClassifier(n_neighbors=k)\n",
        "    scores = cross_val_score(modelKNN,trainData,trainLabels,cv=10)\n",
        "    print(\"k=%d, Precisión: %0.2f (+/- %0.2f)\" % (k, scores.mean(), scores.std() * 2))"
      ]
    },
    {
      "cell_type": "markdown",
      "metadata": {
        "id": "jP6_7xaAZBfc"
      },
      "source": [
        "##### Pregunta\n",
        "Entre los valores anteriores, ¿con qué valor de k obtenemos mejor precisión?"
      ]
    },
    {
      "cell_type": "markdown",
      "source": [
        "Respuesta:Con el valor 9 con 0.77 (+/- 0.12)"
      ],
      "metadata": {
        "id": "ETvX2srmajdf"
      }
    },
    {
      "cell_type": "markdown",
      "metadata": {
        "id": "pb_pFiloZBfd"
      },
      "source": [
        "#### 2.3. K-fold combinado con GridSearch method\n",
        "\n",
        "La mejor manera de seleccionar hiperparámetros consiste en combinar el k-fold cross validation con técnicas de búsqueda como el GridSearch o RandomSearch."
      ]
    },
    {
      "cell_type": "markdown",
      "metadata": {
        "id": "JTsKr9RjZBfd"
      },
      "source": [
        "**SVM**\n",
        "\n",
        "Veámos primero cómo seleccionar los mejores hiperparámetros para la regresión logística usando GridSearch (que ya por debajo utiliza cross-validation)."
      ]
    },
    {
      "cell_type": "code",
      "execution_count": null,
      "metadata": {
        "collapsed": true,
        "id": "cA1gWLwJZBfd"
      },
      "outputs": [],
      "source": [
        "from sklearn.model_selection import GridSearchCV"
      ]
    },
    {
      "cell_type": "markdown",
      "metadata": {
        "id": "TQESbdRZZBfe"
      },
      "source": [
        "Para utilizar este método debemos fijar: \n",
        "\n",
        "(1) el clasificador que vamos a utilizar"
      ]
    },
    {
      "cell_type": "code",
      "execution_count": null,
      "metadata": {
        "collapsed": true,
        "id": "7pyHWIIPZBfe"
      },
      "outputs": [],
      "source": [
        "modelLR = LogisticRegression()"
      ]
    },
    {
      "cell_type": "markdown",
      "metadata": {
        "id": "CvbLxKxvZBfe"
      },
      "source": [
        "(2) el espacio de parámetros a buscar"
      ]
    },
    {
      "cell_type": "code",
      "execution_count": null,
      "metadata": {
        "collapsed": true,
        "id": "ZsyCrxVPZBff"
      },
      "outputs": [],
      "source": [
        "tuned_parameters = [{'solver': ['newton-cg', 'lbfgs'], 'penalty': ['l2', 'none'],\n",
        "                     'C': [0.01, 0.1,1, 10]},\n",
        "                    {'solver': ['liblinear'], 'penalty': ['l2', 'l1'],\n",
        "                     'C': [0.01, 0.1,1, 10]}]"
      ]
    },
    {
      "cell_type": "markdown",
      "metadata": {
        "id": "GQsf7tGYZBff"
      },
      "source": [
        "(3) La función (o funciones) de evaluación."
      ]
    },
    {
      "cell_type": "code",
      "execution_count": null,
      "metadata": {
        "collapsed": true,
        "id": "zUgrxaZEZBff"
      },
      "outputs": [],
      "source": [
        "scores = ['precision', 'recall']"
      ]
    },
    {
      "cell_type": "markdown",
      "metadata": {
        "id": "e7FTVuqrZBff"
      },
      "source": [
        "A continuación definimos una función que tomando estos parámetros, y el número de folds, busca el mejor conjunto de hiperparámetros a utilizar para el modelo dado. "
      ]
    },
    {
      "cell_type": "code",
      "execution_count": null,
      "metadata": {
        "collapsed": true,
        "id": "Zd5rzF0BZBfg"
      },
      "outputs": [],
      "source": [
        "def gridsearch(model,parameters,scores,k):\n",
        "    for score in scores:\n",
        "        print(\"# Tuning hyper-parameters for %s\" % score)\n",
        "        print()\n",
        "\n",
        "        clf = GridSearchCV(model, parameters, cv=k,\n",
        "                           scoring='%s_macro' % score)\n",
        "        clf.fit(trainData, trainLabels)\n",
        "\n",
        "        print(\"Best parameters set found on development set:\")\n",
        "        print()\n",
        "        print(clf.best_params_)\n",
        "        print()\n",
        "        print(\"Grid scores on development set:\")\n",
        "        print()\n",
        "        means = clf.cv_results_['mean_test_score']\n",
        "        stds = clf.cv_results_['std_test_score']\n",
        "        for mean, std, params in zip(means, stds, clf.cv_results_['params']):\n",
        "            print(\"%0.3f (+/-%0.03f) for %r\"\n",
        "                  % (mean, std * 2, params))\n",
        "        print()"
      ]
    },
    {
      "cell_type": "markdown",
      "metadata": {
        "id": "5J567Ew9ZBfg"
      },
      "source": [
        "Por ejemplo, para buscar los mejores hiperparámetros para el modelo de regresión logística utilizamos la siguiente instrucción. La ejecución de la siguiente celda puede llevar bastante tiempo."
      ]
    },
    {
      "cell_type": "code",
      "execution_count": null,
      "metadata": {
        "collapsed": true,
        "id": "jburaOVlZBfh",
        "colab": {
          "base_uri": "https://localhost:8080/"
        },
        "outputId": "8dd2ac40-2cf0-4527-8b8b-acc1e80f0eae"
      },
      "outputs": [
        {
          "output_type": "stream",
          "name": "stdout",
          "text": [
            "CPU times: user 3 µs, sys: 0 ns, total: 3 µs\n",
            "Wall time: 8.11 µs\n",
            "# Tuning hyper-parameters for precision\n",
            "\n",
            "Best parameters set found on development set:\n",
            "\n",
            "{'C': 0.01, 'penalty': 'none', 'solver': 'lbfgs'}\n",
            "\n",
            "Grid scores on development set:\n",
            "\n",
            "0.766 (+/-0.056) for {'C': 0.01, 'penalty': 'l2', 'solver': 'newton-cg'}\n",
            "0.764 (+/-0.062) for {'C': 0.01, 'penalty': 'l2', 'solver': 'lbfgs'}\n",
            "0.762 (+/-0.061) for {'C': 0.01, 'penalty': 'none', 'solver': 'newton-cg'}\n",
            "0.767 (+/-0.061) for {'C': 0.01, 'penalty': 'none', 'solver': 'lbfgs'}\n",
            "0.756 (+/-0.072) for {'C': 0.1, 'penalty': 'l2', 'solver': 'newton-cg'}\n",
            "0.758 (+/-0.068) for {'C': 0.1, 'penalty': 'l2', 'solver': 'lbfgs'}\n",
            "0.762 (+/-0.061) for {'C': 0.1, 'penalty': 'none', 'solver': 'newton-cg'}\n",
            "0.767 (+/-0.061) for {'C': 0.1, 'penalty': 'none', 'solver': 'lbfgs'}\n",
            "0.760 (+/-0.068) for {'C': 1, 'penalty': 'l2', 'solver': 'newton-cg'}\n",
            "0.767 (+/-0.055) for {'C': 1, 'penalty': 'l2', 'solver': 'lbfgs'}\n",
            "0.762 (+/-0.061) for {'C': 1, 'penalty': 'none', 'solver': 'newton-cg'}\n",
            "0.767 (+/-0.061) for {'C': 1, 'penalty': 'none', 'solver': 'lbfgs'}\n",
            "0.760 (+/-0.068) for {'C': 10, 'penalty': 'l2', 'solver': 'newton-cg'}\n",
            "0.767 (+/-0.055) for {'C': 10, 'penalty': 'l2', 'solver': 'lbfgs'}\n",
            "0.762 (+/-0.061) for {'C': 10, 'penalty': 'none', 'solver': 'newton-cg'}\n",
            "0.767 (+/-0.061) for {'C': 10, 'penalty': 'none', 'solver': 'lbfgs'}\n",
            "0.650 (+/-0.039) for {'C': 0.01, 'penalty': 'l2', 'solver': 'liblinear'}\n",
            "0.645 (+/-0.045) for {'C': 0.01, 'penalty': 'l1', 'solver': 'liblinear'}\n",
            "0.680 (+/-0.054) for {'C': 0.1, 'penalty': 'l2', 'solver': 'liblinear'}\n",
            "0.732 (+/-0.061) for {'C': 0.1, 'penalty': 'l1', 'solver': 'liblinear'}\n",
            "0.755 (+/-0.040) for {'C': 1, 'penalty': 'l2', 'solver': 'liblinear'}\n",
            "0.758 (+/-0.065) for {'C': 1, 'penalty': 'l1', 'solver': 'liblinear'}\n",
            "0.761 (+/-0.062) for {'C': 10, 'penalty': 'l2', 'solver': 'liblinear'}\n",
            "0.760 (+/-0.068) for {'C': 10, 'penalty': 'l1', 'solver': 'liblinear'}\n",
            "\n",
            "# Tuning hyper-parameters for recall\n",
            "\n",
            "Best parameters set found on development set:\n",
            "\n",
            "{'C': 1, 'penalty': 'l2', 'solver': 'lbfgs'}\n",
            "\n",
            "Grid scores on development set:\n",
            "\n",
            "0.729 (+/-0.051) for {'C': 0.01, 'penalty': 'l2', 'solver': 'newton-cg'}\n",
            "0.728 (+/-0.052) for {'C': 0.01, 'penalty': 'l2', 'solver': 'lbfgs'}\n",
            "0.729 (+/-0.057) for {'C': 0.01, 'penalty': 'none', 'solver': 'newton-cg'}\n",
            "0.731 (+/-0.066) for {'C': 0.01, 'penalty': 'none', 'solver': 'lbfgs'}\n",
            "0.723 (+/-0.074) for {'C': 0.1, 'penalty': 'l2', 'solver': 'newton-cg'}\n",
            "0.723 (+/-0.073) for {'C': 0.1, 'penalty': 'l2', 'solver': 'lbfgs'}\n",
            "0.729 (+/-0.057) for {'C': 0.1, 'penalty': 'none', 'solver': 'newton-cg'}\n",
            "0.731 (+/-0.066) for {'C': 0.1, 'penalty': 'none', 'solver': 'lbfgs'}\n",
            "0.727 (+/-0.066) for {'C': 1, 'penalty': 'l2', 'solver': 'newton-cg'}\n",
            "0.732 (+/-0.056) for {'C': 1, 'penalty': 'l2', 'solver': 'lbfgs'}\n",
            "0.729 (+/-0.057) for {'C': 1, 'penalty': 'none', 'solver': 'newton-cg'}\n",
            "0.731 (+/-0.066) for {'C': 1, 'penalty': 'none', 'solver': 'lbfgs'}\n",
            "0.727 (+/-0.066) for {'C': 10, 'penalty': 'l2', 'solver': 'newton-cg'}\n",
            "0.732 (+/-0.056) for {'C': 10, 'penalty': 'l2', 'solver': 'lbfgs'}\n",
            "0.729 (+/-0.057) for {'C': 10, 'penalty': 'none', 'solver': 'newton-cg'}\n",
            "0.731 (+/-0.066) for {'C': 10, 'penalty': 'none', 'solver': 'lbfgs'}\n",
            "0.600 (+/-0.054) for {'C': 0.01, 'penalty': 'l2', 'solver': 'liblinear'}\n",
            "0.582 (+/-0.042) for {'C': 0.01, 'penalty': 'l1', 'solver': 'liblinear'}\n",
            "0.628 (+/-0.051) for {'C': 0.1, 'penalty': 'l2', 'solver': 'liblinear'}\n",
            "0.682 (+/-0.049) for {'C': 0.1, 'penalty': 'l1', 'solver': 'liblinear'}\n",
            "0.708 (+/-0.053) for {'C': 1, 'penalty': 'l2', 'solver': 'liblinear'}\n",
            "0.724 (+/-0.064) for {'C': 1, 'penalty': 'l1', 'solver': 'liblinear'}\n",
            "0.726 (+/-0.063) for {'C': 10, 'penalty': 'l2', 'solver': 'liblinear'}\n",
            "0.727 (+/-0.066) for {'C': 10, 'penalty': 'l1', 'solver': 'liblinear'}\n",
            "\n"
          ]
        }
      ],
      "source": [
        "import time\n",
        "%time\n",
        "gridsearch(modelLR,tuned_parameters,scores,5)"
      ]
    },
    {
      "cell_type": "markdown",
      "metadata": {
        "id": "WLvaYEj8ZBfh"
      },
      "source": [
        "#### 2.4. K-fold combinado con RandomSearch method\n",
        "\n",
        "Como podemos ver el proceso anterior es bastante costoso ya que es necesario probar todas las posibles combinaciones y además utilizando k-fold cross validation. Una alternativa a esta aproximación consiste en utilizar Random Search que no hace una búsqueda exhaustiva con todos los hiperparámetros sino que hace una búsqueda aleatorea. "
      ]
    },
    {
      "cell_type": "code",
      "execution_count": null,
      "metadata": {
        "collapsed": true,
        "id": "DseQTbDbZBfi"
      },
      "outputs": [],
      "source": [
        "from sklearn.model_selection import RandomizedSearchCV\n",
        "from scipy.stats import randint as sp_randint\n",
        "\n",
        "def randomsearch(model,parameters,scores,k=5):\n",
        "    for score in scores:  \n",
        "      print(\"# Tuning hyper-parameters for %s\" % score)\n",
        "      print()\n",
        "\n",
        "      clf = RandomizedSearchCV(model, parameters,cv=k)\n",
        "      clf.fit(trainData, trainLabels)\n",
        "\n",
        "      print(\"Best parameters set found on development set:\")\n",
        "      print()\n",
        "      print(clf.best_params_)\n",
        "      print()"
      ]
    },
    {
      "cell_type": "markdown",
      "metadata": {
        "id": "PTv28DFwZBfi"
      },
      "source": [
        "Podemos ejecutar la función anterior con la siguiente celda. "
      ]
    },
    {
      "cell_type": "code",
      "execution_count": null,
      "metadata": {
        "collapsed": true,
        "id": "svSqNgSvZBfi",
        "colab": {
          "base_uri": "https://localhost:8080/"
        },
        "outputId": "03627146-4d95-42b4-b841-1e32e10e3e90"
      },
      "outputs": [
        {
          "output_type": "stream",
          "name": "stdout",
          "text": [
            "CPU times: user 5 µs, sys: 1 µs, total: 6 µs\n",
            "Wall time: 8.82 µs\n",
            "# Tuning hyper-parameters for precision\n",
            "\n",
            "Best parameters set found on development set:\n",
            "\n",
            "{'solver': 'lbfgs', 'penalty': 'l2', 'C': 10}\n",
            "\n",
            "# Tuning hyper-parameters for recall\n",
            "\n",
            "Best parameters set found on development set:\n",
            "\n",
            "{'solver': 'lbfgs', 'penalty': 'l2', 'C': 1}\n",
            "\n"
          ]
        }
      ],
      "source": [
        "%time\n",
        "randomsearch(modelLR, {'solver': ['newton-cg', 'lbfgs'], 'penalty': ['l2', 'none'],\n",
        "                     'C': [0.01, 0.1,1, 10]},scores,5)"
      ]
    },
    {
      "cell_type": "markdown",
      "metadata": {
        "id": "JL9-vvRwZBfi"
      },
      "source": [
        "##### Pregunta\n",
        "\n",
        "¿Con qué valores se obtienen mejores resultados?"
      ]
    },
    {
      "cell_type": "markdown",
      "metadata": {
        "collapsed": true,
        "id": "Kpf1KI8eZBfj"
      },
      "source": [
        "Respuesta: Los mismos (que son 0.1,none y lbfgs) "
      ]
    },
    {
      "cell_type": "markdown",
      "metadata": {
        "id": "splquhH0ZBfj"
      },
      "source": [
        "##### Ejercicio\n",
        "\n",
        "Utilizando RandomSearch busca los mejores hiperparámetros para una red neuronal multicapa con las siguientes configuraciones de capas (5,2), (3,3,3), (5,3,2), (5,4,3,2); con funciones de activación: ‘identity’, ‘logistic’, ‘tanh’, ‘relu’; con momentum: 0.9,0.95,0.99; y learning_rate_init: 0.001,0.01,0.1."
      ]
    },
    {
      "cell_type": "code",
      "execution_count": null,
      "metadata": {
        "collapsed": true,
        "id": "JgTmDlwPZBfj"
      },
      "outputs": [],
      "source": [
        "from sklearn.neural_network import MLPClassifier\n",
        "modelMultiLayerPerceptron = MLPClassifier()"
      ]
    },
    {
      "cell_type": "code",
      "source": [
        "randomsearch(modelMultiLayerPerceptron,{'hidden_layer_sizes': [(5,2),(3,3,3),(5,3,2),(5,4,3,2)],'momentum':[0.9,0.95,0.99],'learning_rate_init':[0.001,0.01,0.1]},['identity','logistic','tanh','relu'],5)"
      ],
      "metadata": {
        "id": "f9XHz9YUdz4n",
        "outputId": "ce52dcfe-4852-47c5-b510-8ae9b9aac681",
        "colab": {
          "base_uri": "https://localhost:8080/"
        }
      },
      "execution_count": null,
      "outputs": [
        {
          "output_type": "stream",
          "name": "stdout",
          "text": [
            "# Tuning hyper-parameters for identity\n",
            "\n",
            "Best parameters set found on development set:\n",
            "\n",
            "{'momentum': 0.99, 'learning_rate_init': 0.001, 'hidden_layer_sizes': (3, 3, 3)}\n",
            "\n",
            "# Tuning hyper-parameters for logistic\n",
            "\n",
            "Best parameters set found on development set:\n",
            "\n",
            "{'momentum': 0.9, 'learning_rate_init': 0.01, 'hidden_layer_sizes': (3, 3, 3)}\n",
            "\n",
            "# Tuning hyper-parameters for tanh\n",
            "\n",
            "Best parameters set found on development set:\n",
            "\n",
            "{'momentum': 0.99, 'learning_rate_init': 0.01, 'hidden_layer_sizes': (3, 3, 3)}\n",
            "\n",
            "# Tuning hyper-parameters for relu\n",
            "\n",
            "Best parameters set found on development set:\n",
            "\n",
            "{'momentum': 0.9, 'learning_rate_init': 0.01, 'hidden_layer_sizes': (5, 4, 3, 2)}\n",
            "\n"
          ]
        }
      ]
    },
    {
      "cell_type": "markdown",
      "metadata": {
        "id": "Wx8y97UwZBfk"
      },
      "source": [
        "##### Ejercicio\n",
        "Utilizando los hiperparámetros que mejores resultados han dado hasta ahora para cada modelo, define y entrena un clasificador para cada uno de ellos."
      ]
    },
    {
      "cell_type": "markdown",
      "metadata": {
        "id": "2AiKBO1mZBfk"
      },
      "source": [
        "**KNN**"
      ]
    },
    {
      "cell_type": "code",
      "execution_count": null,
      "metadata": {
        "collapsed": true,
        "id": "QucyetroZBfk",
        "colab": {
          "base_uri": "https://localhost:8080/",
          "height": 74
        },
        "outputId": "de53e0ae-3db6-4edc-fcf5-e0f4c36ef808"
      },
      "outputs": [
        {
          "output_type": "execute_result",
          "data": {
            "text/plain": [
              "KNeighborsClassifier(n_neighbors=11)"
            ],
            "text/html": [
              "<style>#sk-container-id-1 {color: black;background-color: white;}#sk-container-id-1 pre{padding: 0;}#sk-container-id-1 div.sk-toggleable {background-color: white;}#sk-container-id-1 label.sk-toggleable__label {cursor: pointer;display: block;width: 100%;margin-bottom: 0;padding: 0.3em;box-sizing: border-box;text-align: center;}#sk-container-id-1 label.sk-toggleable__label-arrow:before {content: \"▸\";float: left;margin-right: 0.25em;color: #696969;}#sk-container-id-1 label.sk-toggleable__label-arrow:hover:before {color: black;}#sk-container-id-1 div.sk-estimator:hover label.sk-toggleable__label-arrow:before {color: black;}#sk-container-id-1 div.sk-toggleable__content {max-height: 0;max-width: 0;overflow: hidden;text-align: left;background-color: #f0f8ff;}#sk-container-id-1 div.sk-toggleable__content pre {margin: 0.2em;color: black;border-radius: 0.25em;background-color: #f0f8ff;}#sk-container-id-1 input.sk-toggleable__control:checked~div.sk-toggleable__content {max-height: 200px;max-width: 100%;overflow: auto;}#sk-container-id-1 input.sk-toggleable__control:checked~label.sk-toggleable__label-arrow:before {content: \"▾\";}#sk-container-id-1 div.sk-estimator input.sk-toggleable__control:checked~label.sk-toggleable__label {background-color: #d4ebff;}#sk-container-id-1 div.sk-label input.sk-toggleable__control:checked~label.sk-toggleable__label {background-color: #d4ebff;}#sk-container-id-1 input.sk-hidden--visually {border: 0;clip: rect(1px 1px 1px 1px);clip: rect(1px, 1px, 1px, 1px);height: 1px;margin: -1px;overflow: hidden;padding: 0;position: absolute;width: 1px;}#sk-container-id-1 div.sk-estimator {font-family: monospace;background-color: #f0f8ff;border: 1px dotted black;border-radius: 0.25em;box-sizing: border-box;margin-bottom: 0.5em;}#sk-container-id-1 div.sk-estimator:hover {background-color: #d4ebff;}#sk-container-id-1 div.sk-parallel-item::after {content: \"\";width: 100%;border-bottom: 1px solid gray;flex-grow: 1;}#sk-container-id-1 div.sk-label:hover label.sk-toggleable__label {background-color: #d4ebff;}#sk-container-id-1 div.sk-serial::before {content: \"\";position: absolute;border-left: 1px solid gray;box-sizing: border-box;top: 0;bottom: 0;left: 50%;z-index: 0;}#sk-container-id-1 div.sk-serial {display: flex;flex-direction: column;align-items: center;background-color: white;padding-right: 0.2em;padding-left: 0.2em;position: relative;}#sk-container-id-1 div.sk-item {position: relative;z-index: 1;}#sk-container-id-1 div.sk-parallel {display: flex;align-items: stretch;justify-content: center;background-color: white;position: relative;}#sk-container-id-1 div.sk-item::before, #sk-container-id-1 div.sk-parallel-item::before {content: \"\";position: absolute;border-left: 1px solid gray;box-sizing: border-box;top: 0;bottom: 0;left: 50%;z-index: -1;}#sk-container-id-1 div.sk-parallel-item {display: flex;flex-direction: column;z-index: 1;position: relative;background-color: white;}#sk-container-id-1 div.sk-parallel-item:first-child::after {align-self: flex-end;width: 50%;}#sk-container-id-1 div.sk-parallel-item:last-child::after {align-self: flex-start;width: 50%;}#sk-container-id-1 div.sk-parallel-item:only-child::after {width: 0;}#sk-container-id-1 div.sk-dashed-wrapped {border: 1px dashed gray;margin: 0 0.4em 0.5em 0.4em;box-sizing: border-box;padding-bottom: 0.4em;background-color: white;}#sk-container-id-1 div.sk-label label {font-family: monospace;font-weight: bold;display: inline-block;line-height: 1.2em;}#sk-container-id-1 div.sk-label-container {text-align: center;}#sk-container-id-1 div.sk-container {/* jupyter's `normalize.less` sets `[hidden] { display: none; }` but bootstrap.min.css set `[hidden] { display: none !important; }` so we also need the `!important` here to be able to override the default hidden behavior on the sphinx rendered scikit-learn.org. See: https://github.com/scikit-learn/scikit-learn/issues/21755 */display: inline-block !important;position: relative;}#sk-container-id-1 div.sk-text-repr-fallback {display: none;}</style><div id=\"sk-container-id-1\" class=\"sk-top-container\"><div class=\"sk-text-repr-fallback\"><pre>KNeighborsClassifier(n_neighbors=11)</pre><b>In a Jupyter environment, please rerun this cell to show the HTML representation or trust the notebook. <br />On GitHub, the HTML representation is unable to render, please try loading this page with nbviewer.org.</b></div><div class=\"sk-container\" hidden><div class=\"sk-item\"><div class=\"sk-estimator sk-toggleable\"><input class=\"sk-toggleable__control sk-hidden--visually\" id=\"sk-estimator-id-1\" type=\"checkbox\" checked><label for=\"sk-estimator-id-1\" class=\"sk-toggleable__label sk-toggleable__label-arrow\">KNeighborsClassifier</label><div class=\"sk-toggleable__content\"><pre>KNeighborsClassifier(n_neighbors=11)</pre></div></div></div></div></div>"
            ]
          },
          "metadata": {},
          "execution_count": 26
        }
      ],
      "source": [
        "modelKNN = KNeighborsClassifier(n_neighbors=11)\n",
        "modelKNN.fit(trainData, trainLabels)"
      ]
    },
    {
      "cell_type": "markdown",
      "metadata": {
        "id": "l9kGRBbnZBfl"
      },
      "source": [
        "**Árboles de decisión**"
      ]
    },
    {
      "cell_type": "code",
      "execution_count": null,
      "metadata": {
        "collapsed": true,
        "id": "QJSnAWxqZBfl",
        "colab": {
          "base_uri": "https://localhost:8080/",
          "height": 74
        },
        "outputId": "d6f8ef0c-b9d2-40fc-8cf4-7a9511d8efe1"
      },
      "outputs": [
        {
          "output_type": "execute_result",
          "data": {
            "text/plain": [
              "DecisionTreeClassifier(min_samples_split=5)"
            ],
            "text/html": [
              "<style>#sk-container-id-2 {color: black;background-color: white;}#sk-container-id-2 pre{padding: 0;}#sk-container-id-2 div.sk-toggleable {background-color: white;}#sk-container-id-2 label.sk-toggleable__label {cursor: pointer;display: block;width: 100%;margin-bottom: 0;padding: 0.3em;box-sizing: border-box;text-align: center;}#sk-container-id-2 label.sk-toggleable__label-arrow:before {content: \"▸\";float: left;margin-right: 0.25em;color: #696969;}#sk-container-id-2 label.sk-toggleable__label-arrow:hover:before {color: black;}#sk-container-id-2 div.sk-estimator:hover label.sk-toggleable__label-arrow:before {color: black;}#sk-container-id-2 div.sk-toggleable__content {max-height: 0;max-width: 0;overflow: hidden;text-align: left;background-color: #f0f8ff;}#sk-container-id-2 div.sk-toggleable__content pre {margin: 0.2em;color: black;border-radius: 0.25em;background-color: #f0f8ff;}#sk-container-id-2 input.sk-toggleable__control:checked~div.sk-toggleable__content {max-height: 200px;max-width: 100%;overflow: auto;}#sk-container-id-2 input.sk-toggleable__control:checked~label.sk-toggleable__label-arrow:before {content: \"▾\";}#sk-container-id-2 div.sk-estimator input.sk-toggleable__control:checked~label.sk-toggleable__label {background-color: #d4ebff;}#sk-container-id-2 div.sk-label input.sk-toggleable__control:checked~label.sk-toggleable__label {background-color: #d4ebff;}#sk-container-id-2 input.sk-hidden--visually {border: 0;clip: rect(1px 1px 1px 1px);clip: rect(1px, 1px, 1px, 1px);height: 1px;margin: -1px;overflow: hidden;padding: 0;position: absolute;width: 1px;}#sk-container-id-2 div.sk-estimator {font-family: monospace;background-color: #f0f8ff;border: 1px dotted black;border-radius: 0.25em;box-sizing: border-box;margin-bottom: 0.5em;}#sk-container-id-2 div.sk-estimator:hover {background-color: #d4ebff;}#sk-container-id-2 div.sk-parallel-item::after {content: \"\";width: 100%;border-bottom: 1px solid gray;flex-grow: 1;}#sk-container-id-2 div.sk-label:hover label.sk-toggleable__label {background-color: #d4ebff;}#sk-container-id-2 div.sk-serial::before {content: \"\";position: absolute;border-left: 1px solid gray;box-sizing: border-box;top: 0;bottom: 0;left: 50%;z-index: 0;}#sk-container-id-2 div.sk-serial {display: flex;flex-direction: column;align-items: center;background-color: white;padding-right: 0.2em;padding-left: 0.2em;position: relative;}#sk-container-id-2 div.sk-item {position: relative;z-index: 1;}#sk-container-id-2 div.sk-parallel {display: flex;align-items: stretch;justify-content: center;background-color: white;position: relative;}#sk-container-id-2 div.sk-item::before, #sk-container-id-2 div.sk-parallel-item::before {content: \"\";position: absolute;border-left: 1px solid gray;box-sizing: border-box;top: 0;bottom: 0;left: 50%;z-index: -1;}#sk-container-id-2 div.sk-parallel-item {display: flex;flex-direction: column;z-index: 1;position: relative;background-color: white;}#sk-container-id-2 div.sk-parallel-item:first-child::after {align-self: flex-end;width: 50%;}#sk-container-id-2 div.sk-parallel-item:last-child::after {align-self: flex-start;width: 50%;}#sk-container-id-2 div.sk-parallel-item:only-child::after {width: 0;}#sk-container-id-2 div.sk-dashed-wrapped {border: 1px dashed gray;margin: 0 0.4em 0.5em 0.4em;box-sizing: border-box;padding-bottom: 0.4em;background-color: white;}#sk-container-id-2 div.sk-label label {font-family: monospace;font-weight: bold;display: inline-block;line-height: 1.2em;}#sk-container-id-2 div.sk-label-container {text-align: center;}#sk-container-id-2 div.sk-container {/* jupyter's `normalize.less` sets `[hidden] { display: none; }` but bootstrap.min.css set `[hidden] { display: none !important; }` so we also need the `!important` here to be able to override the default hidden behavior on the sphinx rendered scikit-learn.org. See: https://github.com/scikit-learn/scikit-learn/issues/21755 */display: inline-block !important;position: relative;}#sk-container-id-2 div.sk-text-repr-fallback {display: none;}</style><div id=\"sk-container-id-2\" class=\"sk-top-container\"><div class=\"sk-text-repr-fallback\"><pre>DecisionTreeClassifier(min_samples_split=5)</pre><b>In a Jupyter environment, please rerun this cell to show the HTML representation or trust the notebook. <br />On GitHub, the HTML representation is unable to render, please try loading this page with nbviewer.org.</b></div><div class=\"sk-container\" hidden><div class=\"sk-item\"><div class=\"sk-estimator sk-toggleable\"><input class=\"sk-toggleable__control sk-hidden--visually\" id=\"sk-estimator-id-2\" type=\"checkbox\" checked><label for=\"sk-estimator-id-2\" class=\"sk-toggleable__label sk-toggleable__label-arrow\">DecisionTreeClassifier</label><div class=\"sk-toggleable__content\"><pre>DecisionTreeClassifier(min_samples_split=5)</pre></div></div></div></div></div>"
            ]
          },
          "metadata": {},
          "execution_count": 27
        }
      ],
      "source": [
        "modelArbol = DecisionTreeClassifier(min_samples_split=5)\n",
        "modelArbol.fit(trainData, trainLabels)"
      ]
    },
    {
      "cell_type": "markdown",
      "metadata": {
        "id": "QO6DGDRsZBfl"
      },
      "source": [
        "**Regresión Logística**"
      ]
    },
    {
      "cell_type": "code",
      "execution_count": null,
      "metadata": {
        "collapsed": true,
        "id": "Ma2TQERYZBfl",
        "colab": {
          "base_uri": "https://localhost:8080/",
          "height": 74
        },
        "outputId": "5f9e3fe5-f92b-425f-db77-a3bde55e460b"
      },
      "outputs": [
        {
          "output_type": "execute_result",
          "data": {
            "text/plain": [
              "LogisticRegression(C=0.1)"
            ],
            "text/html": [
              "<style>#sk-container-id-4 {color: black;background-color: white;}#sk-container-id-4 pre{padding: 0;}#sk-container-id-4 div.sk-toggleable {background-color: white;}#sk-container-id-4 label.sk-toggleable__label {cursor: pointer;display: block;width: 100%;margin-bottom: 0;padding: 0.3em;box-sizing: border-box;text-align: center;}#sk-container-id-4 label.sk-toggleable__label-arrow:before {content: \"▸\";float: left;margin-right: 0.25em;color: #696969;}#sk-container-id-4 label.sk-toggleable__label-arrow:hover:before {color: black;}#sk-container-id-4 div.sk-estimator:hover label.sk-toggleable__label-arrow:before {color: black;}#sk-container-id-4 div.sk-toggleable__content {max-height: 0;max-width: 0;overflow: hidden;text-align: left;background-color: #f0f8ff;}#sk-container-id-4 div.sk-toggleable__content pre {margin: 0.2em;color: black;border-radius: 0.25em;background-color: #f0f8ff;}#sk-container-id-4 input.sk-toggleable__control:checked~div.sk-toggleable__content {max-height: 200px;max-width: 100%;overflow: auto;}#sk-container-id-4 input.sk-toggleable__control:checked~label.sk-toggleable__label-arrow:before {content: \"▾\";}#sk-container-id-4 div.sk-estimator input.sk-toggleable__control:checked~label.sk-toggleable__label {background-color: #d4ebff;}#sk-container-id-4 div.sk-label input.sk-toggleable__control:checked~label.sk-toggleable__label {background-color: #d4ebff;}#sk-container-id-4 input.sk-hidden--visually {border: 0;clip: rect(1px 1px 1px 1px);clip: rect(1px, 1px, 1px, 1px);height: 1px;margin: -1px;overflow: hidden;padding: 0;position: absolute;width: 1px;}#sk-container-id-4 div.sk-estimator {font-family: monospace;background-color: #f0f8ff;border: 1px dotted black;border-radius: 0.25em;box-sizing: border-box;margin-bottom: 0.5em;}#sk-container-id-4 div.sk-estimator:hover {background-color: #d4ebff;}#sk-container-id-4 div.sk-parallel-item::after {content: \"\";width: 100%;border-bottom: 1px solid gray;flex-grow: 1;}#sk-container-id-4 div.sk-label:hover label.sk-toggleable__label {background-color: #d4ebff;}#sk-container-id-4 div.sk-serial::before {content: \"\";position: absolute;border-left: 1px solid gray;box-sizing: border-box;top: 0;bottom: 0;left: 50%;z-index: 0;}#sk-container-id-4 div.sk-serial {display: flex;flex-direction: column;align-items: center;background-color: white;padding-right: 0.2em;padding-left: 0.2em;position: relative;}#sk-container-id-4 div.sk-item {position: relative;z-index: 1;}#sk-container-id-4 div.sk-parallel {display: flex;align-items: stretch;justify-content: center;background-color: white;position: relative;}#sk-container-id-4 div.sk-item::before, #sk-container-id-4 div.sk-parallel-item::before {content: \"\";position: absolute;border-left: 1px solid gray;box-sizing: border-box;top: 0;bottom: 0;left: 50%;z-index: -1;}#sk-container-id-4 div.sk-parallel-item {display: flex;flex-direction: column;z-index: 1;position: relative;background-color: white;}#sk-container-id-4 div.sk-parallel-item:first-child::after {align-self: flex-end;width: 50%;}#sk-container-id-4 div.sk-parallel-item:last-child::after {align-self: flex-start;width: 50%;}#sk-container-id-4 div.sk-parallel-item:only-child::after {width: 0;}#sk-container-id-4 div.sk-dashed-wrapped {border: 1px dashed gray;margin: 0 0.4em 0.5em 0.4em;box-sizing: border-box;padding-bottom: 0.4em;background-color: white;}#sk-container-id-4 div.sk-label label {font-family: monospace;font-weight: bold;display: inline-block;line-height: 1.2em;}#sk-container-id-4 div.sk-label-container {text-align: center;}#sk-container-id-4 div.sk-container {/* jupyter's `normalize.less` sets `[hidden] { display: none; }` but bootstrap.min.css set `[hidden] { display: none !important; }` so we also need the `!important` here to be able to override the default hidden behavior on the sphinx rendered scikit-learn.org. See: https://github.com/scikit-learn/scikit-learn/issues/21755 */display: inline-block !important;position: relative;}#sk-container-id-4 div.sk-text-repr-fallback {display: none;}</style><div id=\"sk-container-id-4\" class=\"sk-top-container\"><div class=\"sk-text-repr-fallback\"><pre>LogisticRegression(C=0.1)</pre><b>In a Jupyter environment, please rerun this cell to show the HTML representation or trust the notebook. <br />On GitHub, the HTML representation is unable to render, please try loading this page with nbviewer.org.</b></div><div class=\"sk-container\" hidden><div class=\"sk-item\"><div class=\"sk-estimator sk-toggleable\"><input class=\"sk-toggleable__control sk-hidden--visually\" id=\"sk-estimator-id-4\" type=\"checkbox\" checked><label for=\"sk-estimator-id-4\" class=\"sk-toggleable__label sk-toggleable__label-arrow\">LogisticRegression</label><div class=\"sk-toggleable__content\"><pre>LogisticRegression(C=0.1)</pre></div></div></div></div></div>"
            ]
          },
          "metadata": {},
          "execution_count": 29
        }
      ],
      "source": [
        "modelLR = LogisticRegression(C=0.1)\n",
        "modelLR.fit(trainData, trainLabels)"
      ]
    },
    {
      "cell_type": "markdown",
      "metadata": {
        "id": "AdCC_N2TZBfm"
      },
      "source": [
        "**Redes neuronales**"
      ]
    },
    {
      "cell_type": "code",
      "execution_count": null,
      "metadata": {
        "collapsed": true,
        "id": "WI6sAHvdZBfm",
        "colab": {
          "base_uri": "https://localhost:8080/",
          "height": 92
        },
        "outputId": "729cbb52-ed4a-45ab-d45d-6cdfd3ab205a"
      },
      "outputs": [
        {
          "output_type": "execute_result",
          "data": {
            "text/plain": [
              "MLPClassifier(hidden_layer_sizes=(3, 3, 3), learning_rate_init=0.01,\n",
              "              momentum=0.95)"
            ],
            "text/html": [
              "<style>#sk-container-id-5 {color: black;background-color: white;}#sk-container-id-5 pre{padding: 0;}#sk-container-id-5 div.sk-toggleable {background-color: white;}#sk-container-id-5 label.sk-toggleable__label {cursor: pointer;display: block;width: 100%;margin-bottom: 0;padding: 0.3em;box-sizing: border-box;text-align: center;}#sk-container-id-5 label.sk-toggleable__label-arrow:before {content: \"▸\";float: left;margin-right: 0.25em;color: #696969;}#sk-container-id-5 label.sk-toggleable__label-arrow:hover:before {color: black;}#sk-container-id-5 div.sk-estimator:hover label.sk-toggleable__label-arrow:before {color: black;}#sk-container-id-5 div.sk-toggleable__content {max-height: 0;max-width: 0;overflow: hidden;text-align: left;background-color: #f0f8ff;}#sk-container-id-5 div.sk-toggleable__content pre {margin: 0.2em;color: black;border-radius: 0.25em;background-color: #f0f8ff;}#sk-container-id-5 input.sk-toggleable__control:checked~div.sk-toggleable__content {max-height: 200px;max-width: 100%;overflow: auto;}#sk-container-id-5 input.sk-toggleable__control:checked~label.sk-toggleable__label-arrow:before {content: \"▾\";}#sk-container-id-5 div.sk-estimator input.sk-toggleable__control:checked~label.sk-toggleable__label {background-color: #d4ebff;}#sk-container-id-5 div.sk-label input.sk-toggleable__control:checked~label.sk-toggleable__label {background-color: #d4ebff;}#sk-container-id-5 input.sk-hidden--visually {border: 0;clip: rect(1px 1px 1px 1px);clip: rect(1px, 1px, 1px, 1px);height: 1px;margin: -1px;overflow: hidden;padding: 0;position: absolute;width: 1px;}#sk-container-id-5 div.sk-estimator {font-family: monospace;background-color: #f0f8ff;border: 1px dotted black;border-radius: 0.25em;box-sizing: border-box;margin-bottom: 0.5em;}#sk-container-id-5 div.sk-estimator:hover {background-color: #d4ebff;}#sk-container-id-5 div.sk-parallel-item::after {content: \"\";width: 100%;border-bottom: 1px solid gray;flex-grow: 1;}#sk-container-id-5 div.sk-label:hover label.sk-toggleable__label {background-color: #d4ebff;}#sk-container-id-5 div.sk-serial::before {content: \"\";position: absolute;border-left: 1px solid gray;box-sizing: border-box;top: 0;bottom: 0;left: 50%;z-index: 0;}#sk-container-id-5 div.sk-serial {display: flex;flex-direction: column;align-items: center;background-color: white;padding-right: 0.2em;padding-left: 0.2em;position: relative;}#sk-container-id-5 div.sk-item {position: relative;z-index: 1;}#sk-container-id-5 div.sk-parallel {display: flex;align-items: stretch;justify-content: center;background-color: white;position: relative;}#sk-container-id-5 div.sk-item::before, #sk-container-id-5 div.sk-parallel-item::before {content: \"\";position: absolute;border-left: 1px solid gray;box-sizing: border-box;top: 0;bottom: 0;left: 50%;z-index: -1;}#sk-container-id-5 div.sk-parallel-item {display: flex;flex-direction: column;z-index: 1;position: relative;background-color: white;}#sk-container-id-5 div.sk-parallel-item:first-child::after {align-self: flex-end;width: 50%;}#sk-container-id-5 div.sk-parallel-item:last-child::after {align-self: flex-start;width: 50%;}#sk-container-id-5 div.sk-parallel-item:only-child::after {width: 0;}#sk-container-id-5 div.sk-dashed-wrapped {border: 1px dashed gray;margin: 0 0.4em 0.5em 0.4em;box-sizing: border-box;padding-bottom: 0.4em;background-color: white;}#sk-container-id-5 div.sk-label label {font-family: monospace;font-weight: bold;display: inline-block;line-height: 1.2em;}#sk-container-id-5 div.sk-label-container {text-align: center;}#sk-container-id-5 div.sk-container {/* jupyter's `normalize.less` sets `[hidden] { display: none; }` but bootstrap.min.css set `[hidden] { display: none !important; }` so we also need the `!important` here to be able to override the default hidden behavior on the sphinx rendered scikit-learn.org. See: https://github.com/scikit-learn/scikit-learn/issues/21755 */display: inline-block !important;position: relative;}#sk-container-id-5 div.sk-text-repr-fallback {display: none;}</style><div id=\"sk-container-id-5\" class=\"sk-top-container\"><div class=\"sk-text-repr-fallback\"><pre>MLPClassifier(hidden_layer_sizes=(3, 3, 3), learning_rate_init=0.01,\n",
              "              momentum=0.95)</pre><b>In a Jupyter environment, please rerun this cell to show the HTML representation or trust the notebook. <br />On GitHub, the HTML representation is unable to render, please try loading this page with nbviewer.org.</b></div><div class=\"sk-container\" hidden><div class=\"sk-item\"><div class=\"sk-estimator sk-toggleable\"><input class=\"sk-toggleable__control sk-hidden--visually\" id=\"sk-estimator-id-5\" type=\"checkbox\" checked><label for=\"sk-estimator-id-5\" class=\"sk-toggleable__label sk-toggleable__label-arrow\">MLPClassifier</label><div class=\"sk-toggleable__content\"><pre>MLPClassifier(hidden_layer_sizes=(3, 3, 3), learning_rate_init=0.01,\n",
              "              momentum=0.95)</pre></div></div></div></div></div>"
            ]
          },
          "metadata": {},
          "execution_count": 30
        }
      ],
      "source": [
        "modelMultiLayerPerceptron = MLPClassifier(momentum=0.95,hidden_layer_sizes=(3,3,3),learning_rate_init=0.01)\n",
        "modelMultiLayerPerceptron.fit(trainData, trainLabels)"
      ]
    },
    {
      "cell_type": "markdown",
      "metadata": {
        "id": "6FYNnuuRZBfm"
      },
      "source": [
        "### 3. Evaluando los algoritmos en el conjunto de test\n",
        "\n",
        "Para evaluar los distintos algoritmos vamos a utilizar la función classification_report de la librería sklearn. Para ello hacemos la predicción con respecto al conjunto de test y mostramos los resultados."
      ]
    },
    {
      "cell_type": "code",
      "execution_count": null,
      "metadata": {
        "id": "pc9hWLVnZBfm",
        "colab": {
          "base_uri": "https://localhost:8080/"
        },
        "outputId": "0d3d23b1-b42d-46ff-a65a-e57ee0ba860b"
      },
      "outputs": [
        {
          "output_type": "stream",
          "name": "stdout",
          "text": [
            "EVALUACIÓN EN CONJUNTO DE TEST USANDO KNN\n",
            "              precision    recall  f1-score   support\n",
            "\n",
            "         0.0       0.75      0.77      0.76       123\n",
            "         1.0       0.58      0.55      0.56        69\n",
            "\n",
            "    accuracy                           0.69       192\n",
            "   macro avg       0.66      0.66      0.66       192\n",
            "weighted avg       0.69      0.69      0.69       192\n",
            "\n"
          ]
        }
      ],
      "source": [
        "from sklearn.metrics import classification_report\n",
        "\n",
        "print(\"EVALUACIÓN EN CONJUNTO DE TEST USANDO KNN\")\n",
        "predictionsKNN = modelKNN.predict(testData)\n",
        "print(classification_report(testLabels, predictionsKNN))"
      ]
    },
    {
      "cell_type": "markdown",
      "metadata": {
        "id": "nX3fsS4_ZBfn"
      },
      "source": [
        "##### Ejercicio\n",
        "Repite lo mismo para árboles de decisión, regresión logística, SVMs, y redes neuronales multicapa."
      ]
    },
    {
      "cell_type": "markdown",
      "metadata": {
        "id": "Lu4MlJP8ZBfn"
      },
      "source": [
        "**Árboles de decisión**"
      ]
    },
    {
      "cell_type": "code",
      "execution_count": null,
      "metadata": {
        "id": "jIqpKKsOZBfn",
        "colab": {
          "base_uri": "https://localhost:8080/"
        },
        "outputId": "f2bf63d3-e908-4dea-b66e-2e26198fbdc3"
      },
      "outputs": [
        {
          "output_type": "stream",
          "name": "stdout",
          "text": [
            "EVALUACIÓN EN CONJUNTO DE TEST USANDO Árboles\n",
            "              precision    recall  f1-score   support\n",
            "\n",
            "         0.0       0.79      0.70      0.74       123\n",
            "         1.0       0.55      0.67      0.61        69\n",
            "\n",
            "    accuracy                           0.69       192\n",
            "   macro avg       0.67      0.68      0.67       192\n",
            "weighted avg       0.70      0.69      0.69       192\n",
            "\n"
          ]
        }
      ],
      "source": [
        "print(\"EVALUACIÓN EN CONJUNTO DE TEST USANDO Árboles\")\n",
        "predictionsArboles = modelArbol.predict(testData)\n",
        "print(classification_report(testLabels, predictionsArboles))"
      ]
    },
    {
      "cell_type": "markdown",
      "metadata": {
        "id": "RAGQcvTLZBfn"
      },
      "source": [
        "**Regresión Logística**"
      ]
    },
    {
      "cell_type": "code",
      "execution_count": null,
      "metadata": {
        "id": "WEWos-URZBfn",
        "colab": {
          "base_uri": "https://localhost:8080/"
        },
        "outputId": "69b8689c-a584-4a5d-8391-6f99a23c49e3"
      },
      "outputs": [
        {
          "output_type": "stream",
          "name": "stdout",
          "text": [
            "EVALUACIÓN EN CONJUNTO DE TEST USANDO LR\n",
            "              precision    recall  f1-score   support\n",
            "\n",
            "         0.0       0.79      0.77      0.78       123\n",
            "         1.0       0.61      0.62      0.61        69\n",
            "\n",
            "    accuracy                           0.72       192\n",
            "   macro avg       0.70      0.70      0.70       192\n",
            "weighted avg       0.72      0.72      0.72       192\n",
            "\n"
          ]
        }
      ],
      "source": [
        "print(\"EVALUACIÓN EN CONJUNTO DE TEST USANDO LR\")\n",
        "predictionsLR = modelLR.predict(testData)\n",
        "print(classification_report(testLabels, predictionsLR))"
      ]
    },
    {
      "cell_type": "markdown",
      "metadata": {
        "id": "ueTWDte8ZBfo"
      },
      "source": [
        "**Redes neuronales**"
      ]
    },
    {
      "cell_type": "code",
      "execution_count": null,
      "metadata": {
        "id": "9RzppSNfZBfo",
        "colab": {
          "base_uri": "https://localhost:8080/"
        },
        "outputId": "26556509-5bd9-47ca-ac38-742e55cddda0"
      },
      "outputs": [
        {
          "output_type": "stream",
          "name": "stdout",
          "text": [
            "EVALUACIÓN EN CONJUNTO DE TEST USANDO Redes Neuronales\n",
            "              precision    recall  f1-score   support\n",
            "\n",
            "         0.0       0.64      1.00      0.78       123\n",
            "         1.0       0.00      0.00      0.00        69\n",
            "\n",
            "    accuracy                           0.64       192\n",
            "   macro avg       0.32      0.50      0.39       192\n",
            "weighted avg       0.41      0.64      0.50       192\n",
            "\n"
          ]
        }
      ],
      "source": [
        "print(\"EVALUACIÓN EN CONJUNTO DE TEST USANDO Redes Neuronales\")\n",
        "predictionsRN = modelMultiLayerPerceptron.predict(testData)\n",
        "print(classification_report(testLabels, predictionsRN))"
      ]
    },
    {
      "cell_type": "markdown",
      "metadata": {
        "id": "L4k9NIULZBfo"
      },
      "source": [
        "##### Pregunta\n",
        "¿Cuál de los clasificadores obtiene mejor precisión? ¿y recall? ¿y f-score?"
      ]
    },
    {
      "cell_type": "markdown",
      "metadata": {
        "collapsed": true,
        "id": "zyX6H2KHZBfp"
      },
      "source": [
        "Respuesta: \n",
        "Para precisión: El clasificador con mejor precisión es LR con 0.79.\n",
        "Para recall: El clasificador con mejor recall es el árbol de decisiones con 0.70.\n",
        "Para f-score: El clasificador con mejor f-score es LR con  0.72."
      ]
    },
    {
      "cell_type": "code",
      "source": [],
      "metadata": {
        "id": "H1pQlnfKb8E8"
      },
      "execution_count": null,
      "outputs": []
    },
    {
      "cell_type": "markdown",
      "metadata": {
        "id": "ipmywugvZBfp"
      },
      "source": [
        "### 4. Comparando los algoritmos\n",
        "\n",
        "Hemos visto cómo obtener informes de las clasificaciones, pero para comparar los algoritmos puede resultar útil utilizar las curvas ROC de cada uno de ellos."
      ]
    },
    {
      "cell_type": "code",
      "execution_count": null,
      "metadata": {
        "collapsed": true,
        "id": "Laq_cl90ZBfp"
      },
      "outputs": [],
      "source": [
        "import matplotlib.pyplot as plt\n",
        "from sklearn.metrics import roc_curve, auc\n",
        "%matplotlib inline"
      ]
    },
    {
      "cell_type": "markdown",
      "metadata": {
        "id": "-OyLXwWcZBfp"
      },
      "source": [
        "##### Ejercicio\n",
        "\n",
        "Estudia lo que hace la siguiente función."
      ]
    },
    {
      "cell_type": "code",
      "execution_count": null,
      "metadata": {
        "collapsed": true,
        "id": "D6BYzewfZBfp"
      },
      "outputs": [],
      "source": [
        "def drawROCCurves(classifiers,predictions,actualLabels):\n",
        "    plt.close()\n",
        "    plt.figure()\n",
        "    lw = 2\n",
        "    fpr = dict()\n",
        "    tpr=dict()\n",
        "    roc_auc =dict()\n",
        "    for i,_ in enumerate(classifiers):\n",
        "        fpr[i],tpr[i],_=roc_curve(actualLabels,predictions[i])\n",
        "        roc_auc[i]=auc(fpr[i],tpr[i])\n",
        "\n",
        "    colours = ['darkorange','aqua','red','green','cornflowerblue','yellow']\n",
        "    for i,_ in enumerate(classifiers):\n",
        "        plt.plot(fpr[i], tpr[i], color=colours[i], lw=lw, label='ROC curve %s (area = %0.2f)' % (classifiers[i],roc_auc[i]))\n",
        "    plt.plot([0, 1], [0, 1], color='navy', lw=lw, linestyle='--')\n",
        "    plt.xlim([0.0, 1.0])\n",
        "    plt.ylim([0.0, 1.05])\n",
        "    plt.xlabel('False Positive Rate')\n",
        "    plt.ylabel('True Positive Rate')\n",
        "    plt.title('Receiver operating characteristic example')\n",
        "    plt.legend(loc=\"lower right\")\n",
        "    plt.show()"
      ]
    },
    {
      "cell_type": "code",
      "execution_count": null,
      "metadata": {
        "id": "SxhNOJkUZBfq",
        "colab": {
          "base_uri": "https://localhost:8080/",
          "height": 472
        },
        "outputId": "07edb703-b794-4869-c2a8-f7d6883022d2"
      },
      "outputs": [
        {
          "output_type": "display_data",
          "data": {
            "text/plain": [
              "<Figure size 640x480 with 1 Axes>"
            ],
            "image/png": "[encoded data removed]"
          },
          "metadata": {}
        }
      ],
      "source": [
        "drawROCCurves(['KNN'],[predictionsKNN],testLabels)"
      ]
    },
    {
      "cell_type": "markdown",
      "metadata": {
        "id": "O_W-NkR9ZBfq"
      },
      "source": [
        "##### Ejercicio\n",
        "\n",
        "Utilizando la función anterior genera la curva ROC de todos los clasificadores que has definido anteriormente."
      ]
    },
    {
      "cell_type": "code",
      "execution_count": null,
      "metadata": {
        "collapsed": true,
        "id": "cl9Z39fnZBfq",
        "colab": {
          "base_uri": "https://localhost:8080/",
          "height": 472
        },
        "outputId": "d7669aac-a01d-42b6-f06d-da626475c508"
      },
      "outputs": [
        {
          "output_type": "display_data",
          "data": {
            "text/plain": [
              "<Figure size 640x480 with 1 Axes>"
            ],
            "image/png": "[encoded data removed]"
          },
          "metadata": {}
        }
      ],
      "source": [
        "drawROCCurves(['Árbol'],[predictionsArboles],testLabels)"
      ]
    },
    {
      "cell_type": "code",
      "source": [
        "drawROCCurves(['LR'],[predictionsLR],testLabels)"
      ],
      "metadata": {
        "id": "Gqp17Rmzhf14",
        "outputId": "491a8b1c-2b3f-4505-a0b8-cbf290df60c7",
        "colab": {
          "base_uri": "https://localhost:8080/",
          "height": 472
        }
      },
      "execution_count": null,
      "outputs": [
        {
          "output_type": "display_data",
          "data": {
            "text/plain": [
              "<Figure size 640x480 with 1 Axes>"
            ],
            "image/png": "[encoded data removed]"
          },
          "metadata": {}
        }
      ]
    },
    {
      "cell_type": "code",
      "source": [
        "drawROCCurves(['Red Neuronal'],[predictionsRN],testLabels)"
      ],
      "metadata": {
        "id": "O8l6vYk9hgIW",
        "outputId": "a37281fc-e3b5-40e5-8d8e-16e4f967295a",
        "colab": {
          "base_uri": "https://localhost:8080/",
          "height": 472
        }
      },
      "execution_count": null,
      "outputs": [
        {
          "output_type": "display_data",
          "data": {
            "text/plain": [
              "<Figure size 640x480 with 1 Axes>"
            ],
            "image/png": "[encoded data removed]"
          },
          "metadata": {}
        }
      ]
    },
    {
      "cell_type": "markdown",
      "source": [
        "Comparar"
      ],
      "metadata": {
        "id": "8W7l9KdkhtKy"
      }
    },
    {
      "cell_type": "code",
      "source": [],
      "metadata": {
        "id": "DTjqF8-thsmL"
      },
      "execution_count": null,
      "outputs": []
    }
  ]
}